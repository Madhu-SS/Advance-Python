{
 "cells": [
  {
   "cell_type": "markdown",
   "id": "4fe7ea33",
   "metadata": {},
   "source": [
    "REST (Representational State Transfer) API is an architectural style for designing networked applications. It's based on a set of principles that describe how networked resources are defined and addressed."
   ]
  },
  {
   "cell_type": "markdown",
   "id": "aab7a0b8",
   "metadata": {},
   "source": [
    "RESTful APIs are widely used for building web services and APIs because they provide a flexible and scalable way for different systems to communicate with each other over the internet. They are commonly used in web development for implementing server-side functionality that can be accessed by various client applications, including web browsers, mobile apps, and IoT devices.\n",
    "\n",
    "\n",
    "\n",
    "\n",
    "\n"
   ]
  },
  {
   "cell_type": "markdown",
   "id": "d35a181d",
   "metadata": {},
   "source": [
    "REST: Architecture\n",
    "* It defines several guidelines to develop web apis very easily\n",
    "* The APIs which are developed by using REST is called Restful APIs\n"
   ]
  },
  {
   "cell_type": "markdown",
   "id": "58e9836e",
   "metadata": {},
   "source": [
    "Django Rest Framework is a toolkit to develop RESTful APIs very easily"
   ]
  },
  {
   "cell_type": "markdown",
   "id": "8137d75b",
   "metadata": {},
   "source": [
    "Common Language : HTTP\n",
    "\n",
    "Common Message Format: JSON/XML"
   ]
  },
  {
   "cell_type": "markdown",
   "id": "2408db90",
   "metadata": {},
   "source": [
    "HTTP (Hypertext Transfer Protocol) is a protocol used for communication between web servers and clients. It enables the transfer of data over the internet. HTTP operates on a client-server model, where clients such as web browsers request resources like web pages, and servers respond with the requested information. It follows a stateless request-response cycle, where each request from the client is independent of previous requests. HTTP utilizes methods like GET, POST, PUT, DELETE to specify the action to be performed on a resource. It also supports headers for additional information exchange between the client and server."
   ]
  },
  {
   "cell_type": "markdown",
   "id": "3bf0e7db",
   "metadata": {},
   "source": [
    "GET ---> TO get one/more resources\n",
    "\n",
    "POST ---> To create a new resources\n",
    "\n",
    "PUT ---> To update a resources\n",
    "\n",
    "PATCH ---> Partial updates just change emp salary\n",
    "\n",
    "DELETE ---> To delete a resources"
   ]
  },
  {
   "cell_type": "markdown",
   "id": "46fc23bb",
   "metadata": {},
   "source": [
    "Database CRUD operations vs HTTP verbs\n",
    "* C--->Create--->POST\n",
    "* R--->Retrivel/Read---->GET\n",
    "* U--->Update--->PUT/PATCH\n",
    "* D--->Delete--->Delete"
   ]
  },
  {
   "cell_type": "markdown",
   "id": "45ec58f8",
   "metadata": {},
   "source": [
    "Web service provider vs Web service consumer\n",
    "\n",
    "eg:- payment gateway app--->BookMyshow"
   ]
  },
  {
   "cell_type": "markdown",
   "id": "4194d7c4",
   "metadata": {},
   "source": [
    " #### SOAP\n",
    " * simple object access protocol\n",
    " * XML Based manager protocol\n",
    " * WSDL required\n",
    " * By using RPC method calls we can consumes soak based webservices\n",
    " * Does not return human readable results\n",
    " * Heavy weight\n",
    " * More bandwidth\n",
    " * like HTTP,SMTP,FTP etc\n",
    " * Less Performance\n",
    " * More Secured\n",
    " * Nolimit on length of data\n",
    " * Eg: Google\n",
    " \n",
    " #### REST\n",
    " * Representational State Transfer\n",
    " * Architecture style\n",
    " * No WSDL required\n",
    " * By using URL path we can consume REST services\n",
    " * JSON\n",
    " * Light weight\n",
    " * Less Band width\n",
    " * Mostly HTTP\n",
    " * More performance\n",
    " * Less Secured\n",
    " * Limit on lenght of data\n",
    " * Yahoo"
   ]
  },
  {
   "cell_type": "markdown",
   "id": "20c39538",
   "metadata": {},
   "source": [
    "Python to JSON -----> dumps()\n",
    "\n",
    "JSON to Python -----> loads()"
   ]
  },
  {
   "cell_type": "markdown",
   "id": "7a54266e",
   "metadata": {},
   "source": [
    "# Without RestAPI"
   ]
  },
  {
   "cell_type": "markdown",
   "id": "030e1282",
   "metadata": {},
   "source": [
    "#### Creating Web API\n",
    "STEP 1: Write a code in views.py\n"
   ]
  },
  {
   "cell_type": "raw",
   "id": "54a68ea7",
   "metadata": {},
   "source": [
    "from django.http import HttpResponse\n",
    "from django.http import JsonResponse\n",
    "import json\n",
    "\n",
    "def emp_data_jsonview(request):\n",
    "    emp_data={\n",
    "        'eno':100,\n",
    "        'ename':'Madhu',\n",
    "        'esal':30000,\n",
    "        'eaddr':\"tumkur\"\n",
    "    }\n",
    "    json_data=json.dumps(emp_data)\n",
    "    return HttpResponse(json_data,content_type='application/json')\n",
    "    \n",
    "or \n",
    "\n",
    "def emp_data_jsonview2(request):\n",
    "    emp_data={\n",
    "        'eno':100,\n",
    "        'ename':'Madhu',\n",
    "        'esal':30000,\n",
    "        'eaddr':\"tumkur\"\n",
    "    }\n",
    "    return JsonResponse(emp_data)"
   ]
  },
  {
   "cell_type": "markdown",
   "id": "8572caf3",
   "metadata": {},
   "source": [
    "STEP 2: Write a code in urls.py"
   ]
  },
  {
   "cell_type": "raw",
   "id": "b51bf474",
   "metadata": {},
   "source": [
    "urlpatterns = [\n",
    "    path('admin/', admin.site.urls),\n",
    "    path('apijson1/',emp_data_jsonview,name='emp_data_jsonview'),\n",
    "    path('apijson2/',emp_data_jsonview2,name='emp_data_jsonview2'),\n",
    "]"
   ]
  },
  {
   "cell_type": "markdown",
   "id": "af323516",
   "metadata": {},
   "source": [
    "STEP 3: Runserver"
   ]
  },
  {
   "cell_type": "raw",
   "id": "d780c620",
   "metadata": {},
   "source": [
    "ptyhon manage.py runserver"
   ]
  },
  {
   "cell_type": "markdown",
   "id": "b74aa106",
   "metadata": {},
   "source": [
    "STEP 4: http://127.0.0.1:8000/apijson2/"
   ]
  },
  {
   "cell_type": "markdown",
   "id": "2c107525",
   "metadata": {},
   "source": [
    "STEP 5: install httpie"
   ]
  },
  {
   "cell_type": "raw",
   "id": "eb906c78",
   "metadata": {},
   "source": [
    "pip install httpie"
   ]
  },
  {
   "cell_type": "markdown",
   "id": "e0535865",
   "metadata": {},
   "source": [
    "STEP 6: in cmd"
   ]
  },
  {
   "cell_type": "raw",
   "id": "25dd782c",
   "metadata": {},
   "source": [
    "http  http://127.0.0.1:8000/apijson2/"
   ]
  },
  {
   "cell_type": "raw",
   "id": "cace3fb7",
   "metadata": {},
   "source": [
    "HTTP/1.1 200 OK\n",
    "Content-Length: 64\n",
    "Content-Type: application/json\n",
    "Cross-Origin-Opener-Policy: same-origin\n",
    "Date: Sat, 16 Mar 2024 14:17:41 GMT\n",
    "Referrer-Policy: same-origin\n",
    "Server: WSGIServer/0.2 CPython/3.12.2\n",
    "X-Content-Type-Options: nosniff\n",
    "X-Frame-Options: DENY\n",
    "\n",
    "{\n",
    "    \"eaddr\": \"tumkur\",\n",
    "    \"ename\": \"Madhu\",\n",
    "    \"eno\": 100,\n",
    "    \"esal\": 30000\n",
    "}"
   ]
  },
  {
   "cell_type": "markdown",
   "id": "c5893e17",
   "metadata": {},
   "source": [
    "STEP 7: in consumer file write a code (eg:test.py in main folder)"
   ]
  },
  {
   "cell_type": "raw",
   "id": "84df0a91",
   "metadata": {},
   "source": [
    "pip install requests"
   ]
  },
  {
   "cell_type": "raw",
   "id": "d02c0411",
   "metadata": {},
   "source": [
    "import requests\n",
    "BASE_URL='http://127.0.0.1:8000/'\n",
    "ENDPOINT='apijson2'\n",
    "resp=requests.get(BASE_URL+ENDPOINT)\n",
    "print(resp.json())"
   ]
  },
  {
   "cell_type": "raw",
   "id": "f01d27ff",
   "metadata": {},
   "source": [
    "(F:\\Django\\Django First Project\\djfw) F:\\Django\\Django First Project\\RestAPI>python test.py\n",
    "{'eno': 100, 'ename': 'Madhu', 'esal': 30000, 'eaddr': 'tumkur'}"
   ]
  },
  {
   "cell_type": "markdown",
   "id": "8b94419e",
   "metadata": {},
   "source": [
    "# ---------------------------------------------------------------------------------------------------------------\n",
    "one example:"
   ]
  },
  {
   "cell_type": "raw",
   "id": "86f923ae",
   "metadata": {},
   "source": [
    "import requests\n",
    "BASE_URL='http://127.0.0.1:8000/'\n",
    "ENDPOINT='apijson2'\n",
    "resp=requests.get(BASE_URL+ENDPOINT)\n",
    "data=resp.json()\n",
    "print('Employee number:',data['eno'])\n",
    "print('Employee name:',data['ename'])\n",
    "print('Employee salary:',data['esal'])\n",
    "print('Employee number:',data['eaddr'])"
   ]
  },
  {
   "cell_type": "raw",
   "id": "09c463d9",
   "metadata": {},
   "source": [
    "(F:\\Django\\Django First Project\\djfw) F:\\Django\\Django First Project\\RestAPI>python test.py\n",
    "Employee number: 100\n",
    "Employee name: Madhu  \n",
    "Employee salary: 30000\n",
    "Employee number: tumkur"
   ]
  },
  {
   "cell_type": "markdown",
   "id": "55cfc215",
   "metadata": {},
   "source": [
    "# ---------------------------------------------------------------------------------------------------------------\n",
    "#### how to write a class views\n",
    "in views.py"
   ]
  },
  {
   "cell_type": "raw",
   "id": "f6fb4cbe",
   "metadata": {},
   "source": [
    "from django.views.generic import View\n",
    "class JsonCBV(View):\n",
    "    def get(self,request,*args,**kwargs):\n",
    "        emp_data={\n",
    "        'eno':100,\n",
    "        'ename':'Madhu',\n",
    "        'esal':30000,\n",
    "        'eaddr':\"tumkur\"\n",
    "        }\n",
    "        return JsonResponse(emp_data)"
   ]
  },
  {
   "cell_type": "markdown",
   "id": "7dab54c2",
   "metadata": {},
   "source": [
    "in urls.py"
   ]
  },
  {
   "cell_type": "raw",
   "id": "7c82cacc",
   "metadata": {},
   "source": [
    "from firstapp import views\n",
    "\n",
    "urlpatterns = [\n",
    "    path('admin/', admin.site.urls),\n",
    "    path('apijsoncbv/',views.JsonCBV.as_view()),\n",
    "]"
   ]
  },
  {
   "cell_type": "raw",
   "id": "1f6b1aa9",
   "metadata": {},
   "source": [
    "MIDDLEWARE = [\n",
    "    'django.middleware.security.SecurityMiddleware',\n",
    "    'django.contrib.sessions.middleware.SessionMiddleware',\n",
    "    'django.middleware.common.CommonMiddleware',\n",
    "    # 'django.middleware.csrf.CsrfViewMiddleware',\n",
    "    'django.contrib.auth.middleware.AuthenticationMiddleware',\n",
    "    'django.contrib.messages.middleware.MessageMiddleware',\n",
    "    'django.middleware.clickjacking.XFrameOptionsMiddleware',\n",
    "]"
   ]
  },
  {
   "cell_type": "markdown",
   "id": "a97f2649",
   "metadata": {},
   "source": [
    "in test.py"
   ]
  },
  {
   "cell_type": "raw",
   "id": "5451c611",
   "metadata": {},
   "source": [
    "import requests\n",
    "BASE_URL='http://127.0.0.1:8000/'\n",
    "ENDPOINT='apijsoncbv'\n",
    "resp=requests.get(BASE_URL+ENDPOINT)\n",
    "data=resp.json()\n",
    "print('Employee number:',data['eno'])\n",
    "print('Employee name:',data['ename'])\n",
    "print('Employee salary:',data['esal'])\n",
    "print('Employee number:',data['eaddr'])"
   ]
  },
  {
   "cell_type": "markdown",
   "id": "0103e7f4",
   "metadata": {},
   "source": [
    "in cmd"
   ]
  },
  {
   "cell_type": "raw",
   "id": "229fd408",
   "metadata": {},
   "source": [
    "(F:\\Django\\Django First Project\\djfw) F:\\Django\\Django First Project\\RestAPI>python test.py\n",
    "Employee number: 100\n",
    "Employee name: Madhu\n",
    "Employee salary: 30000\n",
    "Employee number: tumkur"
   ]
  },
  {
   "cell_type": "raw",
   "id": "69e52d61",
   "metadata": {},
   "source": [
    "from django.views.generic import View\n",
    "\n",
    "class JsonCBV(View):\n",
    "    def get(self,request,*args,**kwargs):\n",
    "        json_data=json.dumps({'msg':'This is from get method'})\n",
    "        return HttpResponse(json_data,content_type='application/json')\n",
    "    \n",
    "    def post(self,request,*args,**kwargs):\n",
    "        json_data=json.dumps({'msg':'This is from post method'})\n",
    "        return HttpResponse(json_data,content_type='application/json')\n",
    "    \n",
    "    def put(self,request,*args,**kwargs):\n",
    "        json_data=json.dumps({'msg':'This is from put method'})\n",
    "        return HttpResponse(json_data,content_type='application/json')\n",
    "    \n",
    "    def delete(self,request,*args,**kwargs):\n",
    "        json_data=json.dumps({'msg':'This is from delete method'})\n",
    "        return HttpResponse(json_data,content_type='application/json')\n"
   ]
  },
  {
   "cell_type": "raw",
   "id": "37e1c1da",
   "metadata": {},
   "source": [
    "import requests\n",
    "BASE_URL='http://127.0.0.1:8000/'\n",
    "ENDPOINT='apijsoncbv'\n",
    "resp=requests.post(BASE_URL+ENDPOINT)\n",
    "data=resp.json()\n",
    "print(data)\n",
    "print(resp.text)"
   ]
  },
  {
   "cell_type": "markdown",
   "id": "239d0422",
   "metadata": {},
   "source": [
    "#### MIxins\n",
    "* Parent class instantation is not possible\n",
    "* Parent class contains only instance methods but not instance variables\n",
    "* The methods are useful only for child classes\n",
    "* Parent class should be direct child class of object\n",
    "\n",
    "#### Multiple Inheritance\n",
    "* Parent class instantation os possible\n",
    "* Parent class contains both instance methods and instance variables\n",
    "* The methods are useful for both parent class child class\n",
    "* Parent class can extend any other class also need not be object class"
   ]
  },
  {
   "cell_type": "markdown",
   "id": "74e54c3c",
   "metadata": {},
   "source": [
    "in mixins.py file"
   ]
  },
  {
   "cell_type": "raw",
   "id": "efa248aa",
   "metadata": {},
   "source": [
    "from django.http import HttpResponse\n",
    "class HttpResponseMixin(object):\n",
    "    def render_to_http_response(self,json_data):\n",
    "        return HttpResponse(json_data,content_type='applicaton/json')"
   ]
  },
  {
   "cell_type": "markdown",
   "id": "312de39d",
   "metadata": {},
   "source": [
    "in views.py file"
   ]
  },
  {
   "cell_type": "raw",
   "id": "927a56ea",
   "metadata": {},
   "source": [
    "from django.http import HttpResponse\n",
    "import json\n",
    "\n",
    "from django.views.generic import View\n",
    "from firstapp.mixins import HttpResponseMixin\n",
    "class JsonCBV(HttpResponseMixin,View):\n",
    "    def get(self,request,*args,**kwargs):\n",
    "        json_data=json.dumps({'msg':'This is from get method'})\n",
    "        return HttpResponse(json_data,content_type='application/json')\n",
    "    \n",
    "    def post(self,request,*args,**kwargs):\n",
    "        json_data=json.dumps({'msg':'This is from post method'})\n",
    "        print(json_data)\n",
    "        return HttpResponse(json_data,content_type='application/json')\n",
    "    \n",
    "    def put(self,request,*args,**kwargs):\n",
    "        json_data=json.dumps({'msg':'This is from put method'})\n",
    "        return HttpResponse(json_data,content_type='application/json')\n",
    "    \n",
    "    def delete(self,request,*args,**kwargs):\n",
    "        json_data=json.dumps({'msg':'This is from delete method'})\n",
    "        return HttpResponse(json_data,content_type='application/json')\n"
   ]
  },
  {
   "cell_type": "markdown",
   "id": "f14fe776",
   "metadata": {},
   "source": [
    "# ---------------------------------------------------------------------------------------------------------------\n",
    "#### Performing Database CRUD operations by using web API without REST Framework\n",
    "#### R-Retrival\n",
    "\n"
   ]
  },
  {
   "cell_type": "markdown",
   "id": "36c67d48",
   "metadata": {},
   "source": [
    "how to check code status\n",
    "* 1XX--->Information\n",
    "* 2XX--->Successful\n",
    "* 3XX--->Redirectional\n",
    "* 4XX--->Client Error\n",
    "* 5XX--->Server Error"
   ]
  },
  {
   "cell_type": "raw",
   "id": "2fe70dd8",
   "metadata": {},
   "source": [
    "#in models.py\n",
    "\n",
    "from django.db import models\n",
    "\n",
    "# Create your models here.\n",
    "class Employees(models.Model):\n",
    "    eno=models.IntegerField()\n",
    "    ename=models.CharField(max_length=64)\n",
    "    esal=models.FloatField()\n",
    "    eaddr=models.CharField(max_length=64)\n"
   ]
  },
  {
   "cell_type": "raw",
   "id": "a0e385d7",
   "metadata": {},
   "source": [
    "#in admins.py\n",
    "\n",
    "from django.contrib import admin\n",
    "from firstapp.models import Employees\n",
    "\n",
    "# Register your models here.\n",
    "class EmployeeAdmin(admin.ModelAdmin):\n",
    "    list_display=['id','eno','ename','esal','eaddr']\n",
    "\n",
    "admin.site.register(Employees,EmployeeAdmin)"
   ]
  },
  {
   "cell_type": "markdown",
   "id": "a257735c",
   "metadata": {},
   "source": [
    "insert data via Amin interface"
   ]
  },
  {
   "cell_type": "raw",
   "id": "11c04ee4",
   "metadata": {},
   "source": [
    "#in views.py\n",
    "\n",
    "import json\n",
    "from firstapp.models import Employees\n",
    "from django.views.generic import View\n",
    "\n",
    "class EmployeeDetailCBV(View):\n",
    "    def get(self,request,*args,**kwargs):\n",
    "        emp=Employees.objects.get(id=1)\n",
    "        emp_data={\n",
    "            'eno':emp.eno,\n",
    "            'ename':emp.ename,\n",
    "            'esal':emp.esal,\n",
    "            'eaddr':emp.eaddr,\n",
    "        }\n",
    "        json_data=json.dumps(emp_data)\n",
    "        return HttpResponse(json_data)\n",
    "\n",
    "\n"
   ]
  },
  {
   "cell_type": "raw",
   "id": "aeb763e5",
   "metadata": {},
   "source": [
    "#in urls.py\n",
    "\n",
    "from django.contrib import admin\n",
    "from django.urls import path\n",
    "from firstapp import views\n",
    "\n",
    "urlpatterns = [\n",
    "    path('admin/', admin.site.urls),\n",
    "    path('api/',views.EmployeeDetailCBV.as_view(),name='EmployeeDetailCBV'),\n",
    "\n",
    "]\n"
   ]
  },
  {
   "cell_type": "raw",
   "id": "12f66bef",
   "metadata": {},
   "source": [
    "#in testing.py in main folder\n",
    "\n",
    "import requests\n",
    "BASE_URL='http://127.0.0.1:8000/'\n",
    "ENDPOINT='api'\n",
    "def get_resource():\n",
    "    resp=requests.get(BASE_URL+ENDPOINT)\n",
    "    print(resp.status_code)\n",
    "    print(resp.json())\n",
    "get_resource()\n",
    "    \n"
   ]
  },
  {
   "cell_type": "raw",
   "id": "e7cfd28d",
   "metadata": {},
   "source": [
    "#in cmd\n",
    "\n",
    "(F:\\Django\\Django First Project\\djfw) F:\\Django\\Django First Project\\RestAPI>python test.py\n",
    "200\n",
    "{'eno': 200, 'ename': 'madhu', 'esal': 100000.0, 'eaddr': 'madhugiri'}"
   ]
  },
  {
   "cell_type": "markdown",
   "id": "db5e298a",
   "metadata": {},
   "source": [
    "#### OR client need to specify the input"
   ]
  },
  {
   "cell_type": "raw",
   "id": "f68b9b15",
   "metadata": {},
   "source": [
    "#In views.py\n",
    "\n",
    "from django.http import HttpResponse\n",
    "import json\n",
    "from firstapp.models import Employees\n",
    "from django.views.generic import View\n",
    "\n",
    "class EmployeeDetailCBV(View):\n",
    "    def get(self,request,id,*args,**kwargs):\n",
    "        emp=Employees.objects.get(id=id)\n",
    "        emp_data={\n",
    "            'eno':emp.eno,\n",
    "            'ename':emp.ename,\n",
    "            'esal':emp.esal,\n",
    "            'eaddr':emp.eaddr,\n",
    "        }\n",
    "        json_data=json.dumps(emp_data)\n",
    "        return HttpResponse(json_data)\n"
   ]
  },
  {
   "cell_type": "raw",
   "id": "0fe7c471",
   "metadata": {},
   "source": [
    "#In Urls.py\n",
    "\n",
    "from django.contrib import admin\n",
    "from django.urls import path\n",
    "from firstapp import views\n",
    "\n",
    "urlpatterns = [\n",
    "    path('admin/', admin.site.urls),\n",
    "    path('api/<int:id>/', views.EmployeeDetailCBV.as_view(), name='EmployeeDetailCBV'),\n",
    "]"
   ]
  },
  {
   "cell_type": "raw",
   "id": "3a981af5",
   "metadata": {},
   "source": [
    "#in testing.py in main folder\n",
    "\n",
    "import requests\n",
    "BASE_URL='http://127.0.0.1:8000/'\n",
    "ENDPOINT='api'\n",
    "def get_resource():\n",
    "    resp=requests.get(BASE_URL+ENDPOINT)\n",
    "    print(resp.status_code)\n",
    "    print(resp.json())\n",
    "\n",
    "id=input('Enter some Id:')\n",
    "get_resource(id)"
   ]
  },
  {
   "cell_type": "raw",
   "id": "7a0c2282",
   "metadata": {},
   "source": [
    "(F:\\Django\\Django First Project\\djfw) F:\\Django\\Django First Project\\RestAPI>python test.py\n",
    "Enter some Id:1\n",
    "200\n",
    "{'eno': 200, 'ename': 'madhu', 'esal': 100000.0, 'eaddr': 'madhugiri'}"
   ]
  },
  {
   "cell_type": "markdown",
   "id": "7db81686",
   "metadata": {},
   "source": [
    "#### serializers\n",
    "in views.py writing a code in dict consume time\n",
    "\n",
    "so the django contain inbuilt module serializers"
   ]
  },
  {
   "cell_type": "raw",
   "id": "d11e7481",
   "metadata": {},
   "source": [
    "#In views.py file\n",
    "\n",
    "from firstapp.models import Employees\n",
    "from django.views.generic import View\n",
    "from django.core.serializers import serialize\n",
    "\n",
    "class EmployeeDetailCBV(View):\n",
    "    def get(self,request,id,*args,**kwargs):\n",
    "        emp=Employees.objects.get(id=id)        \n",
    "        json_data=serialize('json',[emp,])\n",
    "        return HttpResponse(json_data)\n"
   ]
  },
  {
   "cell_type": "raw",
   "id": "f1ae75b3",
   "metadata": {},
   "source": [
    "in cmd file\n",
    "\n",
    "(F:\\Django\\Django First Project\\djfw) F:\\Django\\Django First Project\\RestAPI>python test.py\n",
    "Enter some Id:2\n",
    "200\n",
    "[{'model': 'firstapp.employees', 'pk': 2, 'fields': {'eno': 2032, 'ename': 'Sinchu', 'esal': 200000.0, 'eaddr': 'ha'}}]"
   ]
  },
  {
   "cell_type": "markdown",
   "id": "e32e9262",
   "metadata": {},
   "source": [
    "we can also include only such object that we  want to display to the client"
   ]
  },
  {
   "cell_type": "raw",
   "id": "788d2d26",
   "metadata": {},
   "source": [
    "#in views.py file\n",
    "\n",
    "from firstapp.models import Employees\n",
    "from django.views.generic import View\n",
    "from django.core.serializers import serialize\n",
    "\n",
    "class EmployeeDetailCBV(View):\n",
    "    def get(self,request,id,*args,**kwargs):\n",
    "        emp=Employees.objects.get(id=id)        \n",
    "        json_data=serialize('json',[emp,],fields=('eno','ename','eaddr'))\n",
    "        return HttpResponse(json_data)\n"
   ]
  },
  {
   "cell_type": "raw",
   "id": "1241fe00",
   "metadata": {},
   "source": [
    "#in cmd file\n",
    "\n",
    "(F:\\Django\\Django First Project\\djfw) F:\\Django\\Django First Project\\RestAPI>python test.py\n",
    "Enter some Id:1\n",
    "200\n",
    "[{'model': 'firstapp.employees', 'pk': 1, 'fields': {'eno': 200, 'ename': 'madhu', 'eaddr': 'madhugiri'}}]"
   ]
  },
  {
   "cell_type": "markdown",
   "id": "2f75eb80",
   "metadata": {},
   "source": [
    "we can also display the entire data"
   ]
  },
  {
   "cell_type": "raw",
   "id": "4c17b167",
   "metadata": {},
   "source": [
    "#in views.py file\n",
    "\n",
    "import json\n",
    "from firstapp.models import Employees\n",
    "from django.views.generic import View\n",
    "from django.core.serializers import serialize\n",
    "\n",
    "class EmployeeDetailCBV(View):\n",
    "    def get(self,request,*args,**kwargs):\n",
    "        emp=Employees.objects.all()        \n",
    "        json_data=serialize('json',emp)\n",
    "        p_data=json.loads(json_data)\n",
    "        final_list=[]\n",
    "        for obj in p_data:\n",
    "            emp_data=obj['fields']\n",
    "            final_list.append(emp_data)\n",
    "        json_data=json.dumps(final_list)\n",
    "        return HttpResponse(json_data,content_type='application/json')"
   ]
  },
  {
   "cell_type": "raw",
   "id": "cac263f2",
   "metadata": {},
   "source": [
    "#in urls.py file\n",
    "\n",
    "from django.contrib import admin\n",
    "from django.urls import path\n",
    "from firstapp import views\n",
    "\n",
    "urlpatterns = [\n",
    "    path('admin/', admin.site.urls),\n",
    "    path('api/', views.EmployeeDetailCBV.as_view(), name='EmployeeDetailCBV'),\n",
    "]"
   ]
  },
  {
   "cell_type": "raw",
   "id": "5716ed29",
   "metadata": {},
   "source": [
    "#in test.py\n",
    "\n",
    "import requests\n",
    "BASE_URL='http://127.0.0.1:8000/'\n",
    "ENDPOINT='api/'\n",
    "def get_all():\n",
    "    resp=requests.get(BASE_URL+ENDPOINT)\n",
    "    print(resp.status_code)\n",
    "    print(resp.json())\n",
    "\n",
    "get_all()"
   ]
  },
  {
   "cell_type": "raw",
   "id": "acdb8d46",
   "metadata": {},
   "source": [
    "#in cmd\n",
    "\n",
    "(F:\\Django\\Django First Project\\djfw) F:\\Django\\Django First Project\\RestAPI>python test.py  \n",
    "200\n",
    "[{'eno': 200, 'ename': 'madhu', 'esal': 100000.0, 'eaddr': 'madhugiri'}, {'eno': 2032, 'ename': 'Sinchu', 'esal': 200000.0, 'eaddr': 'ha'}]"
   ]
  },
  {
   "cell_type": "markdown",
   "id": "98ef6688",
   "metadata": {},
   "source": [
    "please use mixin.py file here because whenever you are going to write multiple view function, this file become very useful, you not need to re write a code again and again"
   ]
  },
  {
   "cell_type": "raw",
   "id": "518ab33a",
   "metadata": {},
   "source": [
    "#in mixin.py file\n",
    "\n",
    "from django.core.serializers import serialize\n",
    "import json\n",
    "\n",
    "class SerializersMixin(object):\n",
    "    def serialize(self,qs):\n",
    "        json_data=serialize('json',qs)\n",
    "        p_data=json.loads(json_data)\n",
    "        final_list=[]\n",
    "        for obj in p_data:\n",
    "            emp_data=obj['fields']\n",
    "            final_list.append(emp_data)\n",
    "        json_data=json.dumps(final_list)\n",
    "        return json_data"
   ]
  },
  {
   "cell_type": "raw",
   "id": "12c18e3a",
   "metadata": {},
   "source": [
    "#in views.py file\n",
    "\n",
    "from django.http import HttpResponse\n",
    "from firstapp.models import Employees\n",
    "from django.views.generic import View\n",
    "from django.core.serializers import serialize\n",
    "\n",
    "from firstapp.mixins import SerializersMixin\n",
    "\n",
    "class EmployeeDetailCBV(SerializersMixin,View):\n",
    "    def get(self,request,id,*args,**kwargs):\n",
    "        emp=Employees.objects.get(id=id)        \n",
    "        json_data=self.serialize([emp,])\n",
    "        return HttpResponse(json_data,content_type='application/json')\n",
    "\n",
    "class EmployeeListCBV(SerializersMixin,View):\n",
    "    def get(self,request,*args,**kwargs):\n",
    "        qs=Employees.objects.all()        \n",
    "        json_data=self.serialize(qs)\n",
    "        return HttpResponse(json_data,content_type='application/json')\n",
    "\n"
   ]
  },
  {
   "cell_type": "markdown",
   "id": "457d7ef7",
   "metadata": {},
   "source": [
    "#### Exception Handling"
   ]
  },
  {
   "cell_type": "raw",
   "id": "8e78fe32",
   "metadata": {},
   "source": [
    "#in views.py\n",
    "\n",
    "import json\n",
    "from firstapp.models import Employees\n",
    "from django.views.generic import View\n",
    "from django.core.serializers import serialize\n",
    "\n",
    "from firstapp.mixins import SerializersMixin\n",
    "\n",
    "class EmployeeDetailCBV(SerializersMixin,View):\n",
    "    def get(self,request,id,*args,**kwargs):\n",
    "        try:\n",
    "            emp=Employees.objects.get(id=id)\n",
    "        except Employees.DoesNotExist:\n",
    "            json_data=json.dumps({'msg':'The requested resources not available'})\n",
    "        else:        \n",
    "            json_data=self.serialize([emp,])\n",
    "        return HttpResponse(json_data,content_type='application/json')\n"
   ]
  },
  {
   "cell_type": "raw",
   "id": "ccc798c9",
   "metadata": {},
   "source": [
    "#in test.py file\n",
    "import requests\n",
    "BASE_URL='http://127.0.0.1:8000/'\n",
    "ENDPOINT='api/'\n",
    "def get_resource(id):\n",
    "    resp=requests.get(BASE_URL+ENDPOINT +id +'/')\n",
    "    print(resp.status_code)\n",
    "    print(resp.json())\n",
    "\n",
    "get_resource('1')"
   ]
  },
  {
   "cell_type": "raw",
   "id": "7ef5659a",
   "metadata": {},
   "source": [
    "#in cmd file\n",
    "(F:\\Django\\Django First Project\\djfw) F:\\Django\\Django First Project\\RestAPI>python test.py\n",
    "200\n",
    "[{'eno': 200, 'ename': 'madhu', 'esal': 100000.0, 'eaddr': 'madhugiri'}]"
   ]
  },
  {
   "cell_type": "raw",
   "id": "f915f527",
   "metadata": {},
   "source": [
    "#in testing.py file\n",
    "import requests\n",
    "BASE_URL='http://127.0.0.1:8000/'\n",
    "ENDPOINT='api/'\n",
    "def get_resource(id):\n",
    "    resp=requests.get(BASE_URL+ENDPOINT +id +'/')\n",
    "    print(resp.status_code)\n",
    "    print(resp.json())\n",
    "\n",
    "get_resource('300')"
   ]
  },
  {
   "cell_type": "raw",
   "id": "283d3670",
   "metadata": {},
   "source": [
    "#in cmd file\n",
    "(F:\\Django\\Django First Project\\djfw) F:\\Django\\Django First Project\\RestAPI>python test.py\n",
    "200\n",
    "{'msg': 'The requested resources not available'}"
   ]
  },
  {
   "cell_type": "markdown",
   "id": "116e8f2f",
   "metadata": {},
   "source": [
    "# ---------------------------------------------------------------------------------------------------------------"
   ]
  },
  {
   "cell_type": "markdown",
   "id": "7da4860b",
   "metadata": {},
   "source": [
    "#### Dumping data\n",
    "* py manage.py dumpdata appname.Employee\n",
    "  * employee data to the console\n",
    "  * default format is json\n",
    "* py manage.py dumpdata firstapp.Employee --indent 4\n",
    "* py manage.py dumpdata firstapp.Employee --format json --indent 4\n",
    "* py manage.py dumpdata firstapp.Employee --format xml --indent 4\n",
    "* py manage,py dumpdata firstapp.Employee --format xml > emp.xml --indent4(to save locally)\n",
    "* py manage,py dumpdata firstapp.Employee > emp.json --indent4(to save locally)"
   ]
  },
  {
   "cell_type": "raw",
   "id": "eb45f57d",
   "metadata": {},
   "source": [
    "py manage.py dumpdata firstapp.Employees\n",
    "[{\"model\": \"firstapp.employees\", \"pk\": 1, \"fields\": {\"eno\": 200, \"ename\": \"madhu\", \"esal\": 100000.0, \"eaddr\": \"madhugiri\"}}, {\"model\": \"firstapp.employees\", \"pk\": 2, \"fields\": {\"eno\": 2032, \"ename\": \"Sinchu\", \"esal\": 200000.0, \"eaddr\": \"ha\"}}]"
   ]
  },
  {
   "cell_type": "raw",
   "id": "5df9b361",
   "metadata": {},
   "source": [
    "py manage.py dumpdata firstapp.Employees --indent 4\n",
    "[\n",
    "{\n",
    "    \"model\": \"firstapp.employees\",\n",
    "    \"pk\": 1,\n",
    "    \"fields\": {\n",
    "        \"eno\": 200,\n",
    "        \"ename\": \"madhu\",\n",
    "        \"esal\": 100000.0,\n",
    "        \"eaddr\": \"madhugiri\"\n",
    "    }\n",
    "},\n",
    "{\n",
    "    \"model\": \"firstapp.employees\",\n",
    "    \"pk\": 2,\n",
    "    \"fields\": {\n",
    "        \"eno\": 2032,\n",
    "        \"ename\": \"Sinchu\",\n",
    "        \"esal\": 200000.0,\n",
    "        \"eaddr\": \"ha\"\n",
    "    }\n",
    "}\n",
    "]\n"
   ]
  },
  {
   "cell_type": "raw",
   "id": "2716d3f7",
   "metadata": {},
   "source": [
    "py manage.py dumpdata firstapp.Employees --format xml --indent 4\n",
    "<?xml version=\"1.0\" encoding=\"utf-8\"?>\n",
    "<django-objects version=\"1.0\">\n",
    "    <object model=\"firstapp.employees\" pk=\"1\">\n",
    "        <field name=\"eno\" type=\"IntegerField\">200</field>\n",
    "        <field name=\"ename\" type=\"CharField\">madhu</field>\n",
    "        <field name=\"esal\" type=\"FloatField\">100000.0</field>\n",
    "        <field name=\"eaddr\" type=\"CharField\">madhugiri</field>\n",
    "    </object>\n",
    "    <object model=\"firstapp.employees\" pk=\"2\">\n",
    "        <field name=\"eno\" type=\"IntegerField\">2032</field>\n",
    "        <field name=\"ename\" type=\"CharField\">Sinchu</field>\n",
    "        <field name=\"esal\" type=\"FloatField\">200000.0</field>\n",
    "        <field name=\"eaddr\" type=\"CharField\">ha</field>\n",
    "    </object>\n",
    "</django-objects>"
   ]
  },
  {
   "cell_type": "markdown",
   "id": "da7bbff4",
   "metadata": {},
   "source": [
    "#### How to disable{%csrf_token %}"
   ]
  },
  {
   "cell_type": "markdown",
   "id": "82862d4f",
   "metadata": {},
   "source": [
    "1 Method level\n",
    "2 Class level\n",
    "3 Project level"
   ]
  },
  {
   "cell_type": "raw",
   "id": "7a18c5ab",
   "metadata": {},
   "source": [
    "To disable at method level\n",
    "\n",
    "from django.views.decorators.csrf import csrf_exempt\n",
    "\n",
    "@csrf_exempt\n",
    "def my_view(request):\n",
    "    .............\n",
    "    ............."
   ]
  },
  {
   "cell_type": "raw",
   "id": "1b4bfa5d",
   "metadata": {},
   "source": [
    "To disable at class level\n",
    "\n",
    "from django.views.decorators.csrf import csrf_exempt\n",
    "from django.utils.decorators imporrt method_decorators\n",
    "\n",
    "@method_decorator(csrf_exempt,name='dispatch')\n",
    "class EmployeeListCBV(View):\n",
    "    ..............\n",
    "    .............."
   ]
  },
  {
   "cell_type": "markdown",
   "id": "08b9e0ef",
   "metadata": {},
   "source": [
    "#### Post or Create"
   ]
  },
  {
   "cell_type": "raw",
   "id": "080431a1",
   "metadata": {},
   "source": [
    "in utils.py\n",
    "\n",
    "import json\n",
    "def is_json(data):\n",
    "    try:\n",
    "        p_data=json.loads(data)\n",
    "        valid=True\n",
    "    except ValueError:\n",
    "        valid=False\n",
    "        return valid"
   ]
  },
  {
   "cell_type": "raw",
   "id": "6da0a6ef",
   "metadata": {},
   "source": [
    "in forms.py\n",
    "\n",
    "from django import forms\n",
    "from firstapp.models import Employees\n",
    "\n",
    "class EmployeeForm(forms.ModelForm):\n",
    "    def clean_esal(self):\n",
    "        inputsal=self.cleaned_data['esal']\n",
    "        if inputsal<5000:\n",
    "            raise forms.ValidationError('The minimum salary should be 5000')\n",
    "        return inputsal\n",
    "    class Meta:\n",
    "        model=Employees\n",
    "        fields='__all__'"
   ]
  },
  {
   "cell_type": "raw",
   "id": "bace39c3",
   "metadata": {},
   "source": [
    "in views.py\n",
    "\n",
    "from django.shortcuts import render\n",
    "from django.http import HttpResponse\n",
    "import json\n",
    "from firstapp.models import Employees\n",
    "from django.views.generic import View\n",
    "from django.core.serializers import serialize\n",
    "from firstapp.utils import is_json\n",
    "from firstapp.forms import EmployeeForm\n",
    "\n",
    "from django.views.decorators.csrf import csrf_exempt\n",
    "from django.utils.decorators import method_decorator\n",
    "\n",
    "\n",
    "@method_decorator(csrf_exempt,name='dispatch')\n",
    "class EmployeeListCBV(SerializersMixin,View):\n",
    "    def get(self,request,*args,**kwargs):\n",
    "        qs=Employees.objects.all()        \n",
    "        json_data=self.serialize(qs)\n",
    "        return HttpResponse(json_data,content_type='application/json')\n",
    "    def post(self,request,*args,**kwargs):\n",
    "        data=request.body\n",
    "        valid_json=is_json(data)\n",
    "        if not valid_json:\n",
    "            json_data=json.dumps({'msg':'Please send valid json data only'})\n",
    "            return HttpResponse(json_data,status=400)\n",
    "        empdata=json.loads(data)\n",
    "        form=EmployeeForm(empdata)\n",
    "        if form.is_valid():\n",
    "            form.save(commit=True)\n",
    "            json_data=json.dumps({'msg':'Resource created successfully'})\n",
    "            return HttpResponse(json_data)\n",
    "        if form.errors:\n",
    "            json_data=json.dumps(form.errors)\n",
    "            return HttpResponse(json_data,status=400)\n",
    "\n"
   ]
  },
  {
   "cell_type": "raw",
   "id": "da220237",
   "metadata": {},
   "source": [
    "in test.py\n",
    "\n",
    "import requests\n",
    "import json\n",
    "BASE_URL='http://127.0.0.1:8000/'\n",
    "ENDPOINT='api/'\n",
    "\n",
    "def create_resource():\n",
    "    new_emp={\n",
    "        'eno':500,\n",
    "        'ename':'Shiva',\n",
    "        'esal':5000,\n",
    "        'eaddr':'chennai'}\n",
    "    resp=requests.post(BASE_URL+ENDPOINT,data=json.dumps(new_emp))\n",
    "    print(resp.status_code)\n",
    "    print(resp.json())\n",
    "\n",
    "create_resource()"
   ]
  },
  {
   "cell_type": "markdown",
   "id": "8e539b6a",
   "metadata": {},
   "source": [
    "#### Put or Update"
   ]
  },
  {
   "cell_type": "raw",
   "id": "ccaffed7",
   "metadata": {},
   "source": [
    "in utils.py\n",
    "\n",
    "import json\n",
    "def is_json(data):\n",
    "    try:\n",
    "        p_data=json.loads(data)\n",
    "        valid=True\n",
    "    except ValueError:\n",
    "        valid=False\n",
    "        return valid"
   ]
  },
  {
   "cell_type": "raw",
   "id": "90e6dde5",
   "metadata": {},
   "source": [
    "in forms.py\n",
    "\n",
    "from django import forms\n",
    "from firstapp.models import Employees\n",
    "\n",
    "class EmployeeForm(forms.ModelForm):\n",
    "    def clean_esal(self):\n",
    "        inputsal=self.cleaned_data['esal']\n",
    "        if inputsal<5000:\n",
    "            raise forms.ValidationError('The minimum salary should be 5000')\n",
    "        return inputsal\n",
    "    class Meta:\n",
    "        model=Employees\n",
    "        fields='__all__'"
   ]
  },
  {
   "cell_type": "raw",
   "id": "403f1608",
   "metadata": {},
   "source": [
    "in views.py\n",
    "\n",
    "from django.shortcuts import render\n",
    "from django.http import HttpResponse\n",
    "import json\n",
    "from firstapp.models import Employees\n",
    "from django.views.generic import View\n",
    "from django.core.serializers import serialize\n",
    "from firstapp.utils import is_json\n",
    "from firstapp.forms import EmployeeForm\n",
    "\n",
    "from django.views.decorators.csrf import csrf_exempt\n",
    "from django.utils.decorators import method_decorator\n",
    "\n",
    "\n",
    "@method_decorator(csrf_exempt,name='dispatch')\n",
    "class EmployeeDetailCBV(SerializersMixin,View):\n",
    "    def get_object_by_id(self,id):\n",
    "        try:\n",
    "            emp=Employees.objects.get(id=id)\n",
    "        except Employees.DoesNotExist:\n",
    "            emp=None\n",
    "        return emp\n",
    "\n",
    "    def put(self,request,id,*args,**kwargs):\n",
    "        emp=self.get_object_by_id(id)\n",
    "        if emp is None:\n",
    "            json_data=json.dumps({'msg':'No Matched Resource Found,Not possible to perform update'})\n",
    "            return HttpResponse(json_data,status=404)\n",
    "        data=request.body\n",
    "        valid_json=is_json(data)\n",
    "        if not valid_json:\n",
    "            json_data=json.dumps({'msg':'please send valid json data only'})\n",
    "            return HttpResponse(json_data,status=400)\n",
    "        provided_data=json.loads(data)\n",
    "        orginal_data={\n",
    "            'eno':emp.eno,\n",
    "            'ename':emp.ename,\n",
    "            'esal':emp.esal,\n",
    "            'eaddr':emp.eaddr\n",
    "        }\n",
    "        orginal_data.update(provided_data)\n",
    "        form=EmployeeForm(orginal_data,instance=emp)\n",
    "        if form.is_valid():\n",
    "            form.save(commit=True)\n",
    "            json_data=json.dumps({'msg':'Resources Updated sucessfully'})\n",
    "            return HttpResponse(json_data)\n",
    "        if form.errors:\n",
    "            json_data=json.dumps(form.errors)\n",
    "            return HttpResponse(json_data,status=400)\n"
   ]
  },
  {
   "cell_type": "raw",
   "id": "a797c5ac",
   "metadata": {},
   "source": [
    "in test.py\n",
    "\n",
    "import requests\n",
    "import json\n",
    "BASE_URL='http://127.0.0.1:8000/'\n",
    "ENDPOINT='api/'\n",
    "\n",
    "def update_resources(id):\n",
    "    new_emp={\n",
    "        'esal':70000,\n",
    "        'eaddr':'delhi'\n",
    "    }\n",
    "    resp=requests.put(BASE_URL+ENDPOINT+str(id)+'/',data=json.dumps(new_emp))\n",
    "    print(resp.status_code)\n",
    "    print(resp.json())\n",
    "update_resources(2)"
   ]
  },
  {
   "cell_type": "markdown",
   "id": "ec16613b",
   "metadata": {},
   "source": [
    "#### Delete"
   ]
  },
  {
   "cell_type": "raw",
   "id": "adde0e44",
   "metadata": {},
   "source": [
    "in utils.py\n",
    "\n",
    "import json\n",
    "def is_json(data):\n",
    "    try:\n",
    "        p_data=json.loads(data)\n",
    "        valid=True\n",
    "    except ValueError:\n",
    "        valid=False\n",
    "        return valid"
   ]
  },
  {
   "cell_type": "raw",
   "id": "c0ccf2f8",
   "metadata": {},
   "source": [
    "in forms.py\n",
    "\n",
    "from django import forms\n",
    "from firstapp.models import Employees\n",
    "\n",
    "class EmployeeForm(forms.ModelForm):\n",
    "    def clean_esal(self):\n",
    "        inputsal=self.cleaned_data['esal']\n",
    "        if inputsal<5000:\n",
    "            raise forms.ValidationError('The minimum salary should be 5000')\n",
    "        return inputsal\n",
    "    class Meta:\n",
    "        model=Employees\n",
    "        fields='__all__'"
   ]
  },
  {
   "cell_type": "raw",
   "id": "7452b955",
   "metadata": {},
   "source": [
    "in views.py\n",
    "\n",
    "from django.shortcuts import render\n",
    "from django.http import HttpResponse\n",
    "import json\n",
    "from firstapp.models import Employees\n",
    "from django.views.generic import View\n",
    "from django.core.serializers import serialize\n",
    "from firstapp.utils import is_json\n",
    "from firstapp.forms import EmployeeForm\n",
    "\n",
    "from django.views.decorators.csrf import csrf_exempt\n",
    "from django.utils.decorators import method_decorator\n",
    "\n",
    "\n",
    "@method_decorator(csrf_exempt,name='dispatch')\n",
    "class EmployeeDetailCBV(SerializersMixin,View):\n",
    "    def get_object_by_id(self,id):\n",
    "        try:\n",
    "            emp=Employees.objects.get(id=id)\n",
    "        except Employees.DoesNotExist:\n",
    "            emp=None\n",
    "        return emp\n",
    "        \n",
    "    def delete(self,request,*args,**kwargs):\n",
    "        emp=self.get_object_by_id(id)\n",
    "        if emp is None:\n",
    "            json_data=json.dumps({'msg':\"No matched resource found not possible to perform deltion\"})\n",
    "            return HttpResponse(json_data,status=404)\n",
    "        status,deleted_item=emp.delete()\n",
    "        if status==1:\n",
    "            json_data=json.dumps({'msg':'Resource Updated Sucessfully'})\n",
    "            return HttpResponse(json_data)\n",
    "        json_data=json.dumps({'msg':'unable to delete...plz try again'})\n",
    "        return HttpResponse(json_data)"
   ]
  },
  {
   "cell_type": "raw",
   "id": "7ef8382f",
   "metadata": {},
   "source": [
    "in test.py\n",
    "\n",
    "import requests\n",
    "import json\n",
    "BASE_URL='http://127.0.0.1:8000/'\n",
    "ENDPOINT='api/'\n",
    "\n",
    "def delete_resource(id):\n",
    "    resp=requests.delete(BASE_URL+ENDPOINT+str(id)+'/')\n",
    "    print(resp.status_code)\n",
    "    print(resp.json())\n",
    "\n",
    "delete_resource(1)"
   ]
  },
  {
   "cell_type": "markdown",
   "id": "b2490d7a",
   "metadata": {},
   "source": [
    "here we are getting more than one urls or end point but we want only one end point that's why we use RestAPI framework"
   ]
  },
  {
   "cell_type": "markdown",
   "id": "69733cb0",
   "metadata": {},
   "source": [
    "# Rest Framework"
   ]
  },
  {
   "cell_type": "code",
   "execution_count": null,
   "id": "f91f77f0",
   "metadata": {},
   "outputs": [],
   "source": []
  }
 ],
 "metadata": {
  "kernelspec": {
   "display_name": "Python 3 (ipykernel)",
   "language": "python",
   "name": "python3"
  },
  "language_info": {
   "codemirror_mode": {
    "name": "ipython",
    "version": 3
   },
   "file_extension": ".py",
   "mimetype": "text/x-python",
   "name": "python",
   "nbconvert_exporter": "python",
   "pygments_lexer": "ipython3",
   "version": "3.11.4"
  }
 },
 "nbformat": 4,
 "nbformat_minor": 5
}
