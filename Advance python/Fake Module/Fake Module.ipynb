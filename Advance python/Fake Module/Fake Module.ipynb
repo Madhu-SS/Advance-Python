{
 "cells": [
  {
   "cell_type": "code",
   "execution_count": 1,
   "id": "ef4a219e",
   "metadata": {},
   "outputs": [
    {
     "name": "stdout",
     "output_type": "stream",
     "text": [
      "Requirement already satisfied: faker in c:\\users\\hp\\anaconda3\\lib\\site-packages (22.2.0)\n",
      "Requirement already satisfied: python-dateutil>=2.4 in c:\\users\\hp\\anaconda3\\lib\\site-packages (from faker) (2.8.2)\n",
      "Requirement already satisfied: six>=1.5 in c:\\users\\hp\\anaconda3\\lib\\site-packages (from python-dateutil>=2.4->faker) (1.16.0)\n"
     ]
    }
   ],
   "source": [
    "!pip install faker"
   ]
  },
  {
   "cell_type": "code",
   "execution_count": 3,
   "id": "c547a250",
   "metadata": {},
   "outputs": [
    {
     "name": "stdout",
     "output_type": "stream",
     "text": [
      "employees name: Edward Lewis\n",
      "employees name: Michael\n",
      "employees name: Elliott\n",
      "employees DOB: 2000-02-12\n",
      "employees ID: 23\n",
      "employees Mail Id: katieryan@example.org\n",
      "employees Alternative Number: 99925\n",
      "employees role: Project Lead\n"
     ]
    }
   ],
   "source": [
    "from faker import Faker\n",
    "fake=Faker()\n",
    "print('employees name:',fake.name())\n",
    "print('employees name:',fake.first_name())\n",
    "print('employees name:',fake.last_name())\n",
    "print('employees DOB:',fake.date())\n",
    "print('employees ID:',fake.random_number())\n",
    "print('employees Mail Id:',fake.email())\n",
    "print('employees Alternative Number:',fake.random_int(min=0,max=99999))\n",
    "print('employees role:',fake.random_element(elements=('Software Engineering','Team Leader','Project Lead','Project Manger')))"
   ]
  },
  {
   "cell_type": "code",
   "execution_count": null,
   "id": "424a2018",
   "metadata": {},
   "outputs": [],
   "source": []
  }
 ],
 "metadata": {
  "kernelspec": {
   "display_name": "Python 3 (ipykernel)",
   "language": "python",
   "name": "python3"
  },
  "language_info": {
   "codemirror_mode": {
    "name": "ipython",
    "version": 3
   },
   "file_extension": ".py",
   "mimetype": "text/x-python",
   "name": "python",
   "nbconvert_exporter": "python",
   "pygments_lexer": "ipython3",
   "version": "3.11.4"
  }
 },
 "nbformat": 4,
 "nbformat_minor": 5
}
