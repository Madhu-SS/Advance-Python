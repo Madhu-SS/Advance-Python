{
 "cells": [
  {
   "cell_type": "markdown",
   "id": "2669d1ed",
   "metadata": {},
   "source": [
    "## File Handling\n",
    "* Temporary Storage:List,Tuple,Dict\n",
    "* Permanent Storage:Files and Database concepts\n",
    "\n",
    "#### Files\n",
    "* Text files==>Text data like names of students,marks of students etc\n",
    "* Binary files==>Images,Video files,Audio files\n",
    "\n",
    "#### Opening of that file\n",
    "* open(filename,mode)\n",
    "\n",
    "f=open('abc.txt','w')\n",
    "\n",
    "The allowed modes in python:\n",
    "\n",
    "* \"r\" = read\n",
    "* \"w\" = write\n",
    "* \"a\" = append\n",
    "* \"r+\" = read+write\n",
    "* \"w+\" = write+read\n",
    "* \"a+\" = append+read\n",
    "* \"x\" = Exclusive"
   ]
  },
  {
   "cell_type": "markdown",
   "id": "45494819",
   "metadata": {},
   "source": [
    "#### ----------------------------- \"r\" = Read ----------------------------\n",
    "* f=open('abc.txt','r')\n",
    "* Open an Existing file for read operation.\n",
    "* If the specified file is not available then we will get FileNotFoundError.\n",
    "* The default mode is 'r' mode only.\n",
    "#### ----------------------------- \"w\" = Write----------------------------\n",
    "* f=open('abc.txt','w')\n",
    "* open abc.txt file for write operation.\n",
    "* If the specified file is not available then this line will create that file.\n",
    "* If the specified file already contains some data... it will perform overwrite opperation.\n",
    "#### ------------------------------\"a\" = Append-------------------------\n",
    "* f=open('abc.txt','a')\n",
    "* It will apend the data but wont perform overwrite opperation.\n",
    "#### ------------------------------\"r+\" = Read+Write ------------------\n",
    "* f=open('abc.txt','r+')\n",
    "* To Read and then write operation.\n",
    "#### -------------------------------\"w+\" = write+Read------------------\n",
    "* f=open('abc.txt','w+')\n",
    "* To write and then read.\n",
    "#### -------------------------------\"a+\" = Append+Read---------------\n",
    "* f=open('abc.txt','a+')\n",
    "* First append and then read. It wont overwrite an existing data.\n",
    "#### -------------------------------\"x\" = Exclusive-----------------------\n",
    "* f=open('abc.txt','x')\n",
    "* Compulsory file should not be available.\n",
    "* If abc.txt file is already available FileExistsError.\n",
    "\n",
    "\n",
    "These modes are applicable only for text files\n"
   ]
  },
  {
   "cell_type": "markdown",
   "id": "5abda777",
   "metadata": {},
   "source": [
    "For Binary Files....7 modes available\n",
    "\n",
    "rb,wb,ab,r+b,w+b,a+b,xb\n",
    "\n",
    "f=open('abc.txt','r')\n",
    "\n",
    "----performed required read operation\n",
    "\n",
    "f.close() it is highly reccommended to close the file.\n"
   ]
  },
  {
   "cell_type": "code",
   "execution_count": 1,
   "id": "80ea7de3",
   "metadata": {},
   "outputs": [],
   "source": [
    "f=open('file.txt','r')"
   ]
  },
  {
   "cell_type": "code",
   "execution_count": 2,
   "id": "1164117d",
   "metadata": {},
   "outputs": [
    {
     "data": {
      "text/plain": [
       "'Definition\\nAllergic bronchopulmonary aspergillosis, or ABPA,\\nis one of four major types of infections in humans caused\\nby Aspergillus fungi. ABPA is a hypersensitivity reaction\\nthat occurs in asthma patients who are allergic to this\\nspecific fungus.\\nDescription\\nABPA is an allergic reaction to a species of\\nAspergillus called Aspergillus fumigatus. It is sometimes\\ngrouped together with other lung disorders characterized\\nby eosinophiliaâ€”an abnormal increase of a certain type\\nof white blood cell in the bloodâ€”under the heading of\\neosinophilic pneumonia. These disorders are also called\\nhypersensitivity lung diseases.\\nABPA appears to be increasing in frequency in the\\nUnited States, although the reasons for the increase are not\\nclear. The disorder is most likely to occur in adult asthmat\\x02ics aged 20-40. It affects males and females equally.\\nCauses and symptoms\\nABPA develops when the patient breathes air con\\x02taining Aspergillus spores. These spores are found\\nworldwide, especially around riverbanks, marshes, bogs,\\nforests, and wherever there is wet or decaying vegetation.\\nThey are also found on wet paint, construction materials,\\nand in air conditioning systems. ABPA is a nosocomial\\ninfection, which means that a patient can get it in a hos\\x02pital. When Aspergillus spores reach the bronchi, which\\nare the branches of the windpipe that lead into the lungs,\\nthe bronchi react by contracting spasmodically. So the\\npatient has difficulty breathing and usually wheezes or\\ncoughs. Many patients with ABPA also run a low-grade\\nfever and lose their appetites'"
      ]
     },
     "execution_count": 2,
     "metadata": {},
     "output_type": "execute_result"
    }
   ],
   "source": [
    "text=f.read()\n",
    "text"
   ]
  },
  {
   "cell_type": "code",
   "execution_count": 3,
   "id": "34eb4745",
   "metadata": {},
   "outputs": [
    {
     "data": {
      "text/plain": [
       "'file.txt'"
      ]
     },
     "execution_count": 3,
     "metadata": {},
     "output_type": "execute_result"
    }
   ],
   "source": [
    "f.name"
   ]
  },
  {
   "cell_type": "code",
   "execution_count": 4,
   "id": "64732a76",
   "metadata": {},
   "outputs": [
    {
     "data": {
      "text/plain": [
       "'r'"
      ]
     },
     "execution_count": 4,
     "metadata": {},
     "output_type": "execute_result"
    }
   ],
   "source": [
    "f.mode"
   ]
  },
  {
   "cell_type": "code",
   "execution_count": 5,
   "id": "bd20f304",
   "metadata": {},
   "outputs": [
    {
     "data": {
      "text/plain": [
       "False"
      ]
     },
     "execution_count": 5,
     "metadata": {},
     "output_type": "execute_result"
    }
   ],
   "source": [
    "f.closed"
   ]
  },
  {
   "cell_type": "code",
   "execution_count": 6,
   "id": "c2d4bb4f",
   "metadata": {},
   "outputs": [
    {
     "data": {
      "text/plain": [
       "True"
      ]
     },
     "execution_count": 6,
     "metadata": {},
     "output_type": "execute_result"
    }
   ],
   "source": [
    "f.readable()"
   ]
  },
  {
   "cell_type": "code",
   "execution_count": 7,
   "id": "76e3a8c3",
   "metadata": {},
   "outputs": [
    {
     "data": {
      "text/plain": [
       "False"
      ]
     },
     "execution_count": 7,
     "metadata": {},
     "output_type": "execute_result"
    }
   ],
   "source": [
    "f.writable()"
   ]
  },
  {
   "cell_type": "code",
   "execution_count": 8,
   "id": "db3dc4d5",
   "metadata": {},
   "outputs": [
    {
     "name": "stdout",
     "output_type": "stream",
     "text": [
      "File Name: file.txt\n",
      "File Mode: w+\n",
      "Is File is Readable? True\n",
      "Is File Writable? True\n",
      "Is File closed? False\n"
     ]
    }
   ],
   "source": [
    "f=open('file.txt','w+')\n",
    "print('File Name:',f.name)\n",
    "print('File Mode:',f.mode)\n",
    "print('Is File is Readable?',f.readable())\n",
    "print('Is File Writable?',f.writable())\n",
    "print('Is File closed?',f.closed)"
   ]
  },
  {
   "cell_type": "code",
   "execution_count": 9,
   "id": "200d8325",
   "metadata": {},
   "outputs": [
    {
     "name": "stdout",
     "output_type": "stream",
     "text": [
      "File Name: file.txt\n",
      "File Mode: a+\n",
      "Is File is Readable? True\n",
      "Is File Writable? True\n",
      "Is File closed? False\n"
     ]
    }
   ],
   "source": [
    "f=open('file.txt','a+')\n",
    "print('File Name:',f.name)\n",
    "print('File Mode:',f.mode)\n",
    "print('Is File is Readable?',f.readable())\n",
    "print('Is File Writable?',f.writable())\n",
    "print('Is File closed?',f.closed)"
   ]
  },
  {
   "cell_type": "code",
   "execution_count": 10,
   "id": "5f4e6f5c",
   "metadata": {},
   "outputs": [
    {
     "ename": "FileExistsError",
     "evalue": "[Errno 17] File exists: 'file.txt'",
     "output_type": "error",
     "traceback": [
      "\u001b[1;31m---------------------------------------------------------------------------\u001b[0m",
      "\u001b[1;31mFileExistsError\u001b[0m                           Traceback (most recent call last)",
      "Cell \u001b[1;32mIn[10], line 1\u001b[0m\n\u001b[1;32m----> 1\u001b[0m f\u001b[38;5;241m=\u001b[39m\u001b[38;5;28mopen\u001b[39m(\u001b[38;5;124m'\u001b[39m\u001b[38;5;124mfile.txt\u001b[39m\u001b[38;5;124m'\u001b[39m,\u001b[38;5;124m'\u001b[39m\u001b[38;5;124mx\u001b[39m\u001b[38;5;124m'\u001b[39m)\n\u001b[0;32m      2\u001b[0m \u001b[38;5;28mprint\u001b[39m(\u001b[38;5;124m'\u001b[39m\u001b[38;5;124mFile Name:\u001b[39m\u001b[38;5;124m'\u001b[39m,f\u001b[38;5;241m.\u001b[39mname)\n\u001b[0;32m      3\u001b[0m \u001b[38;5;28mprint\u001b[39m(\u001b[38;5;124m'\u001b[39m\u001b[38;5;124mFile Mode:\u001b[39m\u001b[38;5;124m'\u001b[39m,f\u001b[38;5;241m.\u001b[39mmode)\n",
      "File \u001b[1;32m~\\anaconda3\\Lib\\site-packages\\IPython\\core\\interactiveshell.py:284\u001b[0m, in \u001b[0;36m_modified_open\u001b[1;34m(file, *args, **kwargs)\u001b[0m\n\u001b[0;32m    277\u001b[0m \u001b[38;5;28;01mif\u001b[39;00m file \u001b[38;5;129;01min\u001b[39;00m {\u001b[38;5;241m0\u001b[39m, \u001b[38;5;241m1\u001b[39m, \u001b[38;5;241m2\u001b[39m}:\n\u001b[0;32m    278\u001b[0m     \u001b[38;5;28;01mraise\u001b[39;00m \u001b[38;5;167;01mValueError\u001b[39;00m(\n\u001b[0;32m    279\u001b[0m         \u001b[38;5;124mf\u001b[39m\u001b[38;5;124m\"\u001b[39m\u001b[38;5;124mIPython won\u001b[39m\u001b[38;5;124m'\u001b[39m\u001b[38;5;124mt let you open fd=\u001b[39m\u001b[38;5;132;01m{\u001b[39;00mfile\u001b[38;5;132;01m}\u001b[39;00m\u001b[38;5;124m by default \u001b[39m\u001b[38;5;124m\"\u001b[39m\n\u001b[0;32m    280\u001b[0m         \u001b[38;5;124m\"\u001b[39m\u001b[38;5;124mas it is likely to crash IPython. If you know what you are doing, \u001b[39m\u001b[38;5;124m\"\u001b[39m\n\u001b[0;32m    281\u001b[0m         \u001b[38;5;124m\"\u001b[39m\u001b[38;5;124myou can use builtins\u001b[39m\u001b[38;5;124m'\u001b[39m\u001b[38;5;124m open.\u001b[39m\u001b[38;5;124m\"\u001b[39m\n\u001b[0;32m    282\u001b[0m     )\n\u001b[1;32m--> 284\u001b[0m \u001b[38;5;28;01mreturn\u001b[39;00m io_open(file, \u001b[38;5;241m*\u001b[39margs, \u001b[38;5;241m*\u001b[39m\u001b[38;5;241m*\u001b[39mkwargs)\n",
      "\u001b[1;31mFileExistsError\u001b[0m: [Errno 17] File exists: 'file.txt'"
     ]
    }
   ],
   "source": [
    "f=open('file.txt','x')\n",
    "print('File Name:',f.name)\n",
    "print('File Mode:',f.mode)\n",
    "print('Is File is Readable?',f.readable())\n",
    "print('Is File Writable?',f.writable())\n",
    "print('Is File closed?',f.closed)"
   ]
  },
  {
   "cell_type": "code",
   "execution_count": 18,
   "id": "26fee928",
   "metadata": {},
   "outputs": [],
   "source": [
    "f=open('file.txt','w')\n",
    "f.write('virat\\n')\n",
    "f.write('kohli \\n')\n",
    "f.write('rcb\\n')\n",
    "f.close()"
   ]
  },
  {
   "cell_type": "code",
   "execution_count": 13,
   "id": "03344d9f",
   "metadata": {},
   "outputs": [
    {
     "name": "stdout",
     "output_type": "stream",
     "text": [
      "virat\n",
      "kohli \n",
      "rcbvirat\n",
      "kohli \n",
      "rcbvirat\n",
      "kohli \n",
      "rcb\n",
      "\n"
     ]
    }
   ],
   "source": [
    "f=open('file.txt','r')\n",
    "print(f.read())"
   ]
  },
  {
   "cell_type": "code",
   "execution_count": 15,
   "id": "79ae1c1e",
   "metadata": {},
   "outputs": [
    {
     "data": {
      "text/plain": [
       "28"
      ]
     },
     "execution_count": 15,
     "metadata": {},
     "output_type": "execute_result"
    }
   ],
   "source": [
    "f=open('file.txt','a')\n",
    "f.write('\\n royal chalangers bangalore')"
   ]
  },
  {
   "cell_type": "code",
   "execution_count": 16,
   "id": "9c8f2555",
   "metadata": {},
   "outputs": [
    {
     "name": "stdout",
     "output_type": "stream",
     "text": [
      "virat\n",
      "kohli \n",
      "rcbvirat\n",
      "kohli \n",
      "rcbvirat\n",
      "kohli \n",
      "rcb\n",
      "\n",
      " royal chalangers bangalore\n"
     ]
    }
   ],
   "source": [
    "f=open('file.txt','r')\n",
    "print(f.read())"
   ]
  },
  {
   "cell_type": "code",
   "execution_count": 22,
   "id": "755d3bff",
   "metadata": {},
   "outputs": [
    {
     "name": "stdout",
     "output_type": "stream",
     "text": [
      "rakesh\n",
      "sudeep\n",
      "madhu\n",
      "ramesh\n",
      "\n"
     ]
    }
   ],
   "source": [
    "f=open('file.txt','w')\n",
    "l=['rakesh\\n','sudeep\\n','madhu\\n','ramesh\\n']\n",
    "f.writelines(l)\n",
    "f=open('file.txt','r')\n",
    "print(f.read())"
   ]
  },
  {
   "cell_type": "code",
   "execution_count": 23,
   "id": "0a031bb0",
   "metadata": {},
   "outputs": [
    {
     "name": "stdout",
     "output_type": "stream",
     "text": [
      "Enter the file name:filehandling.pdf\n",
      "Enter your Feedback data:royal chalangers bangalore has a huge fan base with lot of supporters around the globle\n"
     ]
    }
   ],
   "source": [
    "fname=input('Enter the file name:')\n",
    "f=open('F:\\\\waste\\\\'+fname,'w')\n",
    "feedback=input('Enter your Feedback data:')\n",
    "f.write(feedback)\n",
    "f.close()"
   ]
  },
  {
   "cell_type": "code",
   "execution_count": 2,
   "id": "2b251dd5",
   "metadata": {},
   "outputs": [
    {
     "data": {
      "text/plain": [
       "'royal chalangers bangalore has a huge fan base with lot of supporters around the globle'"
      ]
     },
     "execution_count": 2,
     "metadata": {},
     "output_type": "execute_result"
    }
   ],
   "source": [
    "f=open('F:\\\\waste\\\\filehandling.pdf','r')\n",
    "f.read()"
   ]
  },
  {
   "cell_type": "markdown",
   "id": "f4fa1208",
   "metadata": {},
   "source": [
    "#### Reading character data from the text files:\n",
    "* f.read()==> To read total data from the file\n",
    "* f.read(n)==> To read n characters from the file\n",
    "* f.readline()==> To read only one line\n",
    "* f.readlines()==> To read all lines into a list"
   ]
  },
  {
   "cell_type": "code",
   "execution_count": 4,
   "id": "7452a855",
   "metadata": {},
   "outputs": [
    {
     "name": "stdout",
     "output_type": "stream",
     "text": [
      "rakesh\n",
      "sudeep\n",
      "madhu\n",
      "ramesh\n",
      "\n"
     ]
    }
   ],
   "source": [
    "f=open('file.txt')\n",
    "print(f.read())"
   ]
  },
  {
   "cell_type": "code",
   "execution_count": 6,
   "id": "d8ef07e3",
   "metadata": {},
   "outputs": [
    {
     "name": "stdout",
     "output_type": "stream",
     "text": [
      "rakesh\n",
      "sud\n"
     ]
    }
   ],
   "source": [
    "f=open('file.txt')\n",
    "print(f.read(10))"
   ]
  },
  {
   "cell_type": "code",
   "execution_count": 13,
   "id": "790482d8",
   "metadata": {},
   "outputs": [
    {
     "data": {
      "text/plain": [
       "'rakesh\\n'"
      ]
     },
     "execution_count": 13,
     "metadata": {},
     "output_type": "execute_result"
    }
   ],
   "source": [
    "f=open('file.txt')\n",
    "f.readline()"
   ]
  },
  {
   "cell_type": "code",
   "execution_count": 8,
   "id": "cc1ece30",
   "metadata": {},
   "outputs": [
    {
     "data": {
      "text/plain": [
       "'sudeep\\n'"
      ]
     },
     "execution_count": 8,
     "metadata": {},
     "output_type": "execute_result"
    }
   ],
   "source": [
    "f.readline()"
   ]
  },
  {
   "cell_type": "code",
   "execution_count": 1,
   "id": "9076e90f",
   "metadata": {},
   "outputs": [
    {
     "name": "stdout",
     "output_type": "stream",
     "text": [
      "Is f is closed? False\n",
      "Is f is closed? True\n"
     ]
    }
   ],
   "source": [
    "with open('file.txt','w') as f:\n",
    "    f.write('This is an ai world you can use the various models for your own purpose')\n",
    "    print('Is f is closed?',f.closed)\n",
    "print('Is f is closed?',f.closed)   "
   ]
  },
  {
   "cell_type": "code",
   "execution_count": null,
   "id": "1096cd8e",
   "metadata": {},
   "outputs": [],
   "source": []
  }
 ],
 "metadata": {
  "kernelspec": {
   "display_name": "Python 3 (ipykernel)",
   "language": "python",
   "name": "python3"
  },
  "language_info": {
   "codemirror_mode": {
    "name": "ipython",
    "version": 3
   },
   "file_extension": ".py",
   "mimetype": "text/x-python",
   "name": "python",
   "nbconvert_exporter": "python",
   "pygments_lexer": "ipython3",
   "version": "3.11.4"
  }
 },
 "nbformat": 4,
 "nbformat_minor": 5
}
