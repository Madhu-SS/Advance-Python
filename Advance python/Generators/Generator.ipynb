{
 "cells": [
  {
   "cell_type": "markdown",
   "id": "3deaa21a",
   "metadata": {},
   "source": [
    "instead of list if we use generator thr buggest advantage is memory and performance improvement.\n",
    "\n",
    "generators best suitable for web scraping.\n",
    "\n",
    "when compared with normal iterators generators are easy to use."
   ]
  },
  {
   "cell_type": "code",
   "execution_count": 1,
   "id": "e1db0f63",
   "metadata": {},
   "outputs": [
    {
     "name": "stdout",
     "output_type": "stream",
     "text": [
      "<class 'generator'>\n"
     ]
    }
   ],
   "source": [
    "def mygen():\n",
    "    yield 'A'\n",
    "    yield 'B'\n",
    "    yield 'C'\n",
    "    \n",
    "g=mygen()\n",
    "print(type(g))"
   ]
  },
  {
   "cell_type": "code",
   "execution_count": 4,
   "id": "7d748a4e",
   "metadata": {},
   "outputs": [
    {
     "name": "stdout",
     "output_type": "stream",
     "text": [
      "<class 'generator'>\n",
      "A\n",
      "B\n",
      "C\n"
     ]
    }
   ],
   "source": [
    "def mygen():\n",
    "    yield 'A'\n",
    "    yield 'B'\n",
    "    yield 'C'\n",
    "    \n",
    "g=mygen()\n",
    "print(type(g))\n",
    "print(next(g))\n",
    "print(next(g))\n",
    "print(next(g))"
   ]
  },
  {
   "cell_type": "code",
   "execution_count": 5,
   "id": "494015fe",
   "metadata": {},
   "outputs": [
    {
     "name": "stdout",
     "output_type": "stream",
     "text": [
      "<class 'generator'>\n",
      "A\n",
      "B\n",
      "C\n"
     ]
    },
    {
     "ename": "StopIteration",
     "evalue": "",
     "output_type": "error",
     "traceback": [
      "\u001b[1;31m---------------------------------------------------------------------------\u001b[0m",
      "\u001b[1;31mStopIteration\u001b[0m                             Traceback (most recent call last)",
      "Cell \u001b[1;32mIn[5], line 11\u001b[0m\n\u001b[0;32m      9\u001b[0m \u001b[38;5;28mprint\u001b[39m(\u001b[38;5;28mnext\u001b[39m(g))\n\u001b[0;32m     10\u001b[0m \u001b[38;5;28mprint\u001b[39m(\u001b[38;5;28mnext\u001b[39m(g))\n\u001b[1;32m---> 11\u001b[0m \u001b[38;5;28mprint\u001b[39m(\u001b[38;5;28mnext\u001b[39m(g))\n",
      "\u001b[1;31mStopIteration\u001b[0m: "
     ]
    }
   ],
   "source": [
    "def mygen():\n",
    "    yield 'A'\n",
    "    yield 'B'\n",
    "    yield 'C'\n",
    "    \n",
    "g=mygen()\n",
    "print(type(g))\n",
    "print(next(g))\n",
    "print(next(g))\n",
    "print(next(g))\n",
    "print(next(g))"
   ]
  },
  {
   "cell_type": "code",
   "execution_count": 1,
   "id": "44ed07a0",
   "metadata": {},
   "outputs": [],
   "source": [
    "# l=[x*x for x in range(100000000000000000000000000000000000000)]\n",
    "# print(l)\n",
    "# it will get error"
   ]
  },
  {
   "cell_type": "code",
   "execution_count": 2,
   "id": "fab95b9c",
   "metadata": {},
   "outputs": [
    {
     "name": "stdout",
     "output_type": "stream",
     "text": [
      "Count Down Starting\n",
      "10\n",
      "9\n",
      "8\n",
      "7\n",
      "6\n",
      "5\n",
      "4\n",
      "3\n",
      "2\n",
      "1\n"
     ]
    }
   ],
   "source": [
    "import time\n",
    "def countdown(num):\n",
    "    print('Count Down Starting')\n",
    "    while num>0:\n",
    "        yield num\n",
    "        num=num-1\n",
    "values=countdown(10)\n",
    "for x in values:\n",
    "    print(x)\n",
    "    time.sleep(1)"
   ]
  },
  {
   "cell_type": "code",
   "execution_count": 3,
   "id": "e6b570f0",
   "metadata": {},
   "outputs": [
    {
     "name": "stdout",
     "output_type": "stream",
     "text": [
      "1\n",
      "2\n",
      "3\n",
      "4\n",
      "5\n",
      "6\n",
      "7\n",
      "8\n",
      "9\n",
      "10\n"
     ]
    }
   ],
   "source": [
    "# to generate first n numbers\n",
    "def firstn(num):\n",
    "    n=1\n",
    "    while n<=num:\n",
    "        yield n\n",
    "        n=n+1\n",
    "for x in firstn(10):\n",
    "    print(x)"
   ]
  },
  {
   "cell_type": "code",
   "execution_count": 4,
   "id": "a46b4ecf",
   "metadata": {},
   "outputs": [
    {
     "name": "stdout",
     "output_type": "stream",
     "text": [
      "0\n",
      "1\n",
      "1\n",
      "2\n",
      "3\n",
      "5\n",
      "8\n"
     ]
    }
   ],
   "source": [
    "def fib():\n",
    "    a,b=0,1\n",
    "    while True:\n",
    "        yield a\n",
    "        a,b=b,a+b\n",
    "        \n",
    "for n in fib():\n",
    "    if n>10:\n",
    "        break\n",
    "    print(n)"
   ]
  },
  {
   "cell_type": "code",
   "execution_count": 12,
   "id": "c4ab276e",
   "metadata": {},
   "outputs": [
    {
     "name": "stdout",
     "output_type": "stream",
     "text": [
      "Time taken for list: 0.026027679443359375\n",
      "Time taken for generator: 0.0032074451446533203\n"
     ]
    }
   ],
   "source": [
    "import random\n",
    "import time\n",
    "\n",
    "names=['ramesh','hemanth','megharaj','geethesh','shilesh']\n",
    "subjects=['history','civil','electrical','artist','makeup']\n",
    "\n",
    "def people_list(num):\n",
    "    results=[]\n",
    "    for i in range(num):\n",
    "        person={\n",
    "            'id':i,\n",
    "            'name':random.choice(names),\n",
    "            'subject':random.choice(subjects)\n",
    "        }\n",
    "        results.append(person)\n",
    "    return results\n",
    "\n",
    "def people_generator(num):\n",
    "    \n",
    "    for i in range(num):\n",
    "        person={\n",
    "            'id':i,\n",
    "            'name':random.choice(names),\n",
    "            'subject':random.choice(subjects)\n",
    "        }\n",
    "        yield person\n",
    "        \n",
    "t1=time.time()\n",
    "people=people_list(10000)\n",
    "t2=time.time()\n",
    "\n",
    "print('Time taken for list:',t2-t1)\n",
    "\n",
    "t1=time.time()\n",
    "people=people_generator(100)\n",
    "t2=time.time()\n",
    "\n",
    "print('Time taken for generator:',t2-t1)"
   ]
  },
  {
   "cell_type": "code",
   "execution_count": null,
   "id": "d52a68e2",
   "metadata": {},
   "outputs": [],
   "source": []
  }
 ],
 "metadata": {
  "kernelspec": {
   "display_name": "Python 3 (ipykernel)",
   "language": "python",
   "name": "python3"
  },
  "language_info": {
   "codemirror_mode": {
    "name": "ipython",
    "version": 3
   },
   "file_extension": ".py",
   "mimetype": "text/x-python",
   "name": "python",
   "nbconvert_exporter": "python",
   "pygments_lexer": "ipython3",
   "version": "3.11.4"
  }
 },
 "nbformat": 4,
 "nbformat_minor": 5
}
