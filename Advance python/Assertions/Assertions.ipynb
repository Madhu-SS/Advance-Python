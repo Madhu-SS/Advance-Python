{
 "cells": [
  {
   "cell_type": "markdown",
   "id": "bde151c1",
   "metadata": {},
   "source": [
    "it is used for debuging purpose\n",
    "\n",
    "(debug=removal of bug--------------bug = error). The process of identifying and fixing the bug is called debuging.\n",
    "\n",
    "the most common used approach to perform debuging is usage of print statement.\n",
    "\n",
    "whenever we implementing the print statment,after finding the error we forgot to delete the print statment this will be very big problem when we handover our project to client , it unnesassarily print print statments. to avoid this confusion we go for assertion"
   ]
  },
  {
   "cell_type": "markdown",
   "id": "4383fb86",
   "metadata": {},
   "source": [
    "#### Advantages of Assertion over print statment.\n",
    "After fixing the problem this assertion statment wenot required to delete, because this assertion statment are not excecuted. \n",
    "Based on our requirement we can enable or disable. This cannot see with print statment.\n",
    "\n",
    "There are three environments in there:\n",
    "* Development Environment\n",
    "* Testing Environment\n",
    "* Production Environment | Live Environment\n",
    "\n",
    "usually we perform debuging in Development or testing environment.\n",
    "\n"
   ]
  },
  {
   "cell_type": "markdown",
   "id": "15b51d23",
   "metadata": {},
   "source": [
    "#### Type of assert statements:\n",
    "* Simple Version\n",
    "* Augmented Version(Very Simple Version)\n",
    "\n",
    "##### Simple Version\n",
    "* If assert conditional_expression is Satisfied then there is no error up to that statement. Otherwise we get AssertionError"
   ]
  },
  {
   "cell_type": "code",
   "execution_count": 2,
   "id": "a65e5945",
   "metadata": {},
   "outputs": [
    {
     "name": "stdout",
     "output_type": "stream",
     "text": [
      "10\n"
     ]
    }
   ],
   "source": [
    "x=10\n",
    "####code\n",
    "assert x==10\n",
    "####code\n",
    "print(x)"
   ]
  },
  {
   "cell_type": "code",
   "execution_count": 3,
   "id": "44d816fb",
   "metadata": {},
   "outputs": [
    {
     "ename": "AssertionError",
     "evalue": "",
     "output_type": "error",
     "traceback": [
      "\u001b[1;31m---------------------------------------------------------------------------\u001b[0m",
      "\u001b[1;31mAssertionError\u001b[0m                            Traceback (most recent call last)",
      "Cell \u001b[1;32mIn[3], line 3\u001b[0m\n\u001b[0;32m      1\u001b[0m x\u001b[38;5;241m=\u001b[39m\u001b[38;5;241m10\u001b[39m\n\u001b[0;32m      2\u001b[0m \u001b[38;5;66;03m####code\u001b[39;00m\n\u001b[1;32m----> 3\u001b[0m \u001b[38;5;28;01massert\u001b[39;00m x\u001b[38;5;241m>\u001b[39m\u001b[38;5;241m10\u001b[39m\n\u001b[0;32m      4\u001b[0m \u001b[38;5;66;03m####code\u001b[39;00m\n\u001b[0;32m      5\u001b[0m \u001b[38;5;28mprint\u001b[39m(x)\n",
      "\u001b[1;31mAssertionError\u001b[0m: "
     ]
    }
   ],
   "source": [
    "x=10\n",
    "####code\n",
    "assert x>10\n",
    "####code\n",
    "print(x)"
   ]
  },
  {
   "cell_type": "markdown",
   "id": "da9efd85",
   "metadata": {},
   "source": [
    "###### Augmented Version\n",
    "* assert conditional_expression, message"
   ]
  },
  {
   "cell_type": "code",
   "execution_count": 4,
   "id": "780d6537",
   "metadata": {},
   "outputs": [
    {
     "ename": "AssertionError",
     "evalue": "Here x value should be x=10 but it is not",
     "output_type": "error",
     "traceback": [
      "\u001b[1;31m---------------------------------------------------------------------------\u001b[0m",
      "\u001b[1;31mAssertionError\u001b[0m                            Traceback (most recent call last)",
      "Cell \u001b[1;32mIn[4], line 3\u001b[0m\n\u001b[0;32m      1\u001b[0m x\u001b[38;5;241m=\u001b[39m\u001b[38;5;241m10\u001b[39m\n\u001b[0;32m      2\u001b[0m \u001b[38;5;66;03m####code\u001b[39;00m\n\u001b[1;32m----> 3\u001b[0m \u001b[38;5;28;01massert\u001b[39;00m x\u001b[38;5;241m>\u001b[39m\u001b[38;5;241m10\u001b[39m,\u001b[38;5;124m'\u001b[39m\u001b[38;5;124mHere x value should be x=10 but it is not\u001b[39m\u001b[38;5;124m'\u001b[39m\n\u001b[0;32m      4\u001b[0m \u001b[38;5;66;03m####code\u001b[39;00m\n\u001b[0;32m      5\u001b[0m \u001b[38;5;28mprint\u001b[39m(x)\n",
      "\u001b[1;31mAssertionError\u001b[0m: Here x value should be x=10 but it is not"
     ]
    }
   ],
   "source": [
    "x=10\n",
    "####code\n",
    "assert x>10,'Here x value should be x=10 but it is not'\n",
    "####code\n",
    "print(x)"
   ]
  },
  {
   "cell_type": "code",
   "execution_count": 6,
   "id": "234de4cb",
   "metadata": {},
   "outputs": [
    {
     "ename": "AssertionError",
     "evalue": "The square of 3 should be 9",
     "output_type": "error",
     "traceback": [
      "\u001b[1;31m---------------------------------------------------------------------------\u001b[0m",
      "\u001b[1;31mAssertionError\u001b[0m                            Traceback (most recent call last)",
      "Cell \u001b[1;32mIn[6], line 5\u001b[0m\n\u001b[0;32m      2\u001b[0m     \u001b[38;5;28;01mreturn\u001b[39;00m x\u001b[38;5;241m*\u001b[39m\u001b[38;5;241m*\u001b[39mx\n\u001b[0;32m      4\u001b[0m \u001b[38;5;28;01massert\u001b[39;00m squareIT(\u001b[38;5;241m2\u001b[39m)\u001b[38;5;241m==\u001b[39m\u001b[38;5;241m4\u001b[39m,\u001b[38;5;124m'\u001b[39m\u001b[38;5;124mThe square of 2 should be 4\u001b[39m\u001b[38;5;124m'\u001b[39m\n\u001b[1;32m----> 5\u001b[0m \u001b[38;5;28;01massert\u001b[39;00m squareIT(\u001b[38;5;241m3\u001b[39m)\u001b[38;5;241m==\u001b[39m\u001b[38;5;241m9\u001b[39m,\u001b[38;5;124m'\u001b[39m\u001b[38;5;124mThe square of 3 should be 9\u001b[39m\u001b[38;5;124m'\u001b[39m\n\u001b[0;32m      6\u001b[0m \u001b[38;5;28;01massert\u001b[39;00m squareIT(\u001b[38;5;241m4\u001b[39m)\u001b[38;5;241m==\u001b[39m\u001b[38;5;241m16\u001b[39m,\u001b[38;5;124m'\u001b[39m\u001b[38;5;124mThe square of 4 should be 16\u001b[39m\u001b[38;5;124m'\u001b[39m\n\u001b[0;32m      8\u001b[0m \u001b[38;5;28mprint\u001b[39m(squareIT(\u001b[38;5;241m2\u001b[39m))\n",
      "\u001b[1;31mAssertionError\u001b[0m: The square of 3 should be 9"
     ]
    }
   ],
   "source": [
    "def squareIT(x):\n",
    "    return x**x\n",
    "\n",
    "assert squareIT(2)==4,'The square of 2 should be 4'\n",
    "assert squareIT(3)==9,'The square of 3 should be 9'\n",
    "assert squareIT(4)==16,'The square of 4 should be 16'\n",
    "\n",
    "print(squareIT(2))\n",
    "print(squareIT(3))\n",
    "print(squareIT(4))"
   ]
  },
  {
   "cell_type": "code",
   "execution_count": 7,
   "id": "41959d71",
   "metadata": {},
   "outputs": [
    {
     "name": "stdout",
     "output_type": "stream",
     "text": [
      "4\n",
      "9\n",
      "16\n"
     ]
    }
   ],
   "source": [
    "def squareIT(x):\n",
    "    return x*x\n",
    "\n",
    "assert squareIT(2)==4,'The square of 2 should be 4'\n",
    "assert squareIT(3)==9,'The square of 3 should be 9'\n",
    "assert squareIT(4)==16,'The square of 4 should be 16'\n",
    "\n",
    "print(squareIT(2))\n",
    "print(squareIT(3))\n",
    "print(squareIT(4))"
   ]
  },
  {
   "cell_type": "code",
   "execution_count": 8,
   "id": "f8b69974",
   "metadata": {},
   "outputs": [
    {
     "ename": "AssertionError",
     "evalue": "The square of 3 should be 9",
     "output_type": "error",
     "traceback": [
      "\u001b[1;31m---------------------------------------------------------------------------\u001b[0m",
      "\u001b[1;31mAssertionError\u001b[0m                            Traceback (most recent call last)",
      "Cell \u001b[1;32mIn[8], line 5\u001b[0m\n\u001b[0;32m      2\u001b[0m     \u001b[38;5;28;01mreturn\u001b[39;00m x\u001b[38;5;241m*\u001b[39m\u001b[38;5;241m*\u001b[39mx\n\u001b[0;32m      4\u001b[0m \u001b[38;5;28;01massert\u001b[39;00m squareIT(\u001b[38;5;241m2\u001b[39m)\u001b[38;5;241m==\u001b[39m\u001b[38;5;241m4\u001b[39m,\u001b[38;5;124m'\u001b[39m\u001b[38;5;124mThe square of 2 should be 4\u001b[39m\u001b[38;5;124m'\u001b[39m\n\u001b[1;32m----> 5\u001b[0m \u001b[38;5;28;01massert\u001b[39;00m squareIT(\u001b[38;5;241m3\u001b[39m)\u001b[38;5;241m==\u001b[39m\u001b[38;5;241m9\u001b[39m,\u001b[38;5;124m'\u001b[39m\u001b[38;5;124mThe square of 3 should be 9\u001b[39m\u001b[38;5;124m'\u001b[39m\n\u001b[0;32m      6\u001b[0m \u001b[38;5;28;01massert\u001b[39;00m squareIT(\u001b[38;5;241m4\u001b[39m)\u001b[38;5;241m==\u001b[39m\u001b[38;5;241m16\u001b[39m,\u001b[38;5;124m'\u001b[39m\u001b[38;5;124mThe square of 4 should be 16\u001b[39m\u001b[38;5;124m'\u001b[39m\n\u001b[0;32m      7\u001b[0m \u001b[38;5;241m-\u001b[39mO \n",
      "\u001b[1;31mAssertionError\u001b[0m: The square of 3 should be 9"
     ]
    }
   ],
   "source": [
    "def squareIT(x):\n",
    "    return x**x\n",
    "\n",
    "assert squareIT(2)==4,'The square of 2 should be 4'\n",
    "assert squareIT(3)==9,'The square of 3 should be 9'\n",
    "assert squareIT(4)==16,'The square of 4 should be 16'\n",
    "-O \n",
    "\n",
    "print(squareIT(2))\n",
    "print(squareIT(3))\n",
    "print(squareIT(4))"
   ]
  },
  {
   "cell_type": "markdown",
   "id": "face464f",
   "metadata": {},
   "source": [
    "To disable the assert statements in your code, you can run the script with the -O (capital letter O, not zero) option"
   ]
  },
  {
   "cell_type": "markdown",
   "id": "7567427c",
   "metadata": {},
   "source": [
    "eg:- python -O your_script.py"
   ]
  },
  {
   "cell_type": "code",
   "execution_count": null,
   "id": "0bcbf054",
   "metadata": {},
   "outputs": [],
   "source": []
  }
 ],
 "metadata": {
  "kernelspec": {
   "display_name": "Python 3 (ipykernel)",
   "language": "python",
   "name": "python3"
  },
  "language_info": {
   "codemirror_mode": {
    "name": "ipython",
    "version": 3
   },
   "file_extension": ".py",
   "mimetype": "text/x-python",
   "name": "python",
   "nbconvert_exporter": "python",
   "pygments_lexer": "ipython3",
   "version": "3.11.4"
  }
 },
 "nbformat": 4,
 "nbformat_minor": 5
}
