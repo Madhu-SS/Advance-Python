{
 "cells": [
  {
   "cell_type": "markdown",
   "id": "4f78bae4",
   "metadata": {},
   "source": [
    "#### Logging levels\n",
    "* CRITICAL-->50(it is almost going to kill the application can you do something)\n",
    "* ERROR-----> 40(some parts are not working)\n",
    "* WARNING--->30(Some caution to the app)\n",
    "* INFO------>20(some information for our purpose)\n",
    "* DEBUG----->10(to represent a debuging information)\n",
    "* NOTSET---->0\n",
    "\n",
    "Default level is WARNING\n",
    "\n",
    "if we set any level then that and greater of that level will excecute"
   ]
  },
  {
   "cell_type": "markdown",
   "id": "dcb0db6a",
   "metadata": {},
   "source": [
    "#### How to implemente logging:\n",
    "* Create Logfile\n",
    "* Specifing which Level messages we are storing\n",
    "\n",
    "we are able to implement by using basicConfig() function of logging\n",
    "\n",
    "logging.basicConfig(filename='log.txt',level=logging.WARNING)\n",
    "\n",
    "logging.debug(msg)\n",
    "\n",
    "logging.info(msg)\n",
    "\n",
    "logging.warning(msg)\n",
    "\n",
    "logging.error(msg)\n",
    "\n",
    "logging.critical(msg)"
   ]
  },
  {
   "cell_type": "code",
   "execution_count": null,
   "id": "ca7bc88b",
   "metadata": {},
   "outputs": [],
   "source": [
    "import logging\n",
    "logging.basicConfig(filename='f:waste/log.txt',level=logging.WARNING)# or level=30\n",
    "print('logging module demo')\n",
    "logging.debug('debug information')\n",
    "logging.info('info information')\n",
    "logging.critical('critical information')\n",
    "logging.error('error information')\n",
    "logging.warning('warning information')"
   ]
  },
  {
   "cell_type": "markdown",
   "id": "2fc5f32f",
   "metadata": {},
   "source": [
    "log file contains:\n",
    "\n",
    "CRITICAL:root:critical information\n",
    "        \n",
    "ERROR:root:error information\n",
    "        \n",
    "WARNING:root:warning information"
   ]
  },
  {
   "cell_type": "code",
   "execution_count": null,
   "id": "6b08a4ef",
   "metadata": {},
   "outputs": [],
   "source": [
    "import logging\n",
    "logging.basicConfig(filename='f:waste/log.txt',level=logging.DEBUG)# or level=10 all the logging information we get\n",
    "print('logging module demo')\n",
    "logging.debug('debug information')\n",
    "logging.info('info information')\n",
    "logging.critical('critical information')\n",
    "logging.error('error information')\n",
    "logging.warning('warning information')"
   ]
  },
  {
   "cell_type": "markdown",
   "id": "4f372b60",
   "metadata": {},
   "source": [
    "log file contains:\n",
    "\n",
    "DEBUG:root:debug informationk\n",
    "        \n",
    "INFO:root:info information\n",
    "        \n",
    "CRITICAL:root:critical information\n",
    "        \n",
    "ERROR:root:error information\n",
    "        \n",
    "WARNING:root:warning information\n"
   ]
  },
  {
   "cell_type": "code",
   "execution_count": null,
   "id": "ccc288fc",
   "metadata": {},
   "outputs": [],
   "source": [
    "import logging\n",
    "logging.basicConfig(filename='f:waste/log.txt',level=logging.DEBUG,filemode='w')# default is append mode 'a', level=10 ,'w' overwrites\n",
    "print('logging module demo')\n",
    "logging.debug('debug information')\n",
    "logging.info('info information')\n",
    "logging.critical('critical information')\n",
    "logging.error('error information')\n",
    "logging.warning('warning information')"
   ]
  },
  {
   "cell_type": "code",
   "execution_count": null,
   "id": "cf50637f",
   "metadata": {},
   "outputs": [],
   "source": [
    "import logging\n",
    "logging.basicConfig()\n",
    "print('logging module demo')\n",
    "logging.debug('debug information')\n",
    "logging.info('info information')\n",
    "logging.critical('critical information')\n",
    "logging.error('error information')\n",
    "logging.warning('warning information')"
   ]
  },
  {
   "cell_type": "markdown",
   "id": "04c7343a",
   "metadata": {},
   "source": [
    "CRITICAL:root:critical information\n",
    "        \n",
    "ERROR:root:error information\n",
    "        \n",
    "WARNING:root:warning information"
   ]
  },
  {
   "cell_type": "markdown",
   "id": "2b7af920",
   "metadata": {},
   "source": [
    "#### formating messages based on our requirements"
   ]
  },
  {
   "cell_type": "code",
   "execution_count": null,
   "id": "d28a71e7",
   "metadata": {},
   "outputs": [],
   "source": [
    "import logging\n",
    "logging.basicConfig(format='%(levelname)s')\n",
    "print('logging module demo')\n",
    "logging.debug('debug information')\n",
    "logging.info('info information')\n",
    "logging.critical('critical information')\n",
    "logging.error('error information')\n",
    "logging.warning('warning information')"
   ]
  },
  {
   "cell_type": "markdown",
   "id": "67b52834",
   "metadata": {},
   "source": [
    "CRITICAL\n",
    "\n",
    "ERROR\n",
    "\n",
    "WARNING"
   ]
  },
  {
   "cell_type": "code",
   "execution_count": null,
   "id": "b8f051ef",
   "metadata": {},
   "outputs": [],
   "source": [
    "import logging\n",
    "logging.basicConfig(format='%(levelname)s:%(message)s')\n",
    "print('logging module demo')\n",
    "logging.debug('debug information')\n",
    "logging.info('info information')\n",
    "logging.critical('critical information')\n",
    "logging.error('error information')\n",
    "logging.warning('warning information')"
   ]
  },
  {
   "cell_type": "markdown",
   "id": "97b24f16",
   "metadata": {},
   "source": [
    "CRITICAL:critical information\n",
    "\n",
    "ERROR:error information\n",
    "\n",
    "WARNING:warning information"
   ]
  },
  {
   "cell_type": "markdown",
   "id": "8afd81ca",
   "metadata": {},
   "source": [
    "#### How to add timestamp in the log messages\n",
    "datefmt='%d/%m/%Y %I:%M:%S %p'\n",
    "\n",
    "* %d/%m/%Y date/month/year\n",
    "* %I:%M:%S %p  (I=hour)--(M=minute)--(S=seconds)--(p= PM and AM style)------12 Hours\n",
    "* %H:%M:%S %p  (H=hour)--(M=minute)--(S=seconds)--------24 Hours"
   ]
  },
  {
   "cell_type": "code",
   "execution_count": null,
   "id": "0965453f",
   "metadata": {},
   "outputs": [],
   "source": [
    "import logging\n",
    "logging.basicConfig(format='%(asctime)s:%(levelname)s:%(message)s')\n",
    "print('logging module demo')\n",
    "logging.debug('debug information')\n",
    "logging.info('info information')\n",
    "logging.critical('critical information')\n",
    "logging.error('error information')\n",
    "logging.warning('warning information')"
   ]
  },
  {
   "cell_type": "markdown",
   "id": "fab2c13a",
   "metadata": {},
   "source": [
    "2024-03-07 12:44:01,692:CRITICAL:critical information\n",
    "\n",
    "2024-03-07 12:44:01,698:ERROR:error information\n",
    "\n",
    "2024-03-07 12:44:01,700:WARNING:warning information"
   ]
  },
  {
   "cell_type": "code",
   "execution_count": null,
   "id": "9c2a63aa",
   "metadata": {},
   "outputs": [],
   "source": [
    "import logging\n",
    "logging.basicConfig(format='%(asctime)s:%(levelname)s:%(message)s',datefmt='%d/%m/%Y %I:%M:%S %p')\n",
    "print('logging module demo')\n",
    "logging.debug('debug information')\n",
    "logging.info('info information')\n",
    "logging.critical('critical information')\n",
    "logging.error('error information')\n",
    "logging.warning('warning information')"
   ]
  },
  {
   "cell_type": "markdown",
   "id": "05cd2822",
   "metadata": {},
   "source": [
    "07/03/2024 12:54:53 PM:CRITICAL:critical information\n",
    "\n",
    "07/03/2024 12:54:53 PM:ERROR:error information\n",
    "\n",
    "07/03/2024 12:54:53 PM:WARNING:warning information"
   ]
  },
  {
   "cell_type": "code",
   "execution_count": 1,
   "id": "bfaad36e",
   "metadata": {},
   "outputs": [
    {
     "name": "stderr",
     "output_type": "stream",
     "text": [
      "08/03/2024 19:18:02:CRITICAL:critical information\n",
      "08/03/2024 19:18:02:ERROR:error information\n",
      "08/03/2024 19:18:02:WARNING:warning information\n"
     ]
    },
    {
     "name": "stdout",
     "output_type": "stream",
     "text": [
      "logging module demo\n"
     ]
    }
   ],
   "source": [
    "import logging\n",
    "logging.basicConfig(format='%(asctime)s:%(levelname)s:%(message)s',datefmt='%d/%m/%Y %H:%M:%S')\n",
    "print('logging module demo')\n",
    "logging.debug('debug information')\n",
    "logging.info('info information')\n",
    "logging.critical('critical information')\n",
    "logging.error('error information')\n",
    "logging.warning('warning information')"
   ]
  },
  {
   "cell_type": "code",
   "execution_count": null,
   "id": "256051ba",
   "metadata": {},
   "outputs": [],
   "source": [
    "# Set up a rotating file handler with a maximum file size of 1 MB and keep up to 3 backup files.\n",
    "handler = RotatingFileHandler(LOG_FILEPATH, maxBytes=1e6, backupCount=3)"
   ]
  },
  {
   "cell_type": "code",
   "execution_count": null,
   "id": "99aecc22",
   "metadata": {},
   "outputs": [],
   "source": [
    "# Add the rotating file handler to the root logger.\n",
    "logging.getLogger().addHandler(handler)"
   ]
  },
  {
   "cell_type": "code",
   "execution_count": null,
   "id": "020f876e",
   "metadata": {},
   "outputs": [],
   "source": [
    "import logging\n",
    "import os\n",
    "from datetime import datetime\n",
    "from logging.handlers import RotatingFileHandler\n",
    "\n",
    "LOG_FILE = f\"{datetime.now().strftime('%m_%d_%Y_%H_%M_%S')}.log\"\n",
    "\n",
    "log_path = os.path.join(os.getcwd(), \"logs\")\n",
    "os.makedirs(log_path, exist_ok=True)\n",
    "\n",
    "LOG_FILEPATH = os.path.join(log_path, LOG_FILE)\n",
    "\n",
    "# Set up a rotating file handler with a maximum file size of 100 bytes and keep up to 2 backup files.\n",
    "handler = RotatingFileHandler(LOG_FILEPATH, maxBytes=1e2, backupCount=2)\n",
    "handler.setLevel(logging.INFO)\n",
    "handler.setFormatter(logging.Formatter(\"[%(asctime)s] %(lineno)d %(name)s - %(levelname)s - %(message)s\"))\n",
    "\n",
    "# Add the rotating file handler to the root logger.\n",
    "logging.getLogger().addHandler(handler)\n",
    "\n",
    "# Optionally, you can also set the level and format for the root logger.\n",
    "logging.basicConfig(level=logging.INFO, format=\"[%(asctime)s] %(lineno)d %(name)s - %(levelname)s - %(message)s\")\n",
    "\n",
    "# Now you can use logging.info(), logging.warning(), etc. to log messages.\n",
    "logging.info('Hi, I am going to start my execution')\n"
   ]
  },
  {
   "cell_type": "code",
   "execution_count": null,
   "id": "038cd913",
   "metadata": {},
   "outputs": [],
   "source": [
    "import sys"
   ]
  }
 ],
 "metadata": {
  "kernelspec": {
   "display_name": "Python 3 (ipykernel)",
   "language": "python",
   "name": "python3"
  },
  "language_info": {
   "codemirror_mode": {
    "name": "ipython",
    "version": 3
   },
   "file_extension": ".py",
   "mimetype": "text/x-python",
   "name": "python",
   "nbconvert_exporter": "python",
   "pygments_lexer": "ipython3",
   "version": "3.11.4"
  }
 },
 "nbformat": 4,
 "nbformat_minor": 5
}
