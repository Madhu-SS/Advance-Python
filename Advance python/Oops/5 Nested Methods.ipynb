{
 "cells": [
  {
   "cell_type": "code",
   "execution_count": 2,
   "id": "770a6527",
   "metadata": {},
   "outputs": [
    {
     "name": "stdout",
     "output_type": "stream",
     "text": [
      "First Argument: 10\n",
      "Second Argument: 20\n",
      "The Sum: 30\n",
      "The Product: 200\n",
      "*************\n",
      "First Argument: 100\n",
      "Second Argument: 200\n",
      "The Sum: 300\n",
      "The Product: 20000\n",
      "*************\n",
      "First Argument: 1000\n",
      "Second Argument: 2000\n",
      "The Sum: 3000\n",
      "The Product: 2000000\n",
      "*************\n"
     ]
    }
   ],
   "source": [
    "class Test:\n",
    "    def m1(self):\n",
    "        def sum(a,b):\n",
    "            print(\"First Argument:\",a)\n",
    "            print(\"Second Argument:\",b)\n",
    "            print('The Sum:',a+b)\n",
    "            print('The Product:',a*b)\n",
    "            print('*'*13)\n",
    "            \n",
    "        sum(10,20)\n",
    "        sum(100,200)\n",
    "        sum(1000,2000)\n",
    "            \n",
    "t=Test()\n",
    "t.m1()"
   ]
  },
  {
   "cell_type": "code",
   "execution_count": null,
   "id": "53b32754",
   "metadata": {},
   "outputs": [],
   "source": []
  }
 ],
 "metadata": {
  "kernelspec": {
   "display_name": "Python 3 (ipykernel)",
   "language": "python",
   "name": "python3"
  },
  "language_info": {
   "codemirror_mode": {
    "name": "ipython",
    "version": 3
   },
   "file_extension": ".py",
   "mimetype": "text/x-python",
   "name": "python",
   "nbconvert_exporter": "python",
   "pygments_lexer": "ipython3",
   "version": "3.11.4"
  }
 },
 "nbformat": 4,
 "nbformat_minor": 5
}
