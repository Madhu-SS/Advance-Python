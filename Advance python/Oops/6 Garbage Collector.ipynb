{
 "cells": [
  {
   "cell_type": "code",
   "execution_count": 1,
   "id": "288504d8",
   "metadata": {},
   "outputs": [],
   "source": [
    "import gc"
   ]
  },
  {
   "cell_type": "code",
   "execution_count": 2,
   "id": "5aa17ab2",
   "metadata": {},
   "outputs": [
    {
     "name": "stdout",
     "output_type": "stream",
     "text": [
      "True\n"
     ]
    }
   ],
   "source": [
    "print(gc.isenabled())"
   ]
  },
  {
   "cell_type": "code",
   "execution_count": 3,
   "id": "3cca7104",
   "metadata": {},
   "outputs": [
    {
     "name": "stdout",
     "output_type": "stream",
     "text": [
      "False\n"
     ]
    }
   ],
   "source": [
    "gc.disable()\n",
    "print(gc.isenabled())"
   ]
  },
  {
   "cell_type": "code",
   "execution_count": 4,
   "id": "19eb7838",
   "metadata": {},
   "outputs": [
    {
     "name": "stdout",
     "output_type": "stream",
     "text": [
      "True\n"
     ]
    }
   ],
   "source": [
    "gc.enable()\n",
    "print(gc.isenabled())"
   ]
  },
  {
   "cell_type": "markdown",
   "id": "175cd228",
   "metadata": {},
   "source": [
    "Just before destroying an object, gc always call destructor to perform cleanup activities"
   ]
  },
  {
   "cell_type": "code",
   "execution_count": 5,
   "id": "0d75116c",
   "metadata": {},
   "outputs": [
    {
     "name": "stdout",
     "output_type": "stream",
     "text": [
      "Object Initializtion....\n"
     ]
    }
   ],
   "source": [
    "class Test:\n",
    "    def __init__(self):# constructor\n",
    "        print('Object Initializtion....')\n",
    "        \n",
    "    def __del__(self):# distructor\n",
    "        print('Full filling the last wish and performing clean up activities')\n",
    "        \n",
    "t1=Test()"
   ]
  },
  {
   "cell_type": "code",
   "execution_count": 6,
   "id": "1ae50a30",
   "metadata": {},
   "outputs": [
    {
     "name": "stdout",
     "output_type": "stream",
     "text": [
      "Object Initializtion....\n",
      "Full filling the last wish and performing clean up activities\n"
     ]
    }
   ],
   "source": [
    "class Test:\n",
    "    def __init__(self):\n",
    "        print('Object Initializtion....')\n",
    "        \n",
    "    def __del__(self):\n",
    "        print('Full filling the last wish and performing clean up activities')\n",
    "        \n",
    "t1=Test()\n",
    "t1=None"
   ]
  },
  {
   "cell_type": "code",
   "execution_count": 7,
   "id": "661f5f81",
   "metadata": {},
   "outputs": [
    {
     "name": "stdout",
     "output_type": "stream",
     "text": [
      "Object Initializtion....\n"
     ]
    }
   ],
   "source": [
    "class Test:\n",
    "    def __init__(self):\n",
    "        print('Object Initializtion....')\n",
    "        \n",
    "    def __del__(self):\n",
    "        print('Full filling the last wish and performing clean up activities')\n",
    "        \n",
    "t1=Test()\n",
    "t2=t1\n",
    "t3=t2\n",
    "t4=t3"
   ]
  },
  {
   "cell_type": "code",
   "execution_count": 8,
   "id": "ae89ac54",
   "metadata": {},
   "outputs": [
    {
     "name": "stdout",
     "output_type": "stream",
     "text": [
      "Object Initializtion....\n"
     ]
    }
   ],
   "source": [
    "class Test:\n",
    "    def __init__(self):\n",
    "        print('Object Initializtion....')\n",
    "        \n",
    "    def __del__(self):\n",
    "        print('Full filling the last wish and performing clean up activities')\n",
    "        \n",
    "t1=Test()\n",
    "t2=t1\n",
    "t3=t2\n",
    "t4=t3\n",
    "del t1"
   ]
  },
  {
   "cell_type": "code",
   "execution_count": 9,
   "id": "83c890e9",
   "metadata": {},
   "outputs": [
    {
     "name": "stdout",
     "output_type": "stream",
     "text": [
      "Object Initializtion....\n"
     ]
    }
   ],
   "source": [
    "class Test:\n",
    "    def __init__(self):\n",
    "        print('Object Initializtion....')\n",
    "        \n",
    "    def __del__(self):\n",
    "        print('Full filling the last wish and performing clean up activities')\n",
    "        \n",
    "t1=Test()\n",
    "t2=t1\n",
    "t3=t2\n",
    "t4=t3\n",
    "del t1\n",
    "del t2"
   ]
  },
  {
   "cell_type": "code",
   "execution_count": 10,
   "id": "1dad4dc8",
   "metadata": {},
   "outputs": [
    {
     "name": "stdout",
     "output_type": "stream",
     "text": [
      "Object Initializtion....\n"
     ]
    }
   ],
   "source": [
    "class Test:\n",
    "    def __init__(self):\n",
    "        print('Object Initializtion....')\n",
    "        \n",
    "    def __del__(self):\n",
    "        print('Full filling the last wish and performing clean up activities')\n",
    "        \n",
    "t1=Test()\n",
    "t2=t1\n",
    "t3=t2\n",
    "t4=t3\n",
    "del t1\n",
    "del t2\n",
    "del t3"
   ]
  },
  {
   "cell_type": "code",
   "execution_count": 11,
   "id": "6c1f7195",
   "metadata": {},
   "outputs": [
    {
     "name": "stdout",
     "output_type": "stream",
     "text": [
      "Object Initializtion....\n",
      "Full filling the last wish and performing clean up activities\n"
     ]
    }
   ],
   "source": [
    "class Test:\n",
    "    def __init__(self):\n",
    "        print('Object Initializtion....')\n",
    "        \n",
    "    def __del__(self):\n",
    "        print('Full filling the last wish and performing clean up activities')\n",
    "        \n",
    "t1=Test()\n",
    "t2=t1\n",
    "t3=t2\n",
    "t4=t3\n",
    "del t1\n",
    "del t2\n",
    "del t3\n",
    "del t4"
   ]
  },
  {
   "cell_type": "code",
   "execution_count": null,
   "id": "d745c60a",
   "metadata": {},
   "outputs": [],
   "source": []
  }
 ],
 "metadata": {
  "kernelspec": {
   "display_name": "Python 3 (ipykernel)",
   "language": "python",
   "name": "python3"
  },
  "language_info": {
   "codemirror_mode": {
    "name": "ipython",
    "version": 3
   },
   "file_extension": ".py",
   "mimetype": "text/x-python",
   "name": "python",
   "nbconvert_exporter": "python",
   "pygments_lexer": "ipython3",
   "version": "3.11.4"
  }
 },
 "nbformat": 4,
 "nbformat_minor": 5
}
