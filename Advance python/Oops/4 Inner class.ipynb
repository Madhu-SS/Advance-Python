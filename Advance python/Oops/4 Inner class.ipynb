{
 "cells": [
  {
   "cell_type": "markdown",
   "id": "19abf307",
   "metadata": {},
   "source": [
    "## Inner Class\n",
    "The class which is declared inside another class.\n",
    "Without existing one type of object if there is no chance of existing another type of object then we go for inner classes.\n"
   ]
  },
  {
   "cell_type": "code",
   "execution_count": 1,
   "id": "c7671061",
   "metadata": {},
   "outputs": [
    {
     "name": "stdout",
     "output_type": "stream",
     "text": [
      "Employee Number: 1234\n",
      "Employee Nmae: Madhu\n",
      "Employee Salary: 10000\n"
     ]
    }
   ],
   "source": [
    "class Employee:\n",
    "    def __init__(self,eno,ename,esal):\n",
    "        self.eno=eno\n",
    "        self.ename=ename\n",
    "        self.esal=esal\n",
    "        \n",
    "    def display(self):\n",
    "        print(\"Employee Number:\",self.eno)\n",
    "        print(\"Employee Nmae:\",self.ename)\n",
    "        print(\"Employee Salary:\",self.esal)\n",
    "        \n",
    "class Test:\n",
    "    def modify(emp):\n",
    "        emp.esal=emp.esal+1000\n",
    "        emp.display()\n",
    "        \n",
    "e=Employee(1234,'Madhu',9000)\n",
    "Test.modify(e)"
   ]
  },
  {
   "cell_type": "code",
   "execution_count": 2,
   "id": "1303cca8",
   "metadata": {},
   "outputs": [
    {
     "name": "stdout",
     "output_type": "stream",
     "text": [
      "Outer class object creation....\n",
      "Inner class obejct creation....\n",
      "Inner class method\n"
     ]
    }
   ],
   "source": [
    "class Outer:\n",
    "    def __init__(self):\n",
    "        print(\"Outer class object creation....\")\n",
    "        \n",
    "    class Inner:\n",
    "        def __init__(self):\n",
    "            print(\"Inner class obejct creation....\")\n",
    "            \n",
    "        def m1(self):\n",
    "            print(\"Inner class method\")\n",
    "            \n",
    "o=Outer()\n",
    "i=o.Inner()\n",
    "i.m1()"
   ]
  },
  {
   "cell_type": "code",
   "execution_count": 3,
   "id": "a35994b3",
   "metadata": {},
   "outputs": [
    {
     "name": "stdout",
     "output_type": "stream",
     "text": [
      "Name: madhu\n",
      "DOB=1/1/2001\n"
     ]
    }
   ],
   "source": [
    "class Person:\n",
    "    def __init__(self):\n",
    "        self.name='madhu'\n",
    "        self.dob=self.DOB()\n",
    "    \n",
    "    def display(self):\n",
    "        print('Name:',self.name)\n",
    "        self.dob.display()\n",
    "        \n",
    "    class DOB:\n",
    "        def __init__(self):\n",
    "            self.dd=1\n",
    "            self.mm=1\n",
    "            self.yyyy=2001\n",
    "                \n",
    "        def display(self):\n",
    "            print('DOB={}/{}/{}'.format(self.dd,self.mm,self.yyyy))\n",
    " \n",
    "p=Person()\n",
    "p.display()"
   ]
  },
  {
   "cell_type": "code",
   "execution_count": 5,
   "id": "c4c4ff36",
   "metadata": {},
   "outputs": [
    {
     "name": "stdout",
     "output_type": "stream",
     "text": [
      "Name: Madhu\n",
      "Talking...\n",
      "Thinking...\n"
     ]
    }
   ],
   "source": [
    "class Human:\n",
    "    def __init__(self):\n",
    "        self.name=\"Madhu\"\n",
    "        self.head=self.Head()\n",
    "        \n",
    "    def display(self):\n",
    "        print('Name:',self.name)\n",
    "        self.head.talk()\n",
    "        self.head.brain.think()\n",
    "        \n",
    "    class Head:\n",
    "        def __init__(self):\n",
    "            self.brain=self.Brain()\n",
    "            \n",
    "        def talk(self):\n",
    "            print(\"Talking...\")\n",
    "            \n",
    "        class Brain:\n",
    "            def think(self):\n",
    "                print('Thinking...')\n",
    "                \n",
    "h=Human()\n",
    "h.display()"
   ]
  },
  {
   "cell_type": "code",
   "execution_count": null,
   "id": "525aff65",
   "metadata": {},
   "outputs": [],
   "source": []
  }
 ],
 "metadata": {
  "kernelspec": {
   "display_name": "Python 3 (ipykernel)",
   "language": "python",
   "name": "python3"
  },
  "language_info": {
   "codemirror_mode": {
    "name": "ipython",
    "version": 3
   },
   "file_extension": ".py",
   "mimetype": "text/x-python",
   "name": "python",
   "nbconvert_exporter": "python",
   "pygments_lexer": "ipython3",
   "version": "3.11.4"
  }
 },
 "nbformat": 4,
 "nbformat_minor": 5
}
