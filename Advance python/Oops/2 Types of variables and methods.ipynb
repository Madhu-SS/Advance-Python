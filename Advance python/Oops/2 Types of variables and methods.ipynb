{
 "cells": [
  {
   "cell_type": "markdown",
   "id": "fca14f76",
   "metadata": {},
   "source": [
    "## Instance variable"
   ]
  },
  {
   "cell_type": "code",
   "execution_count": 22,
   "id": "bf2b058a",
   "metadata": {},
   "outputs": [
    {
     "name": "stdout",
     "output_type": "stream",
     "text": [
      "Hello my name is: 100\n",
      "my rollno is: santhu\n",
      "None\n",
      "Hello my name is: 101\n",
      "my rollno is: ramesh\n",
      "None\n",
      "Hello my name is: 102\n",
      "my rollno is: kiran\n",
      "None\n"
     ]
    }
   ],
   "source": [
    "class student:\n",
    "    def __init__(self,rollno,name):\n",
    "        self.rollno=rollno#instance variavles\n",
    "        self.name=name\n",
    "        \n",
    "    def talk(self):\n",
    "        print(\"Hello my name is:\",self.name)\n",
    "        print(\"my rollno is:\",self.rollno)\n",
    "        \n",
    "s1=student('santhu',100)\n",
    "s2=student('ramesh',101)\n",
    "s3=student('kiran',102)\n",
    "print(s1.talk())\n",
    "print(s2.talk())\n",
    "print(s3.talk())\n"
   ]
  },
  {
   "cell_type": "code",
   "execution_count": 23,
   "id": "d3a6540c",
   "metadata": {},
   "outputs": [
    {
     "name": "stdout",
     "output_type": "stream",
     "text": [
      "{'rollno': 'santhu', 'name': 100}\n"
     ]
    }
   ],
   "source": [
    "print(s1.__dict__)"
   ]
  },
  {
   "cell_type": "markdown",
   "id": "76257fa7",
   "metadata": {},
   "source": [
    "#### where we have to declare instance variables\n",
    "inside constructor by using self.\n",
    "\n",
    "inside instance method by using self.\n",
    "\n",
    "from outside of the class by using object reference."
   ]
  },
  {
   "cell_type": "code",
   "execution_count": 25,
   "id": "0855d9a6",
   "metadata": {},
   "outputs": [
    {
     "name": "stdout",
     "output_type": "stream",
     "text": [
      "{'rollno': 30, 'name': 'rakesh'}\n"
     ]
    }
   ],
   "source": [
    "# where we have to declare instance variables\n",
    "class student:\n",
    "    def __init__(self,rollno,name):#inside constructor by using self\n",
    "        self.rollno=rollno\n",
    "        self.name=name\n",
    "        \n",
    "    def info(self):\n",
    "        self.marks=60 \n",
    "s1=student(30,'rakesh')\n",
    "print(s1.__dict__)"
   ]
  },
  {
   "cell_type": "code",
   "execution_count": 21,
   "id": "13bf31ac",
   "metadata": {},
   "outputs": [
    {
     "name": "stdout",
     "output_type": "stream",
     "text": [
      "{'rollno': 30, 'name': 'rakesh', 'marks': 60}\n"
     ]
    }
   ],
   "source": [
    "# where we have to declare instance variables\n",
    "class student:\n",
    "    def __init__(self,rollno,name):#inside constructor by using self\n",
    "        self.rollno=rollno\n",
    "        self.name=name\n",
    "        \n",
    "    def info(self):\n",
    "        self.marks=60 #inside instance method by using self\n",
    "\n",
    "s1=student(30,'rakesh')\n",
    "s1.info()\n",
    "print(s1.__dict__)"
   ]
  },
  {
   "cell_type": "code",
   "execution_count": 24,
   "id": "9154aecd",
   "metadata": {},
   "outputs": [
    {
     "name": "stdout",
     "output_type": "stream",
     "text": [
      "{'rollno': 30, 'name': 'rakesh', 'marks': 60, 'age': 24}\n"
     ]
    }
   ],
   "source": [
    "# where we have to declare instance variables\n",
    "class student:\n",
    "    def __init__(self,rollno,name):#inside constructor by using self\n",
    "        self.rollno=rollno\n",
    "        self.name=name\n",
    "        \n",
    "    def info(self):\n",
    "        self.marks=60 #inside instance method by using self\n",
    "\n",
    "s1=student(30,'rakesh')\n",
    "s1.info()\n",
    "s1.age=24#from outside of the class by using object reference\n",
    "print(s1.__dict__)"
   ]
  },
  {
   "cell_type": "markdown",
   "id": "3280cf2e",
   "metadata": {},
   "source": [
    "#### How to access instance variables\n",
    "within the class by using self.\n",
    "\n",
    "from outside of the class by using object reference."
   ]
  },
  {
   "cell_type": "code",
   "execution_count": 26,
   "id": "4b548f7a",
   "metadata": {},
   "outputs": [
    {
     "name": "stdout",
     "output_type": "stream",
     "text": [
      "Hello my name is: madhu\n",
      "my rollno is: 23\n"
     ]
    }
   ],
   "source": [
    "class student:\n",
    "    def __init__(self,rollno,name):\n",
    "        self.rollno=rollno\n",
    "        self.name=name\n",
    "        \n",
    "    def talk(self):\n",
    "        print(\"Hello my name is:\",self.name)#within the class by using self.\n",
    "        print(\"my rollno is:\",self.rollno)\n",
    "        \n",
    "s1=student(23,'madhu')\n",
    "s1.talk()"
   ]
  },
  {
   "cell_type": "code",
   "execution_count": 27,
   "id": "b5144337",
   "metadata": {},
   "outputs": [
    {
     "name": "stdout",
     "output_type": "stream",
     "text": [
      "madhu\n",
      "23\n"
     ]
    }
   ],
   "source": [
    "class student:\n",
    "    def __init__(self,rollno,name):\n",
    "        self.rollno=rollno\n",
    "        self.name=name\n",
    "        \n",
    "    def talk(self):\n",
    "        print(\"Hello my name is:\",self.name)\n",
    "        print(\"my rollno is:\",self.rollno)\n",
    "        \n",
    "s1=student(23,'madhu')\n",
    "print(s1.name)#from outside of the class by using object reference\n",
    "print(s1.rollno)"
   ]
  },
  {
   "cell_type": "markdown",
   "id": "ae5ebfee",
   "metadata": {},
   "source": [
    "#### How to delete instance variables:\n",
    "del self.variablename\n",
    "\n",
    "del objectreference.variablename"
   ]
  },
  {
   "cell_type": "code",
   "execution_count": 28,
   "id": "30dd0b08",
   "metadata": {},
   "outputs": [
    {
     "data": {
      "text/plain": [
       "{'a': 10, 'b': 20, 'c': 30}"
      ]
     },
     "execution_count": 28,
     "metadata": {},
     "output_type": "execute_result"
    }
   ],
   "source": [
    "class Test:\n",
    "    def __init__(self):\n",
    "        self.a=10\n",
    "        self.b=20\n",
    "        self.c=30\n",
    "        \n",
    "    def delete(self):\n",
    "        del self.b\n",
    "        del self.c\n",
    "        \n",
    "t1=Test()\n",
    "t1.__dict__"
   ]
  },
  {
   "cell_type": "code",
   "execution_count": 29,
   "id": "f8149e2b",
   "metadata": {},
   "outputs": [
    {
     "data": {
      "text/plain": [
       "{'a': 10}"
      ]
     },
     "execution_count": 29,
     "metadata": {},
     "output_type": "execute_result"
    }
   ],
   "source": [
    "class Test:\n",
    "    def __init__(self):\n",
    "        self.a=10\n",
    "        self.b=20\n",
    "        self.c=30\n",
    "        \n",
    "    def delete(self):\n",
    "        del self.b #del self.variablename\n",
    "        del self.c\n",
    "        \n",
    "t1=Test()\n",
    "t1.delete()\n",
    "t1.__dict__"
   ]
  },
  {
   "cell_type": "code",
   "execution_count": 30,
   "id": "0536e9fd",
   "metadata": {},
   "outputs": [
    {
     "data": {
      "text/plain": [
       "{'b': 20, 'c': 30}"
      ]
     },
     "execution_count": 30,
     "metadata": {},
     "output_type": "execute_result"
    }
   ],
   "source": [
    "class Test:\n",
    "    def __init__(self):\n",
    "        self.a=10\n",
    "        self.b=20\n",
    "        self.c=30\n",
    "\n",
    "t1=Test()\n",
    "del t1.a  #del objectreference.variablename\n",
    "t1.__dict__"
   ]
  },
  {
   "cell_type": "code",
   "execution_count": 31,
   "id": "b9393a30",
   "metadata": {},
   "outputs": [
    {
     "name": "stdout",
     "output_type": "stream",
     "text": [
      "{'a': 500, 'b': 600, 'c': 30}\n",
      "{'a': 10, 'b': 20, 'c': 30}\n"
     ]
    }
   ],
   "source": [
    "class Test:\n",
    "    def __init__(self):\n",
    "        self.a=10\n",
    "        self.b=20\n",
    "        self.c=30\n",
    "\n",
    "t1=Test()\n",
    "t2=Test()\n",
    "\n",
    "t1.a=500\n",
    "t1.b=600\n",
    "\n",
    "print(t1.__dict__)\n",
    "print(t2.__dict__)"
   ]
  },
  {
   "cell_type": "markdown",
   "id": "89773347",
   "metadata": {},
   "source": [
    "## static variable"
   ]
  },
  {
   "cell_type": "code",
   "execution_count": 5,
   "id": "ad96a9b6",
   "metadata": {},
   "outputs": [
    {
     "name": "stdout",
     "output_type": "stream",
     "text": [
      "Gech\n",
      "Gech\n",
      "Gech\n"
     ]
    }
   ],
   "source": [
    "class student:\n",
    "    college='Gech' # static variable\n",
    "    def __init__(self,rollno,name):\n",
    "        self.rollno=rollno\n",
    "        self.name=name\n",
    "        \n",
    "    def talk(self):\n",
    "        print(\"Hello my name is:\",self.name)\n",
    "        print(\"my rollno is:\",self.rollno)\n",
    "        \n",
    "s1=student('santhu',100)\n",
    "s2=student('ramesh',101)\n",
    "s3=student('kiran',102)\n",
    "print(s1.college)\n",
    "print(s2.college)\n",
    "print(s3.college)\n"
   ]
  },
  {
   "cell_type": "markdown",
   "id": "3ca2693d",
   "metadata": {},
   "source": [
    "#### what are the various places are there to declare static variable\n",
    "within the class directly but from outside of any method\n",
    "\n",
    "inside constructor by using class name\n",
    "\n",
    "inside classmethod by using cls variable or class name\n",
    "\n",
    "inside static method by using classname\n",
    "\n",
    "from outside of the class by using classname"
   ]
  },
  {
   "cell_type": "code",
   "execution_count": 4,
   "id": "95901b38",
   "metadata": {},
   "outputs": [
    {
     "name": "stdout",
     "output_type": "stream",
     "text": [
      "Gech\n",
      "Gech\n",
      "Gech\n"
     ]
    }
   ],
   "source": [
    "class student:\n",
    "    college='Gech' # within the class directly but from outside of any method\n",
    "    def __init__(self,rollno,name):\n",
    "        self.rollno=rollno\n",
    "        self.name=name\n",
    "        \n",
    "    def talk(self):\n",
    "        print(\"Hello my name is:\",self.name)\n",
    "        print(\"my rollno is:\",self.rollno)\n",
    "        \n",
    "s1=student('santhu',100)\n",
    "s2=student('ramesh',101)\n",
    "s3=student('kiran',102)\n",
    "print(s1.college)\n",
    "print(s2.college)\n",
    "print(s3.college)\n"
   ]
  },
  {
   "cell_type": "code",
   "execution_count": 3,
   "id": "00a35724",
   "metadata": {},
   "outputs": [
    {
     "name": "stdout",
     "output_type": "stream",
     "text": [
      "1\n",
      "1\n",
      "1\n"
     ]
    }
   ],
   "source": [
    "class student:\n",
    "    college='Gech'\n",
    "    def __init__(self,rollno,name):\n",
    "        self.rollno=rollno\n",
    "        self.name=name\n",
    "        student.sec=1#inside constructor by using class name\n",
    "        \n",
    "    def talk(self):\n",
    "        print(\"Hello my name is:\",self.name)\n",
    "        print(\"my rollno is:\",self.rollno)\n",
    "        \n",
    "s1=student('santhu',100)\n",
    "s2=student('ramesh',101)\n",
    "s3=student('kiran',102)\n",
    "print(s1.sec)\n",
    "print(s2.sec)\n",
    "print(s3.sec)\n",
    "\n"
   ]
  },
  {
   "cell_type": "code",
   "execution_count": 12,
   "id": "e4213767",
   "metadata": {},
   "outputs": [
    {
     "name": "stdout",
     "output_type": "stream",
     "text": [
      "1\n",
      "1\n",
      "1\n"
     ]
    }
   ],
   "source": [
    "class student:\n",
    "    college='Gech'\n",
    "    def __init__(self,rollno,name):\n",
    "        self.rollno=rollno\n",
    "        self.name=name\n",
    "        \n",
    "    def talk(self):\n",
    "        print(\"Hello my name is:\",self.name)\n",
    "        print(\"my rollno is:\",self.rollno)\n",
    "        \n",
    "    @classmethod        #nside classmethod by using cls variable or class name\n",
    "    def info(cls):\n",
    "        student.sec=1\n",
    "        \n",
    "s1=student('santhu',100)\n",
    "s2=student('ramesh',101)\n",
    "s3=student('kiran',102)\n",
    "s1.info()\n",
    "print(s1.sec)\n",
    "print(s2.sec)\n",
    "print(s3.sec)\n",
    "\n"
   ]
  },
  {
   "cell_type": "code",
   "execution_count": 14,
   "id": "aa376792",
   "metadata": {},
   "outputs": [
    {
     "name": "stdout",
     "output_type": "stream",
     "text": [
      "1\n",
      "1\n",
      "1\n"
     ]
    }
   ],
   "source": [
    "class student:\n",
    "    college='Gech' \n",
    "    def __init__(self,rollno,name):\n",
    "        self.rollno=rollno\n",
    "        self.name=name\n",
    "        \n",
    "    def talk(self):\n",
    "        print(\"Hello my name is:\",self.name)\n",
    "        print(\"my rollno is:\",self.rollno)\n",
    "    \n",
    "    @staticmethod  #inside static method by using classname\n",
    "    def info():\n",
    "        student.sec=1\n",
    "        \n",
    "        \n",
    "s1=student('santhu',100)\n",
    "s2=student('ramesh',101)\n",
    "s3=student('kiran',102)\n",
    "s1.info()\n",
    "print(s1.sec)\n",
    "print(s2.sec)\n",
    "print(s3.sec)\n"
   ]
  },
  {
   "cell_type": "code",
   "execution_count": 11,
   "id": "709ae0de",
   "metadata": {},
   "outputs": [
    {
     "name": "stdout",
     "output_type": "stream",
     "text": [
      "1\n",
      "1\n",
      "1\n"
     ]
    }
   ],
   "source": [
    "class student:\n",
    "    college='Gech' \n",
    "    def __init__(self,rollno,name):\n",
    "        self.rollno=rollno\n",
    "        self.name=name\n",
    "        \n",
    "    def talk(self):\n",
    "        print(\"Hello my name is:\",self.name)\n",
    "        print(\"my rollno is:\",self.rollno)\n",
    "    \n",
    "student.sec=1 #from outside of the class by using classname\n",
    "        \n",
    "        \n",
    "s1=student('santhu',100)\n",
    "s2=student('ramesh',101)\n",
    "s3=student('kiran',102)\n",
    "print(s1.sec)\n",
    "print(s2.sec)\n",
    "print(s3.sec)\n"
   ]
  },
  {
   "cell_type": "markdown",
   "id": "9110070c",
   "metadata": {},
   "source": [
    "#### How to modify static variables:\n",
    "within the class we should use classname, cls variable\n",
    "\n",
    "from outside the class: only classname"
   ]
  },
  {
   "cell_type": "code",
   "execution_count": 17,
   "id": "4f73f0df",
   "metadata": {},
   "outputs": [
    {
     "data": {
      "text/plain": [
       "20"
      ]
     },
     "execution_count": 17,
     "metadata": {},
     "output_type": "execute_result"
    }
   ],
   "source": [
    "class Test:\n",
    "    a=10\n",
    "    def __init__(self):\n",
    "        Test.a=20\n",
    "        \n",
    "t=Test()\n",
    "t.a"
   ]
  },
  {
   "cell_type": "code",
   "execution_count": 23,
   "id": "f909ba3c",
   "metadata": {},
   "outputs": [
    {
     "data": {
      "text/plain": [
       "30"
      ]
     },
     "execution_count": 23,
     "metadata": {},
     "output_type": "execute_result"
    }
   ],
   "source": [
    "class Test:\n",
    "    a=10\n",
    "    def __init__(self,b):\n",
    "        self.b=b\n",
    "    \n",
    "    @classmethod\n",
    "    def m1(cls):\n",
    "        cls.a=30#within the class we should use classname, cls variable\n",
    "        \n",
    "t=Test(6)\n",
    "t.m1()\n",
    "t.a"
   ]
  },
  {
   "cell_type": "code",
   "execution_count": 24,
   "id": "eec3d992",
   "metadata": {},
   "outputs": [
    {
     "data": {
      "text/plain": [
       "50"
      ]
     },
     "execution_count": 24,
     "metadata": {},
     "output_type": "execute_result"
    }
   ],
   "source": [
    "class Test:\n",
    "    a=10\n",
    "    def __init__(self,b):\n",
    "        self.b=b\n",
    "    \n",
    "    @classmethod\n",
    "    def m1(cls):\n",
    "        cls.a=30\n",
    "        Test.a=50\n",
    "        \n",
    "t=Test(6)\n",
    "t.m1()\n",
    "t.a"
   ]
  },
  {
   "cell_type": "code",
   "execution_count": 26,
   "id": "cd97bec7",
   "metadata": {},
   "outputs": [
    {
     "data": {
      "text/plain": [
       "50"
      ]
     },
     "execution_count": 26,
     "metadata": {},
     "output_type": "execute_result"
    }
   ],
   "source": [
    "class Test:\n",
    "    a=10\n",
    "    def __init__(self,b):\n",
    "        self.b=b\n",
    "    \n",
    "    @staticmethod\n",
    "    def m1():\n",
    "        Test.a=50\n",
    "        \n",
    "t=Test(6)\n",
    "t.m1()\n",
    "t.a"
   ]
  },
  {
   "cell_type": "code",
   "execution_count": 27,
   "id": "e738b099",
   "metadata": {},
   "outputs": [
    {
     "data": {
      "text/plain": [
       "60"
      ]
     },
     "execution_count": 27,
     "metadata": {},
     "output_type": "execute_result"
    }
   ],
   "source": [
    "class Test:\n",
    "    a=10\n",
    "    def __init__(self,b):\n",
    "        self.b=b\n",
    "    \n",
    "    @staticmethod\n",
    "    def m1():\n",
    "        Test.a=50\n",
    "        \n",
    "t=Test(6)\n",
    "t.m1()\n",
    "Test.a=60\n",
    "t.a"
   ]
  },
  {
   "cell_type": "markdown",
   "id": "1c3c466f",
   "metadata": {},
   "source": [
    "## local Variable"
   ]
  },
  {
   "cell_type": "code",
   "execution_count": 11,
   "id": "37d33404",
   "metadata": {},
   "outputs": [
    {
     "name": "stdout",
     "output_type": "stream",
     "text": [
      "Hello my name is: 100\n",
      "my rollno is: santhu\n",
      "My gender is: Male\n",
      "None\n",
      "Hello my name is: 101\n",
      "my rollno is: ramesh\n",
      "My gender is: Male\n",
      "None\n",
      "Hello my name is: 102\n",
      "my rollno is: kiran\n",
      "My gender is: Male\n",
      "None\n"
     ]
    }
   ],
   "source": [
    "class student:\n",
    "    def __init__(self,rollno,name):\n",
    "        section='A'  #local variable\n",
    "        self.rollno=rollno\n",
    "        self.name=name\n",
    "        \n",
    "    def talk(self):\n",
    "        gender='Male' #local variable\n",
    "        print(\"Hello my name is:\",self.name)\n",
    "        print(\"my rollno is:\",self.rollno)\n",
    "        print('My gender is:',gender)\n",
    "        \n",
    "s1=student('santhu',100)\n",
    "s2=student('ramesh',101)\n",
    "s3=student('kiran',102)\n",
    "print(s1.talk())\n",
    "print(s2.talk())\n",
    "print(s3.talk())\n"
   ]
  },
  {
   "cell_type": "code",
   "execution_count": 37,
   "id": "d3578ed2",
   "metadata": {},
   "outputs": [
    {
     "name": "stdout",
     "output_type": "stream",
     "text": [
      "the average of the numbers is 26.666666666666668\n"
     ]
    }
   ],
   "source": [
    "class Test:\n",
    "    def average(self,list):\n",
    "        result=sum(list)/len(list)#local variable\n",
    "        print(\"the average of the numbers is\",result)\n",
    "        \n",
    "t=Test()\n",
    "t.average([10,30,40])"
   ]
  },
  {
   "cell_type": "markdown",
   "id": "7c6cfbab",
   "metadata": {},
   "source": [
    "## Global Variable vs Class"
   ]
  },
  {
   "cell_type": "code",
   "execution_count": 39,
   "id": "516a0403",
   "metadata": {},
   "outputs": [
    {
     "name": "stdout",
     "output_type": "stream",
     "text": [
      "100\n"
     ]
    }
   ],
   "source": [
    "x=100# Global Variable\n",
    "class Test:\n",
    "    def m1():\n",
    "        print(x)\n",
    "        \n",
    "Test.m1()"
   ]
  },
  {
   "cell_type": "code",
   "execution_count": 45,
   "id": "37de8783",
   "metadata": {},
   "outputs": [
    {
     "name": "stdout",
     "output_type": "stream",
     "text": [
      "800\n"
     ]
    }
   ],
   "source": [
    "x=100# Global Variable\n",
    "class Test:\n",
    "    def m1():\n",
    "        global x\n",
    "        x=800\n",
    "        print(x)\n",
    "        \n",
    "Test.m1()"
   ]
  },
  {
   "cell_type": "code",
   "execution_count": 41,
   "id": "49b5f30e",
   "metadata": {},
   "outputs": [
    {
     "name": "stdout",
     "output_type": "stream",
     "text": [
      "100\n",
      "100\n"
     ]
    }
   ],
   "source": [
    "x=100\n",
    "class Test:\n",
    "    x=700\n",
    "    def m1(self):\n",
    "        print(x)\n",
    "    def m2(self):\n",
    "        print(x)\n",
    "t=Test()       \n",
    "t.m1()\n",
    "t.m2()"
   ]
  },
  {
   "cell_type": "code",
   "execution_count": 46,
   "id": "d555aa5e",
   "metadata": {},
   "outputs": [
    {
     "name": "stdout",
     "output_type": "stream",
     "text": [
      "300\n",
      "300\n"
     ]
    }
   ],
   "source": [
    "class Test:\n",
    "    x=700\n",
    "    def m1(self):\n",
    "        global x\n",
    "        x=300\n",
    "        print(x)\n",
    "        \n",
    "    def m2(self):\n",
    "        print(x)\n",
    "t=Test()       \n",
    "t.m1()\n",
    "t.m2()"
   ]
  },
  {
   "cell_type": "code",
   "execution_count": 43,
   "id": "4cf0a917",
   "metadata": {},
   "outputs": [
    {
     "name": "stdout",
     "output_type": "stream",
     "text": [
      "700\n",
      "700\n"
     ]
    }
   ],
   "source": [
    "x=100\n",
    "class Test:\n",
    "    x=700\n",
    "    def m1(self):\n",
    "        print(self.x)\n",
    "    def m2(self):\n",
    "        print(Test.x)\n",
    "t=Test()       \n",
    "t.m1()\n",
    "t.m2()"
   ]
  },
  {
   "cell_type": "markdown",
   "id": "7ff1dff3",
   "metadata": {},
   "source": [
    "### A small Project"
   ]
  },
  {
   "cell_type": "code",
   "execution_count": 47,
   "id": "b8afea79",
   "metadata": {},
   "outputs": [
    {
     "name": "stdout",
     "output_type": "stream",
     "text": [
      "Welcome to State Bank OF India\n",
      "Enter Your Name: Ma\n",
      "d-Deposit\n",
      "w-Withdraw\n",
      "e-Exit\n",
      "Choose Your Option: d\n",
      "Enter the amount to deposit: 20000\n",
      "After deposit the balance: 20000.0\n",
      "d-Deposit\n",
      "w-Withdraw\n",
      "e-Exit\n",
      "Choose Your Option: w\n",
      "Enter the amount to withdraw: 10000\n",
      "After withdraw the Balance:  10000.0\n",
      "d-Deposit\n",
      "w-Withdraw\n",
      "e-Exit\n",
      "Choose Your Option: e\n",
      "Thanks for Banking\n"
     ]
    },
    {
     "ename": "SystemExit",
     "evalue": "",
     "output_type": "error",
     "traceback": [
      "An exception has occurred, use %tb to see the full traceback.\n",
      "\u001b[1;31mSystemExit\u001b[0m\n"
     ]
    },
    {
     "name": "stderr",
     "output_type": "stream",
     "text": [
      "C:\\Users\\Hp\\anaconda3\\Lib\\site-packages\\IPython\\core\\interactiveshell.py:3513: UserWarning: To exit: use 'exit', 'quit', or Ctrl-D.\n",
      "  warn(\"To exit: use 'exit', 'quit', or Ctrl-D.\", stacklevel=1)\n"
     ]
    }
   ],
   "source": [
    "import sys\n",
    "class Customer:\n",
    "    '''Customer class with bank related operations'''\n",
    "    bankname=\"State Bank OF India\"\n",
    "    \n",
    "    def __init__(self,name,balance=0):\n",
    "        self.name=name\n",
    "        self.balance=balance\n",
    "        \n",
    "    def deposit(self,amt):\n",
    "        self.balance=self.balance+amt\n",
    "        print('After deposit the balance:',self.balance)\n",
    "        \n",
    "    def withdraw(self,amt):\n",
    "        if amt>self.balance:\n",
    "            print(\"Insufficiant Balance\")\n",
    "            sys.exit()\n",
    "        self.balance=self.balance-amt\n",
    "        print(\"After withdraw the Balance: \",self.balance)\n",
    "        \n",
    "print(\"Welcome to\",Customer.bankname)\n",
    "name=input(\"Enter Your Name: \")\n",
    "c=Customer(name)\n",
    "while True:\n",
    "    print(\"d-Deposit\\nw-Withdraw\\ne-Exit\")\n",
    "    option=input(\"Choose Your Option: \")\n",
    "    if option.lower()=='d':\n",
    "        amt=float(input(\"Enter the amount to deposit: \"))\n",
    "        c.deposit(amt)\n",
    "    elif option=='w' or option=='W':\n",
    "        amt=float(input(\"Enter the amount to withdraw: \"))\n",
    "        c.withdraw(amt)\n",
    "    elif option=='e' or option=='E':\n",
    "        print('Thanks for Banking')\n",
    "        sys.exit()\n",
    "    else:\n",
    "        print(\"Choose a Valid Option\")"
   ]
  },
  {
   "cell_type": "markdown",
   "id": "4cf1973f",
   "metadata": {},
   "source": [
    "# Methods"
   ]
  },
  {
   "cell_type": "markdown",
   "id": "0438e5dc",
   "metadata": {},
   "source": [
    "## Instance Methods"
   ]
  },
  {
   "cell_type": "code",
   "execution_count": 12,
   "id": "fea37a8e",
   "metadata": {},
   "outputs": [
    {
     "name": "stdout",
     "output_type": "stream",
     "text": [
      "Hello my name is: 100\n",
      "my rollno is: santhu\n",
      "None\n",
      "Hello my name is: 101\n",
      "my rollno is: ramesh\n",
      "None\n",
      "Hello my name is: 102\n",
      "my rollno is: kiran\n",
      "None\n"
     ]
    }
   ],
   "source": [
    "class student:\n",
    "    def __init__(self,rollno,name):\n",
    "        self.rollno=rollno#instance variavles\n",
    "        self.name=name\n",
    "        \n",
    "    def talk(self):\n",
    "        print(\"Hello my name is:\",self.name)\n",
    "        print(\"my rollno is:\",self.rollno)\n",
    "        \n",
    "s1=student('santhu',100)\n",
    "s2=student('ramesh',101)\n",
    "s3=student('kiran',102)\n",
    "print(s1.talk())\n",
    "print(s2.talk())\n",
    "print(s3.talk())\n"
   ]
  },
  {
   "cell_type": "markdown",
   "id": "3205ed4b",
   "metadata": {},
   "source": [
    "## Class Method"
   ]
  },
  {
   "cell_type": "code",
   "execution_count": 16,
   "id": "cc8e8e9a",
   "metadata": {},
   "outputs": [
    {
     "name": "stdout",
     "output_type": "stream",
     "text": [
      "College Name :  Gech\n",
      "None\n",
      "College Name :  Gech\n"
     ]
    }
   ],
   "source": [
    "class student:\n",
    "    college='Gech' # static variable\n",
    "    def __init__(self,rollno,name):\n",
    "        self.rollno=rollno\n",
    "        self.name=name\n",
    "        \n",
    "    def talk(self):\n",
    "        print(\"Hello my name is:\",self.name)\n",
    "        print(\"my rollno is:\",self.rollno)\n",
    "    \n",
    "    @classmethod\n",
    "    def GetCollegeName(cls): #class method\n",
    "        print(\"College Name : \",cls.college)\n",
    "        \n",
    "s1=student('santhu',100)\n",
    "s2=student('ramesh',101)\n",
    "s3=student('kiran',102)\n",
    "print(s1.GetCollegeName()) #or\n",
    "student.GetCollegeName()"
   ]
  },
  {
   "cell_type": "code",
   "execution_count": 2,
   "id": "3c3905c9",
   "metadata": {},
   "outputs": [
    {
     "name": "stdout",
     "output_type": "stream",
     "text": [
      "cat walks with 4 legs\n"
     ]
    }
   ],
   "source": [
    "class Animal:\n",
    "    legs=4\n",
    "    @classmethod\n",
    "    def walk(cls,name):\n",
    "        print('{} walks with {} legs'.format(name,cls.legs))\n",
    "Animal.walk('cat')"
   ]
  },
  {
   "cell_type": "markdown",
   "id": "d3a65af0",
   "metadata": {},
   "source": [
    "## Static Method"
   ]
  },
  {
   "cell_type": "code",
   "execution_count": 17,
   "id": "da8d1cff",
   "metadata": {},
   "outputs": [
    {
     "name": "stdout",
     "output_type": "stream",
     "text": [
      "Average: 3.0\n"
     ]
    }
   ],
   "source": [
    "class student:\n",
    "    college='Gech' \n",
    "    def __init__(self,rollno,name):\n",
    "        self.rollno=rollno\n",
    "        self.name=name\n",
    "        \n",
    "    def talk(self):\n",
    "        print(\"Hello my name is:\",self.name)\n",
    "        print(\"my rollno is:\",self.rollno)\n",
    "    \n",
    "    @classmethod\n",
    "    def GetCollegeName(cls):\n",
    "        print(\"College Name : \",cls.college)\n",
    "        \n",
    "    def FindAverage(x,y):\n",
    "        print(\"Average:\",(x+y)/2)\n",
    "        \n",
    "student.FindAverage(2,4)                                                    #or"
   ]
  },
  {
   "cell_type": "code",
   "execution_count": 18,
   "id": "76051745",
   "metadata": {},
   "outputs": [
    {
     "name": "stdout",
     "output_type": "stream",
     "text": [
      "Average: 3.0\n"
     ]
    }
   ],
   "source": [
    "class student:\n",
    "    college='Gech'\n",
    "    def __init__(self,rollno,name):\n",
    "        self.rollno=rollno\n",
    "        self.name=name\n",
    "        \n",
    "    def talk(self):\n",
    "        print(\"Hello my name is:\",self.name)\n",
    "        print(\"my rollno is:\",self.rollno)\n",
    "    \n",
    "    @classmethod\n",
    "    def GetCollegeName(cls): \n",
    "        print(\"College Name : \",cls.college)\n",
    "        \n",
    "    @staticmethod   \n",
    "    def FindAverage(x,y): #stactic method\n",
    "        print(\"Average:\",(x+y)/2)\n",
    "        \n",
    "student.FindAverage(2,4)                 "
   ]
  },
  {
   "cell_type": "markdown",
   "id": "6886edbf",
   "metadata": {},
   "source": [
    "# waste"
   ]
  },
  {
   "cell_type": "code",
   "execution_count": null,
   "id": "2c695b4f",
   "metadata": {},
   "outputs": [],
   "source": [
    "class student:\n",
    "    def __init__(self,rollno,name):\n",
    "        self.rollno=rollno#instance variavles\n",
    "        self.name=name\n",
    "        \n",
    "    def talk(self):\n",
    "        print(\"Hello my name is:\",self.name)\n",
    "        print(\"my rollno is:\",self.rollno)\n",
    "        \n",
    "s1=student(23,'madhu')\n",
    "s1.talk()"
   ]
  },
  {
   "cell_type": "code",
   "execution_count": 36,
   "id": "961c9926",
   "metadata": {},
   "outputs": [
    {
     "name": "stdout",
     "output_type": "stream",
     "text": [
      "100\n",
      "200\n"
     ]
    }
   ],
   "source": [
    "class Test:\n",
    "    def m1(self):\n",
    "        a=100\n",
    "        print(a)\n",
    "                \n",
    "    def m2(self):\n",
    "        b=200\n",
    "        print(b)\n",
    "t=Test()\n",
    "t.m1()\n",
    "t.m2()     "
   ]
  },
  {
   "cell_type": "code",
   "execution_count": null,
   "id": "da392676",
   "metadata": {},
   "outputs": [],
   "source": []
  }
 ],
 "metadata": {
  "kernelspec": {
   "display_name": "Python 3 (ipykernel)",
   "language": "python",
   "name": "python3"
  },
  "language_info": {
   "codemirror_mode": {
    "name": "ipython",
    "version": 3
   },
   "file_extension": ".py",
   "mimetype": "text/x-python",
   "name": "python",
   "nbconvert_exporter": "python",
   "pygments_lexer": "ipython3",
   "version": "3.11.4"
  }
 },
 "nbformat": 4,
 "nbformat_minor": 5
}
