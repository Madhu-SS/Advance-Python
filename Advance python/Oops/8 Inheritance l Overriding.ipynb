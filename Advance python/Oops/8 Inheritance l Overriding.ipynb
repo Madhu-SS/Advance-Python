{
 "cells": [
  {
   "cell_type": "markdown",
   "id": "f94944f6",
   "metadata": {},
   "source": [
    "# Inheritance\n",
    "\n",
    "Code Reusability\n",
    "\n",
    "Exsisting functionality we can extend"
   ]
  },
  {
   "cell_type": "markdown",
   "id": "b2fbbcc1",
   "metadata": {},
   "source": [
    "## Single Inheritance"
   ]
  },
  {
   "cell_type": "code",
   "execution_count": 1,
   "id": "7edb97ce",
   "metadata": {},
   "outputs": [
    {
     "name": "stdout",
     "output_type": "stream",
     "text": [
      "Cash+Land+Gold+Power\n",
      "Deepika Padukone\n",
      "Samantha\n"
     ]
    }
   ],
   "source": [
    "class P:\n",
    "    def property(self):\n",
    "        print('Cash+Land+Gold+Power')\n",
    "        \n",
    "    def marry(self):\n",
    "        print('Deepika Padukone')\n",
    "        \n",
    "class C(P):\n",
    "    def girlfriend(self):\n",
    "        print('Samantha')\n",
    "\n",
    "c=C()\n",
    "c.property()\n",
    "c.marry()\n",
    "c.girlfriend()"
   ]
  },
  {
   "cell_type": "markdown",
   "id": "8b59e9b7",
   "metadata": {},
   "source": [
    "## MultiLevel Inheritance"
   ]
  },
  {
   "cell_type": "code",
   "execution_count": 2,
   "id": "968028a3",
   "metadata": {},
   "outputs": [
    {
     "name": "stdout",
     "output_type": "stream",
     "text": [
      "Cash+Land+Gold+Power\n",
      "Deepika Padukone\n",
      "Pooja Hegde\n",
      "Samantha\n"
     ]
    }
   ],
   "source": [
    "class P:\n",
    "    def property(self):\n",
    "        print('Cash+Land+Gold+Power')\n",
    "        \n",
    "    def marry(self):\n",
    "        print('Deepika Padukone')\n",
    "        \n",
    "class C(P):\n",
    "    def girlfriend(self):\n",
    "        print('Pooja Hegde')\n",
    "        \n",
    "class K(C):\n",
    "    def Crush(slef):\n",
    "        print('Samantha')\n",
    "        \n",
    "k=K()\n",
    "k.property()\n",
    "k.marry()\n",
    "k.girlfriend()\n",
    "k.Crush()"
   ]
  },
  {
   "cell_type": "markdown",
   "id": "c3e831b6",
   "metadata": {},
   "source": [
    "## Hierarchical Inheritance"
   ]
  },
  {
   "cell_type": "code",
   "execution_count": 3,
   "id": "21107208",
   "metadata": {},
   "outputs": [
    {
     "name": "stdout",
     "output_type": "stream",
     "text": [
      "Cash+Land+Gold+Power\n",
      "Deepika Padukone\n",
      "Samantha\n",
      "Cash+Land+Gold+Power\n",
      "Deepika Padukone\n",
      "Pooja Hegde\n"
     ]
    }
   ],
   "source": [
    "class P:\n",
    "    def property(self):\n",
    "        print('Cash+Land+Gold+Power')\n",
    "        \n",
    "    def marry(self):\n",
    "        print('Deepika Padukone')\n",
    "        \n",
    "class C(P):\n",
    "    def girlfriend(self):\n",
    "        print('Pooja Hegde')\n",
    "        \n",
    "class K(P):# multiple inheritance\n",
    "    def Crush(slef):\n",
    "        print('Samantha')\n",
    "        \n",
    "k=K()\n",
    "k.property()\n",
    "k.marry()\n",
    "k.Crush()\n",
    "c=C()\n",
    "c.property()\n",
    "c.marry()\n",
    "c.girlfriend()"
   ]
  },
  {
   "cell_type": "markdown",
   "id": "c4b9660b",
   "metadata": {},
   "source": [
    "## Multiple Inheritance"
   ]
  },
  {
   "cell_type": "code",
   "execution_count": 4,
   "id": "efce74c3",
   "metadata": {},
   "outputs": [
    {
     "name": "stdout",
     "output_type": "stream",
     "text": [
      "Cash+Land+Gold+Power\n",
      "Deepika Padukone\n",
      "Pooja Hegde\n",
      "Samantha\n"
     ]
    }
   ],
   "source": [
    "class P:\n",
    "    def property(self):\n",
    "        print('Cash+Land+Gold+Power')\n",
    "        \n",
    "    def marry(self):\n",
    "        print('Deepika Padukone')\n",
    "        \n",
    "class C:\n",
    "    def girlfriend(self):\n",
    "        print('Pooja Hegde')\n",
    "        \n",
    "class K(C,P):# multiple inheritance\n",
    "    def Crush(slef):\n",
    "        print('Samantha')\n",
    "        \n",
    "k=K()\n",
    "k.property()\n",
    "k.marry()\n",
    "k.girlfriend()\n",
    "k.Crush()"
   ]
  },
  {
   "cell_type": "code",
   "execution_count": 5,
   "id": "51f5def5",
   "metadata": {},
   "outputs": [
    {
     "name": "stdout",
     "output_type": "stream",
     "text": [
      "Deepika Padukone\n"
     ]
    }
   ],
   "source": [
    "class P1:\n",
    "    def property(self):\n",
    "        print('Cash+Land+Gold+Power')\n",
    "        \n",
    "    def marry(self):\n",
    "        print('Deepika Padukone')\n",
    "        \n",
    "class P2:\n",
    "    def marry(self):\n",
    "        print('Pooja Hegde')\n",
    "        \n",
    "class C(P1,P2): pass\n",
    "        \n",
    "c=C()\n",
    "\n",
    "c.marry()# here first preiority for P1 because you mentioned P1 in first(P1,P2)\n"
   ]
  },
  {
   "cell_type": "code",
   "execution_count": 6,
   "id": "c493983c",
   "metadata": {},
   "outputs": [
    {
     "name": "stdout",
     "output_type": "stream",
     "text": [
      "Pooja Hegde\n"
     ]
    }
   ],
   "source": [
    "class P1:\n",
    "    def property(self):\n",
    "        print('Cash+Land+Gold+Power')\n",
    "        \n",
    "    def marry(self):\n",
    "        print('Deepika Padukone')\n",
    "        \n",
    "class P2:\n",
    "    def marry(self):\n",
    "        print('Pooja Hegde')\n",
    "        \n",
    "class C(P2,P1): pass\n",
    "        \n",
    "c=C()\n",
    "\n",
    "c.marry()# here first preiority for P2 because you mentioned P2 in first(P2,P1)\n"
   ]
  },
  {
   "cell_type": "markdown",
   "id": "f14822c1",
   "metadata": {},
   "source": [
    "## Hybrid Inheritance | MRO Algorithm"
   ]
  },
  {
   "cell_type": "markdown",
   "id": "12afef4e",
   "metadata": {},
   "source": [
    "                     O      \n",
    "                   / | \\\n",
    "                  A  B  C\n",
    "                  \\ / \\ /\\\n",
    "                   X   Y  |\n",
    "                    \\  /  /\n",
    "                       P"
   ]
  },
  {
   "cell_type": "markdown",
   "id": "30689132",
   "metadata": {},
   "source": [
    "mro(O)=object\n",
    "\n",
    "mro(A)=A,O\n",
    "\n",
    "mro(B)=B,O\n",
    "\n",
    "mro(C)=C,O\n",
    "\n",
    "mro(X)=X,A,B,O\n",
    "\n",
    "mro(Y)=Y,B,C,O\n",
    "\n",
    "mro(P)=P,X,Y,C,A,B,O     ----------------   CORRECT OR WRONG let's check it"
   ]
  },
  {
   "cell_type": "code",
   "execution_count": 7,
   "id": "d695a812",
   "metadata": {},
   "outputs": [
    {
     "name": "stdout",
     "output_type": "stream",
     "text": [
      "[<class '__main__.A'>, <class 'object'>]\n",
      "[<class '__main__.B'>, <class 'object'>]\n",
      "[<class '__main__.C'>, <class 'object'>]\n",
      "[<class '__main__.X'>, <class '__main__.A'>, <class '__main__.B'>, <class 'object'>]\n",
      "[<class '__main__.Y'>, <class '__main__.B'>, <class '__main__.C'>, <class 'object'>]\n",
      "[<class '__main__.P'>, <class '__main__.X'>, <class '__main__.A'>, <class '__main__.Y'>, <class '__main__.B'>, <class '__main__.C'>, <class 'object'>]\n"
     ]
    }
   ],
   "source": [
    "class A:pass\n",
    "class B:pass\n",
    "class C:pass\n",
    "class X(A,B):pass\n",
    "class Y(B,C):pass\n",
    "class P(X,Y,C):pass\n",
    "print(A.mro())\n",
    "print(B.mro())\n",
    "print(C.mro())\n",
    "print(X.mro())\n",
    "print(Y.mro())\n",
    "print(P.mro())"
   ]
  },
  {
   "cell_type": "markdown",
   "id": "c22e1e03",
   "metadata": {},
   "source": [
    "If head element of list not present in the tail part of any other list then consider that element is the result and remove that element that from all the lists.\n",
    "\n",
    "mro(P) = P + Merge(mro(X),mro(Y),mro(C),XYC)\n",
    "\n",
    "mro(P) = P + Merge(XABO,YBCO,CO,XYC)\n",
    "\n",
    "mro(P) = P + X + Merge(ABO,YBCO,CO,YC)\n",
    "\n",
    "mro(P) = P + X + A + Merge(BO,YBCO,CO,YC)\n",
    "\n",
    "mro(P) = P + X + A + Y + Merge(BO,BCO,CO,C)\n",
    "\n",
    "mro(P) = P + X + A + Y + B + Merge(O,CO,CO,C)\n",
    "\n",
    "mro(P) = P + X + A + Y + B + C + Merge(O,O,O)\n",
    "\n",
    "mro(P) = P + X + A + Y + B + C + O\n"
   ]
  },
  {
   "cell_type": "markdown",
   "id": "17362195",
   "metadata": {},
   "source": [
    "## Method OverRiding"
   ]
  },
  {
   "cell_type": "code",
   "execution_count": 8,
   "id": "3672558f",
   "metadata": {},
   "outputs": [
    {
     "name": "stdout",
     "output_type": "stream",
     "text": [
      "Cash+Land+Gold+Power\n",
      "Pooja Hegde\n"
     ]
    }
   ],
   "source": [
    "class P:\n",
    "    def property(self):\n",
    "        print('Cash+Land+Gold+Power')\n",
    "        \n",
    "    def marry(self):\n",
    "        print('Deepika Padukone')\n",
    "        \n",
    "class C(P):\n",
    "    def marry(self):\n",
    "        print('Pooja Hegde')\n",
    "\n",
    "c=C()\n",
    "c.property()\n",
    "c.marry()"
   ]
  },
  {
   "cell_type": "markdown",
   "id": "3e10d378",
   "metadata": {},
   "source": [
    "## Super Inheritance"
   ]
  },
  {
   "cell_type": "code",
   "execution_count": 9,
   "id": "229e6ee8",
   "metadata": {},
   "outputs": [
    {
     "name": "stdout",
     "output_type": "stream",
     "text": [
      "Cash+Land+Gold+Power\n",
      "Deepika Padukone\n",
      "Pooja Hegde\n"
     ]
    }
   ],
   "source": [
    "class P:\n",
    "    def property(self):\n",
    "        print('Cash+Land+Gold+Power')\n",
    "        \n",
    "    def marry(self):\n",
    "        print('Deepika Padukone')\n",
    "        \n",
    "class C(P):\n",
    "    def marry(self):\n",
    "        super().marry()\n",
    "        print('Pooja Hegde')\n",
    "\n",
    "c=C()\n",
    "c.property()\n",
    "c.marry()"
   ]
  },
  {
   "cell_type": "markdown",
   "id": "c72796ee",
   "metadata": {},
   "source": [
    "How to call a particular parent class method by using super()\n",
    "\n",
    "2 ways \n",
    "\n",
    "1 parentclassname.methodname(self)\n",
    "  \n",
    "  B.m1(self)\n",
    "  \n",
    "  \n",
    "  \n",
    "2 Super(D,self).m1()"
   ]
  },
  {
   "cell_type": "code",
   "execution_count": 10,
   "id": "4c45e8a5",
   "metadata": {},
   "outputs": [
    {
     "name": "stdout",
     "output_type": "stream",
     "text": [
      "B Class Method\n"
     ]
    }
   ],
   "source": [
    "class A:\n",
    "    def m1(self):\n",
    "        print(\"A Class Method\")\n",
    "class B(A):        \n",
    "    def m1(self):\n",
    "        print(\"B Class Method\")\n",
    "class C(B):\n",
    "    def m1(self):\n",
    "        print(\"C Class Method\")\n",
    "class D(C):        \n",
    "    def m1(self):\n",
    "        print(\"D Class Method\")\n",
    "class E(D):        \n",
    "    def m1(self):\n",
    "        B.m1(self)\n",
    "        \n",
    "e=E()\n",
    "e.m1()"
   ]
  },
  {
   "cell_type": "code",
   "execution_count": 11,
   "id": "05df6fdf",
   "metadata": {},
   "outputs": [
    {
     "name": "stdout",
     "output_type": "stream",
     "text": [
      "C Class Method\n"
     ]
    }
   ],
   "source": [
    "class A:\n",
    "    def m1(self):\n",
    "        print(\"A Class Method\")\n",
    "class B(A):        \n",
    "    def m1(self):\n",
    "        print(\"B Class Method\")\n",
    "class C(B):\n",
    "    def m1(self):\n",
    "        print(\"C Class Method\")\n",
    "class D(C):        \n",
    "    def m1(self):\n",
    "        print(\"D Class Method\")\n",
    "class E(D):        \n",
    "    def m1(self):\n",
    "        super(D,self).m1()\n",
    "        \n",
    "e=E()\n",
    "e.m1()"
   ]
  },
  {
   "cell_type": "code",
   "execution_count": 12,
   "id": "3eebd794",
   "metadata": {},
   "outputs": [
    {
     "name": "stdout",
     "output_type": "stream",
     "text": [
      "B Class Method\n"
     ]
    }
   ],
   "source": [
    "class A:\n",
    "    def m1(self):\n",
    "        print(\"A Class Method\")\n",
    "class B(A):        \n",
    "    def m1(self):\n",
    "        print(\"B Class Method\")\n",
    "class C(B):\n",
    "    def m1(self):\n",
    "        print(\"C Class Method\")\n",
    "class D(C):        \n",
    "    def m1(self):\n",
    "        print(\"D Class Method\")\n",
    "class E(D):        \n",
    "    def m1(self):\n",
    "        super(C,self).m1()\n",
    "        \n",
    "e=E()\n",
    "e.m1()"
   ]
  },
  {
   "cell_type": "code",
   "execution_count": null,
   "id": "b0f811fb",
   "metadata": {},
   "outputs": [],
   "source": []
  }
 ],
 "metadata": {
  "kernelspec": {
   "display_name": "Python 3 (ipykernel)",
   "language": "python",
   "name": "python3"
  },
  "language_info": {
   "codemirror_mode": {
    "name": "ipython",
    "version": 3
   },
   "file_extension": ".py",
   "mimetype": "text/x-python",
   "name": "python",
   "nbconvert_exporter": "python",
   "pygments_lexer": "ipython3",
   "version": "3.11.4"
  }
 },
 "nbformat": 4,
 "nbformat_minor": 5
}
