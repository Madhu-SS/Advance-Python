{
 "cells": [
  {
   "cell_type": "code",
   "execution_count": 24,
   "id": "7858f024",
   "metadata": {},
   "outputs": [],
   "source": [
    "class Test:\n",
    "    def __init__(self,name,rollno):\n",
    "        self.name=name\n",
    "        self.rollno=rollno\n",
    "        \n",
    "    def SetName(self,name):\n",
    "        self.name=name\n",
    "        \n",
    "    def SetRollno(self,rollno):\n",
    "        self.rollno=rollno\n",
    "        \n",
    "    def GetName(self):\n",
    "        print('name :',self.name)\n",
    "        \n",
    "    def GetRollno(self):\n",
    "        return self.rollno\n",
    "        "
   ]
  },
  {
   "cell_type": "code",
   "execution_count": 25,
   "id": "0c6248b3",
   "metadata": {},
   "outputs": [
    {
     "data": {
      "text/plain": [
       "'madhu'"
      ]
     },
     "execution_count": 25,
     "metadata": {},
     "output_type": "execute_result"
    }
   ],
   "source": [
    "t=Test(\"madhu\",23)\n",
    "t.name"
   ]
  },
  {
   "cell_type": "code",
   "execution_count": 26,
   "id": "d3082568",
   "metadata": {},
   "outputs": [],
   "source": [
    "t.SetName('rakesh')"
   ]
  },
  {
   "cell_type": "code",
   "execution_count": 27,
   "id": "a9ca4f52",
   "metadata": {},
   "outputs": [
    {
     "data": {
      "text/plain": [
       "'rakesh'"
      ]
     },
     "execution_count": 27,
     "metadata": {},
     "output_type": "execute_result"
    }
   ],
   "source": [
    "t.name"
   ]
  },
  {
   "cell_type": "code",
   "execution_count": 28,
   "id": "7b26a374",
   "metadata": {},
   "outputs": [
    {
     "name": "stdout",
     "output_type": "stream",
     "text": [
      "name : rakesh\n"
     ]
    }
   ],
   "source": [
    "t.GetName()"
   ]
  },
  {
   "cell_type": "code",
   "execution_count": 29,
   "id": "696f39db",
   "metadata": {},
   "outputs": [
    {
     "data": {
      "text/plain": [
       "23"
      ]
     },
     "execution_count": 29,
     "metadata": {},
     "output_type": "execute_result"
    }
   ],
   "source": [
    "t.GetRollno()"
   ]
  },
  {
   "cell_type": "code",
   "execution_count": 30,
   "id": "28cfe7b5",
   "metadata": {},
   "outputs": [],
   "source": [
    "t.SetRollno(30)"
   ]
  },
  {
   "cell_type": "code",
   "execution_count": 31,
   "id": "775bd063",
   "metadata": {},
   "outputs": [
    {
     "data": {
      "text/plain": [
       "30"
      ]
     },
     "execution_count": 31,
     "metadata": {},
     "output_type": "execute_result"
    }
   ],
   "source": [
    "t.GetRollno()"
   ]
  },
  {
   "cell_type": "code",
   "execution_count": null,
   "id": "74275f2a",
   "metadata": {},
   "outputs": [],
   "source": []
  }
 ],
 "metadata": {
  "kernelspec": {
   "display_name": "Python 3 (ipykernel)",
   "language": "python",
   "name": "python3"
  },
  "language_info": {
   "codemirror_mode": {
    "name": "ipython",
    "version": 3
   },
   "file_extension": ".py",
   "mimetype": "text/x-python",
   "name": "python",
   "nbconvert_exporter": "python",
   "pygments_lexer": "ipython3",
   "version": "3.11.4"
  }
 },
 "nbformat": 4,
 "nbformat_minor": 5
}
