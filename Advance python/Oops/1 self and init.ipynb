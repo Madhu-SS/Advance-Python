{
 "cells": [
  {
   "cell_type": "code",
   "execution_count": 2,
   "id": "2588766e",
   "metadata": {},
   "outputs": [],
   "source": [
    "class student:\n",
    "    def __init__(self,rollno,name):\n",
    "        self.rollno=rollno\n",
    "        self.name=name\n",
    "        \n",
    "    def talk(self):\n",
    "        print(\"Hello my name is:\",self.name)\n",
    "        print(\"my rollno is:\",self.rollno)"
   ]
  },
  {
   "cell_type": "markdown",
   "id": "90cb09dd",
   "metadata": {},
   "source": [
    "student = class.\n",
    "\n",
    "student(23,\"madhu\") = object.\n",
    "\n",
    "s1 = refernce variable."
   ]
  },
  {
   "cell_type": "code",
   "execution_count": 4,
   "id": "44ca0903",
   "metadata": {},
   "outputs": [
    {
     "name": "stdout",
     "output_type": "stream",
     "text": [
      "madhu\n",
      "23\n"
     ]
    }
   ],
   "source": [
    "s1=student(23,'madhu')\n",
    "print(s1.name)\n",
    "print(s1.rollno)"
   ]
  },
  {
   "cell_type": "code",
   "execution_count": 6,
   "id": "92c27c2c",
   "metadata": {},
   "outputs": [
    {
     "name": "stdout",
     "output_type": "stream",
     "text": [
      "Hello my name is: madhu\n",
      "my rollno is: 23\n"
     ]
    }
   ],
   "source": [
    "s1.talk()"
   ]
  },
  {
   "cell_type": "code",
   "execution_count": 10,
   "id": "15f32b29",
   "metadata": {},
   "outputs": [
    {
     "name": "stdout",
     "output_type": "stream",
     "text": [
      "Hello my name is: Sinchana\n",
      "my rollno is: 21\n"
     ]
    }
   ],
   "source": [
    "s2=student(21,'Sinchana')\n",
    "s2.talk()"
   ]
  },
  {
   "cell_type": "code",
   "execution_count": 23,
   "id": "e78cab18",
   "metadata": {},
   "outputs": [],
   "source": [
    "class Employee:\n",
    "    ''' This class is developed by madhu s s '''\n",
    "    def __init__(self,eno,ename,esal,eaddr):\n",
    "        self.eno=eno\n",
    "        self.ename=ename\n",
    "        self.esal=esal\n",
    "        self.eaddr=eaddr\n",
    "        \n",
    "    def info(self):\n",
    "        print(\"*\"*20)\n",
    "        print(\"Employee Number:\",self.eno)\n",
    "        print(\"Employee Name:\",self.ename)\n",
    "        print(\"Employee Salary:\",self.esal)\n",
    "        print(\"Employee Adress:\",self.eaddr)\n",
    "        print(\"*\"*20)"
   ]
  },
  {
   "cell_type": "code",
   "execution_count": 18,
   "id": "a5987167",
   "metadata": {},
   "outputs": [],
   "source": [
    "e1=Employee(100,\"madhu\",10000,\"bang\")\n",
    "e2=Employee(200,\"ramesh\",20000,\"tmk\")"
   ]
  },
  {
   "cell_type": "code",
   "execution_count": 19,
   "id": "7ac4bece",
   "metadata": {},
   "outputs": [
    {
     "name": "stdout",
     "output_type": "stream",
     "text": [
      "********************\n",
      "Employee Number: 100\n",
      "Employee Name: madhu\n",
      "Employee Salary: 10000\n",
      "Employee Adress: bang\n",
      "********************\n"
     ]
    }
   ],
   "source": [
    "e1.info()"
   ]
  },
  {
   "cell_type": "code",
   "execution_count": 20,
   "id": "bd35b730",
   "metadata": {},
   "outputs": [
    {
     "name": "stdout",
     "output_type": "stream",
     "text": [
      "********************\n",
      "Employee Number: 200\n",
      "Employee Name: ramesh\n",
      "Employee Salary: 20000\n",
      "Employee Adress: tmk\n",
      "********************\n"
     ]
    }
   ],
   "source": [
    "e2.info()"
   ]
  },
  {
   "cell_type": "code",
   "execution_count": 24,
   "id": "342cbe46",
   "metadata": {},
   "outputs": [
    {
     "name": "stdout",
     "output_type": "stream",
     "text": [
      " This class is developed by madhu s s \n"
     ]
    }
   ],
   "source": [
    "print(Employee.__doc__)"
   ]
  },
  {
   "cell_type": "code",
   "execution_count": 25,
   "id": "3cdb6666",
   "metadata": {},
   "outputs": [
    {
     "name": "stdout",
     "output_type": "stream",
     "text": [
      "Help on class Employee in module __main__:\n",
      "\n",
      "class Employee(builtins.object)\n",
      " |  Employee(eno, ename, esal, eaddr)\n",
      " |  \n",
      " |  This class is developed by madhu s s\n",
      " |  \n",
      " |  Methods defined here:\n",
      " |  \n",
      " |  __init__(self, eno, ename, esal, eaddr)\n",
      " |      Initialize self.  See help(type(self)) for accurate signature.\n",
      " |  \n",
      " |  info(self)\n",
      " |  \n",
      " |  ----------------------------------------------------------------------\n",
      " |  Data descriptors defined here:\n",
      " |  \n",
      " |  __dict__\n",
      " |      dictionary for instance variables (if defined)\n",
      " |  \n",
      " |  __weakref__\n",
      " |      list of weak references to the object (if defined)\n",
      "\n"
     ]
    }
   ],
   "source": [
    "help(Employee)"
   ]
  },
  {
   "cell_type": "code",
   "execution_count": 26,
   "id": "428bf73c",
   "metadata": {},
   "outputs": [
    {
     "name": "stdout",
     "output_type": "stream",
     "text": [
      "3108206597840\n",
      "3108206597840\n"
     ]
    }
   ],
   "source": [
    "class abcd:\n",
    "    def __init__(self):\n",
    "        print(id(self))\n",
    "        \n",
    "s=abcd()\n",
    "print(id(s))"
   ]
  },
  {
   "cell_type": "code",
   "execution_count": 30,
   "id": "68098fc6",
   "metadata": {},
   "outputs": [
    {
     "name": "stdout",
     "output_type": "stream",
     "text": [
      "********************\n",
      "Employee Number: 100\n",
      "Employee Name: madhu\n",
      "Employee Salary: 10000\n",
      "Employee Adress: bang\n",
      "********************\n"
     ]
    }
   ],
   "source": [
    "class Employee:\n",
    "    ''' This class is developed by madhu s s '''\n",
    "    def __init__(s,eno,ename,esal,eaddr):\n",
    "        s.eno=eno\n",
    "        s.ename=ename\n",
    "        s.esal=esal\n",
    "        s.eaddr=eaddr\n",
    "        \n",
    "    def info(self):\n",
    "        print(\"*\"*20)\n",
    "        print(\"Employee Number:\",self.eno)\n",
    "        print(\"Employee Name:\",self.ename)\n",
    "        print(\"Employee Salary:\",self.esal)\n",
    "        print(\"Employee Adress:\",self.eaddr)\n",
    "        print(\"*\"*20)\n",
    "        \n",
    "e1=Employee(100,\"madhu\",10000,\"bang\")\n",
    "e1.info()"
   ]
  },
  {
   "cell_type": "code",
   "execution_count": 1,
   "id": "772171b6",
   "metadata": {},
   "outputs": [
    {
     "name": "stdout",
     "output_type": "stream",
     "text": [
      "********************\n",
      "Employee Number: 100\n",
      "Employee Name: bang\n",
      "Employee Salary: 10000\n",
      "Employee Adress: madhu\n",
      "********************\n"
     ]
    }
   ],
   "source": [
    "class Employee:\n",
    "    ''' This class is developed by madhu s s '''\n",
    "    def __init__(s,eno,ename,esal,eaddr):\n",
    "        s.eno=eno\n",
    "        s.ename=ename\n",
    "        s.esal=esal\n",
    "        s.eaddr=eaddr\n",
    "        \n",
    "    def info(x):\n",
    "        print(\"*\"*20)\n",
    "        print(\"Employee Number:\",x.eno)\n",
    "        print(\"Employee Name:\",x.ename)\n",
    "        print(\"Employee Salary:\",x.esal)\n",
    "        print(\"Employee Adress:\",x.eaddr)\n",
    "        print(\"*\"*20)\n",
    "        \n",
    "e1=Employee(eno=100,eaddr=\"madhu\",esal=10000,ename=\"bang\")\n",
    "e1.info()"
   ]
  },
  {
   "cell_type": "code",
   "execution_count": 2,
   "id": "b2afe2f1",
   "metadata": {},
   "outputs": [
    {
     "name": "stdout",
     "output_type": "stream",
     "text": [
      "{'eno': 100, 'ename': 'bang', 'esal': 10000, 'eaddr': 'madhu'}\n"
     ]
    }
   ],
   "source": [
    "print(e1.__dict__)"
   ]
  },
  {
   "cell_type": "code",
   "execution_count": null,
   "id": "9c4f019c",
   "metadata": {},
   "outputs": [],
   "source": []
  }
 ],
 "metadata": {
  "kernelspec": {
   "display_name": "Python 3 (ipykernel)",
   "language": "python",
   "name": "python3"
  },
  "language_info": {
   "codemirror_mode": {
    "name": "ipython",
    "version": 3
   },
   "file_extension": ".py",
   "mimetype": "text/x-python",
   "name": "python",
   "nbconvert_exporter": "python",
   "pygments_lexer": "ipython3",
   "version": "3.11.4"
  }
 },
 "nbformat": 4,
 "nbformat_minor": 5
}
