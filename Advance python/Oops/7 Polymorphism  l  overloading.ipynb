{
 "cells": [
  {
   "cell_type": "markdown",
   "id": "fbaeea15",
   "metadata": {},
   "source": [
    "# POLYMORPHISM"
   ]
  },
  {
   "cell_type": "markdown",
   "id": "653a9e04",
   "metadata": {},
   "source": [
    "Polymorphism: one name but many forms\n",
    "\n",
    "Poly means many\n",
    "\n",
    "morphs means forms\n",
    "\n",
    "### Operator Overloading \n",
    "10+20=30\n",
    "\n",
    "Madhu+ss=Madhuss\n",
    "\n",
    "\n",
    "same opeartor(+) but different purpose\n",
    "* operator overloading method internaly implemented using magic methods\n",
    "* in java there is no concept of operator overloading\n",
    "\n",
    "### Method Overloading\n",
    "Deposit(cash)\n",
    "\n",
    "Deposit(cheque)\n",
    "\n",
    "Deposit(dd)\n",
    "\n",
    "\n",
    "same methods but different argument"
   ]
  },
  {
   "cell_type": "markdown",
   "id": "aabe9382",
   "metadata": {},
   "source": [
    "## OPERATOR OVERLOADING"
   ]
  },
  {
   "cell_type": "markdown",
   "id": "64b30fd6",
   "metadata": {},
   "source": [
    "#+ def __add__()\n",
    "\n",
    "#- def __sub__()\n",
    "\n",
    "#* def __mul__()\n",
    "\n",
    "/ def __div__()\n",
    "\n",
    "% def __mod__()\n",
    "\n",
    "// def __floordiv__()\n",
    "\n",
    "** def __pow__()\n",
    "\n",
    "+= def __iadd__()\n",
    "\n",
    "-= def __isub__()\n",
    "\n",
    "*= def __imul__()\n",
    "\n",
    "/= def __idiv__()\n",
    "\n",
    "%= def __imod__()\n",
    "\n",
    "//= def __ifloordiv__()\n",
    "\n",
    "**= def __ipow__()\n",
    "\n",
    "#> def __gt__()\n",
    "\n",
    "#>= def __ge__()\n",
    "\n",
    "< def __lt__()\n",
    "\n",
    "<= def __le__()\n",
    "\n",
    "== def __eq__()\n",
    "\n",
    "!= def __ne__()"
   ]
  },
  {
   "cell_type": "code",
   "execution_count": 1,
   "id": "9930b21e",
   "metadata": {},
   "outputs": [
    {
     "ename": "TypeError",
     "evalue": "unsupported operand type(s) for +: 'Book' and 'Book'",
     "output_type": "error",
     "traceback": [
      "\u001b[1;31m---------------------------------------------------------------------------\u001b[0m",
      "\u001b[1;31mTypeError\u001b[0m                                 Traceback (most recent call last)",
      "Cell \u001b[1;32mIn[1], line 7\u001b[0m\n\u001b[0;32m      5\u001b[0m b1\u001b[38;5;241m=\u001b[39mBook(\u001b[38;5;241m100\u001b[39m)\n\u001b[0;32m      6\u001b[0m b2\u001b[38;5;241m=\u001b[39mBook(\u001b[38;5;241m200\u001b[39m)\n\u001b[1;32m----> 7\u001b[0m \u001b[38;5;28mprint\u001b[39m(b1\u001b[38;5;241m+\u001b[39mb2)\n",
      "\u001b[1;31mTypeError\u001b[0m: unsupported operand type(s) for +: 'Book' and 'Book'"
     ]
    }
   ],
   "source": [
    "class Book:\n",
    "    def __init__(self,pages):\n",
    "        self.pages=pages\n",
    "        \n",
    "b1=Book(100)\n",
    "b2=Book(200)\n",
    "print(b1+b2)"
   ]
  },
  {
   "cell_type": "code",
   "execution_count": 2,
   "id": "6fea15c3",
   "metadata": {},
   "outputs": [
    {
     "name": "stdout",
     "output_type": "stream",
     "text": [
      "300\n"
     ]
    }
   ],
   "source": [
    "class Book:\n",
    "    def __init__(self,pages):\n",
    "        self.pages=pages\n",
    "        \n",
    "    def __add__(self,other):\n",
    "        return self.pages+other.pages\n",
    "        \n",
    "b1=Book(100)\n",
    "b2=Book(200)\n",
    "print(b1+b2)"
   ]
  },
  {
   "cell_type": "code",
   "execution_count": 5,
   "id": "f0bc5836",
   "metadata": {},
   "outputs": [
    {
     "name": "stdout",
     "output_type": "stream",
     "text": [
      "300\n",
      "600\n"
     ]
    }
   ],
   "source": [
    "class Book:\n",
    "    def __init__(self,pages):\n",
    "        self.pages=pages\n",
    "        \n",
    "    def __add__(self,other):# magic method\n",
    "        return self.pages+other.pages\n",
    "        \n",
    "b1=Book(100)\n",
    "b2=Book(200)\n",
    "b3=Book(400)\n",
    "print(b1+b2)\n",
    "print(b2+b3)"
   ]
  },
  {
   "cell_type": "code",
   "execution_count": 18,
   "id": "9b648b99",
   "metadata": {},
   "outputs": [
    {
     "name": "stdout",
     "output_type": "stream",
     "text": [
      "-100\n"
     ]
    }
   ],
   "source": [
    "class Book:\n",
    "    def __init__(self,pages):\n",
    "        self.pages=pages\n",
    "        \n",
    "    def __sub__(self,other):# magic method\n",
    "        return self.pages-other.pages\n",
    "        \n",
    "b1=Book(100)\n",
    "b2=Book(200)\n",
    "b3=Book(400)\n",
    "print(b1-b2)"
   ]
  },
  {
   "cell_type": "code",
   "execution_count": 20,
   "id": "dc26b677",
   "metadata": {},
   "outputs": [
    {
     "name": "stdout",
     "output_type": "stream",
     "text": [
      "The number of pages:600\n"
     ]
    }
   ],
   "source": [
    "class Book:\n",
    "    def __init__(self,pages):\n",
    "        self.pages=pages\n",
    "        \n",
    "    def __str__(self):\n",
    "        return \"The number of pages:\"+str(self.pages)\n",
    "    \n",
    "    def __add__(self,other):\n",
    "        total=self.pages+other.pages\n",
    "        b=Book(total)\n",
    "        return b\n",
    "        \n",
    "b1=Book(100)\n",
    "b2=Book(200)\n",
    "b3=Book(300)\n",
    "print(b1+b2+b3)"
   ]
  },
  {
   "cell_type": "code",
   "execution_count": 21,
   "id": "b25c948d",
   "metadata": {},
   "outputs": [
    {
     "name": "stdout",
     "output_type": "stream",
     "text": [
      "The number of pages:1000\n"
     ]
    }
   ],
   "source": [
    "class Book:\n",
    "    def __init__(self,pages):\n",
    "        self.pages=pages\n",
    "        \n",
    "    def __str__(self):\n",
    "        return \"The number of pages:\"+str(self.pages)\n",
    "    \n",
    "    def __add__(self,other):\n",
    "        total=self.pages+other.pages\n",
    "        b=Book(total)\n",
    "        return b\n",
    "        \n",
    "b1=Book(100)\n",
    "b2=Book(200)\n",
    "b3=Book(300)\n",
    "b4=Book(400)\n",
    "print(b1+b2+b3+b4)"
   ]
  },
  {
   "cell_type": "code",
   "execution_count": 32,
   "id": "2dad2e74",
   "metadata": {},
   "outputs": [
    {
     "name": "stdout",
     "output_type": "stream",
     "text": [
      "<__main__.Book object at 0x000001F137773FD0>\n"
     ]
    }
   ],
   "source": [
    "class Book:\n",
    "    def __init__(self,pages):\n",
    "        self.pages=pages\n",
    "    \n",
    "    def __add__(self,other):\n",
    "        total=self.pages+other.pages\n",
    "        b=Book(total)\n",
    "        return b\n",
    "        \n",
    "b1=Book(100)\n",
    "b2=Book(200)\n",
    "b3=Book(300)\n",
    "b4=Book(400)\n",
    "print(b1+b2+b3+b4)"
   ]
  },
  {
   "cell_type": "markdown",
   "id": "f3613724",
   "metadata": {},
   "source": [
    "whenever we are printing any object reference/object then __str__() will be called."
   ]
  },
  {
   "cell_type": "code",
   "execution_count": 3,
   "id": "397abd23",
   "metadata": {},
   "outputs": [
    {
     "name": "stdout",
     "output_type": "stream",
     "text": [
      "True\n",
      "False\n"
     ]
    }
   ],
   "source": [
    "class Student:\n",
    "    def __init__(self,ename,marks):\n",
    "        self.ename=ename\n",
    "        self.marks=marks\n",
    "        \n",
    "    def __lt__(self,other):\n",
    "        return self.marks<other.marks\n",
    "        \n",
    "s1=Student('Madhu',100)\n",
    "s2=Student('Ramesh',200)\n",
    "print(s1<s2)\n",
    "print(s2<s1)"
   ]
  },
  {
   "cell_type": "code",
   "execution_count": 6,
   "id": "f1fe9074",
   "metadata": {},
   "outputs": [
    {
     "name": "stdout",
     "output_type": "stream",
     "text": [
      "This Month Salary: 5000\n"
     ]
    }
   ],
   "source": [
    "class Employee:\n",
    "    def __init__(self,name,salary):\n",
    "        self.name=name\n",
    "        self.salary=salary\n",
    "        \n",
    "    def __mul__(self,other):\n",
    "        return self.salary*other.days\n",
    "    \n",
    "class TimeSheet:\n",
    "    def __init__(self,name,days):\n",
    "        self.name=name\n",
    "        self.days=days\n",
    "        \n",
    "e=Employee('Madhu',200)\n",
    "t=TimeSheet('Madhu',25)\n",
    "print(\"This Month Salary:\",e*t)"
   ]
  },
  {
   "cell_type": "code",
   "execution_count": 7,
   "id": "fb5b72c7",
   "metadata": {},
   "outputs": [
    {
     "name": "stdout",
     "output_type": "stream",
     "text": [
      "This Month Salary: 5000\n",
      "This Month Salary: 5000\n"
     ]
    }
   ],
   "source": [
    "class Employee:\n",
    "    def __init__(self,name,salary):\n",
    "        self.name=name\n",
    "        self.salary=salary\n",
    "        \n",
    "    def __mul__(self,other):\n",
    "        return self.salary*other.days\n",
    "    \n",
    "class TimeSheet:\n",
    "    def __init__(self,name,days):\n",
    "        self.name=name\n",
    "        self.days=days\n",
    "        \n",
    "    def __mul__(self,other):\n",
    "        return self.days*other.salary\n",
    "        \n",
    "e=Employee('Madhu',200)\n",
    "t=TimeSheet('Madhu',25)\n",
    "print(\"This Month Salary:\",e*t)\n",
    "print(\"This Month Salary:\",t*e)"
   ]
  },
  {
   "cell_type": "markdown",
   "id": "530d0b58",
   "metadata": {},
   "source": [
    "## Method Overloading"
   ]
  },
  {
   "cell_type": "code",
   "execution_count": 8,
   "id": "dae82e30",
   "metadata": {},
   "outputs": [
    {
     "name": "stdout",
     "output_type": "stream",
     "text": [
      "one-arg method\n"
     ]
    }
   ],
   "source": [
    "class Test:\n",
    "    def m1(self):\n",
    "        print('no-arg method')\n",
    "        \n",
    "    def m1(self,x):\n",
    "        print('one-arg method')\n",
    "        \n",
    "t=Test()\n",
    "t.m1(10)"
   ]
  },
  {
   "cell_type": "markdown",
   "id": "76024b80",
   "metadata": {},
   "source": [
    "here the last method only exsicuting"
   ]
  },
  {
   "cell_type": "markdown",
   "id": "841f8484",
   "metadata": {},
   "source": [
    "python wont provide support to the method/constructor overloading"
   ]
  },
  {
   "cell_type": "markdown",
   "id": "b542211e",
   "metadata": {},
   "source": [
    "default arguemnts\n",
    "\n",
    "variable length arguments *a"
   ]
  },
  {
   "cell_type": "code",
   "execution_count": 9,
   "id": "4bc35e73",
   "metadata": {},
   "outputs": [
    {
     "name": "stdout",
     "output_type": "stream",
     "text": [
      "The sum of 2 numbers: 30\n",
      "The sum of 3 numbers: 60\n",
      "Please provide 2 or 3 argumnents\n"
     ]
    }
   ],
   "source": [
    "# default arguemnts\n",
    "class Test:\n",
    "    def sum(self,a=None,b=None,c=None):\n",
    "        \n",
    "        if a!=None and b!=None and c!=None:\n",
    "            print('The sum of 3 numbers:',a+b+c)\n",
    "        elif a!=None and b!=None:\n",
    "            print('The sum of 2 numbers:',a+b)\n",
    "        else:\n",
    "            print('Please provide 2 or 3 argumnents')\n",
    "            \n",
    "t=Test()\n",
    "t.sum(10,20)\n",
    "t.sum(10,20,30)\n",
    "t.sum(10)"
   ]
  },
  {
   "cell_type": "code",
   "execution_count": 10,
   "id": "9f454ba4",
   "metadata": {},
   "outputs": [
    {
     "name": "stdout",
     "output_type": "stream",
     "text": [
      "The Sum: 30\n",
      "The Sum: 60\n",
      "The Sum: 150\n",
      "The Sum: 0\n",
      "The Sum: 10\n"
     ]
    }
   ],
   "source": [
    "# variable length arguments *a\n",
    "class Test:\n",
    "    def sum(self,*a):\n",
    "        total=0\n",
    "        for x in a:\n",
    "            total=total+x\n",
    "        print('The Sum:',total)\n",
    "        \n",
    "t=Test()\n",
    "t.sum(10,20)\n",
    "t.sum(10,20,30)\n",
    "t.sum(10,20,30,40,50)\n",
    "t.sum()\n",
    "t.sum(10)"
   ]
  },
  {
   "cell_type": "code",
   "execution_count": 12,
   "id": "d5f76ca2",
   "metadata": {},
   "outputs": [
    {
     "name": "stdout",
     "output_type": "stream",
     "text": [
      "The Result: Madhu\n",
      "The Result: viratKohli\n",
      "The Result: MahindraSinghDhoni\n"
     ]
    }
   ],
   "source": [
    "# variable length arguments *a\n",
    "class Test:\n",
    "    def m1(self,*a):\n",
    "        total=''\n",
    "        for x in a:\n",
    "            total=total+x\n",
    "        print('The Result:',total)\n",
    "        \n",
    "t=Test()\n",
    "t.m1('Madhu')\n",
    "t.m1(\"virat\",'Kohli')\n",
    "t.m1('Mahindra','Singh','Dhoni')"
   ]
  },
  {
   "cell_type": "code",
   "execution_count": 17,
   "id": "e20437f7",
   "metadata": {},
   "outputs": [
    {
     "name": "stdout",
     "output_type": "stream",
     "text": [
      "one-arg method\n"
     ]
    }
   ],
   "source": [
    "class Test:\n",
    "    def __init__(self):\n",
    "        print('no-arg method')\n",
    "        \n",
    "    def __init__(self,x):\n",
    "        print('one-arg method')\n",
    "        \n",
    "t=Test(10)"
   ]
  },
  {
   "cell_type": "code",
   "execution_count": 18,
   "id": "271f062c",
   "metadata": {},
   "outputs": [
    {
     "name": "stdout",
     "output_type": "stream",
     "text": [
      "Constructor with 0|1|2|3....argumrnts\n",
      "Constructor with 0|1|2|3....argumrnts\n",
      "Constructor with 0|1|2|3....argumrnts\n",
      "Constructor with 0|1|2|3....argumrnts\n"
     ]
    }
   ],
   "source": [
    "# default arguemnts\n",
    "class Test:\n",
    "    def __init__(self,a=None,b=None,c=None):\n",
    "        print('Constructor with 0|1|2|3....argumrnts')\n",
    "t=Test()\n",
    "t=Test(10)\n",
    "t=Test(10,20)\n",
    "t=Test(10,20,30)"
   ]
  },
  {
   "cell_type": "code",
   "execution_count": 19,
   "id": "2becc467",
   "metadata": {},
   "outputs": [
    {
     "name": "stdout",
     "output_type": "stream",
     "text": [
      "Constructor with 0|1|2|3....argumrnts\n",
      "Constructor with 0|1|2|3....argumrnts\n",
      "Constructor with 0|1|2|3....argumrnts\n",
      "Constructor with 0|1|2|3....argumrnts\n"
     ]
    }
   ],
   "source": [
    "# variable length arguments *a\n",
    "class Test:\n",
    "    def __init__(self,*a):\n",
    "        print('Constructor with 0|1|2|3....argumrnts')\n",
    "t=Test()\n",
    "t=Test(10)\n",
    "t=Test(10,20)\n",
    "t=Test(10,20,30)"
   ]
  },
  {
   "cell_type": "code",
   "execution_count": null,
   "id": "fe587abb",
   "metadata": {},
   "outputs": [],
   "source": []
  }
 ],
 "metadata": {
  "kernelspec": {
   "display_name": "Python 3 (ipykernel)",
   "language": "python",
   "name": "python3"
  },
  "language_info": {
   "codemirror_mode": {
    "name": "ipython",
    "version": 3
   },
   "file_extension": ".py",
   "mimetype": "text/x-python",
   "name": "python",
   "nbconvert_exporter": "python",
   "pygments_lexer": "ipython3",
   "version": "3.11.4"
  }
 },
 "nbformat": 4,
 "nbformat_minor": 5
}
