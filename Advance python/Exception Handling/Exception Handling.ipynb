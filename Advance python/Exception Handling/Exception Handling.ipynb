{
 "cells": [
  {
   "cell_type": "markdown",
   "id": "2b9d89ae",
   "metadata": {},
   "source": [
    "try , except , else, finally , raise"
   ]
  },
  {
   "cell_type": "markdown",
   "id": "9fc9bbae",
   "metadata": {},
   "source": [
    "### SyntaxError vs Runtimeerror"
   ]
  },
  {
   "cell_type": "markdown",
   "id": "e51c8825",
   "metadata": {},
   "source": [
    "syntax error = invalid syntax in proggram\n",
    "\n",
    "eg"
   ]
  },
  {
   "cell_type": "code",
   "execution_count": 1,
   "id": "390b18b6",
   "metadata": {},
   "outputs": [
    {
     "ename": "SyntaxError",
     "evalue": "expected ':' (844387618.py, line 2)",
     "output_type": "error",
     "traceback": [
      "\u001b[1;36m  Cell \u001b[1;32mIn[1], line 2\u001b[1;36m\u001b[0m\n\u001b[1;33m    if x==10\u001b[0m\n\u001b[1;37m            ^\u001b[0m\n\u001b[1;31mSyntaxError\u001b[0m\u001b[1;31m:\u001b[0m expected ':'\n"
     ]
    }
   ],
   "source": [
    "x=10\n",
    "if x==10\n",
    "   print('x value is 10')"
   ]
  },
  {
   "cell_type": "markdown",
   "id": "f508cda5",
   "metadata": {},
   "source": [
    "RuntimeError = These errors typically arise due to incorrect operations, invalid input, or problems that the interpreter cannot resolve while running the program."
   ]
  },
  {
   "cell_type": "code",
   "execution_count": 2,
   "id": "1388eb81",
   "metadata": {},
   "outputs": [
    {
     "name": "stdout",
     "output_type": "stream",
     "text": [
      "number: g\n"
     ]
    },
    {
     "ename": "ValueError",
     "evalue": "invalid literal for int() with base 10: 'g'",
     "output_type": "error",
     "traceback": [
      "\u001b[1;31m---------------------------------------------------------------------------\u001b[0m",
      "\u001b[1;31mValueError\u001b[0m                                Traceback (most recent call last)",
      "Cell \u001b[1;32mIn[2], line 1\u001b[0m\n\u001b[1;32m----> 1\u001b[0m x\u001b[38;5;241m=\u001b[39m\u001b[38;5;28mint\u001b[39m(\u001b[38;5;28minput\u001b[39m(\u001b[38;5;124m'\u001b[39m\u001b[38;5;124mnumber: \u001b[39m\u001b[38;5;124m'\u001b[39m))\n\u001b[0;32m      2\u001b[0m y\u001b[38;5;241m=\u001b[39m\u001b[38;5;28mint\u001b[39m(\u001b[38;5;28minput\u001b[39m(\u001b[38;5;124m'\u001b[39m\u001b[38;5;124manother number: \u001b[39m\u001b[38;5;124m'\u001b[39m))\n\u001b[0;32m      3\u001b[0m \u001b[38;5;28mprint\u001b[39m(\u001b[38;5;124m'\u001b[39m\u001b[38;5;124mresult= \u001b[39m\u001b[38;5;124m'\u001b[39m,x\u001b[38;5;241m/\u001b[39my)\n",
      "\u001b[1;31mValueError\u001b[0m: invalid literal for int() with base 10: 'g'"
     ]
    }
   ],
   "source": [
    "x=int(input('number: '))\n",
    "y=int(input('another number: '))\n",
    "print('result= ',x/y)"
   ]
  },
  {
   "cell_type": "code",
   "execution_count": 3,
   "id": "98137e99",
   "metadata": {},
   "outputs": [
    {
     "name": "stdout",
     "output_type": "stream",
     "text": [
      "number: 10\n",
      "another number: 0\n"
     ]
    },
    {
     "ename": "ZeroDivisionError",
     "evalue": "division by zero",
     "output_type": "error",
     "traceback": [
      "\u001b[1;31m---------------------------------------------------------------------------\u001b[0m",
      "\u001b[1;31mZeroDivisionError\u001b[0m                         Traceback (most recent call last)",
      "Cell \u001b[1;32mIn[3], line 3\u001b[0m\n\u001b[0;32m      1\u001b[0m x\u001b[38;5;241m=\u001b[39m\u001b[38;5;28mint\u001b[39m(\u001b[38;5;28minput\u001b[39m(\u001b[38;5;124m'\u001b[39m\u001b[38;5;124mnumber: \u001b[39m\u001b[38;5;124m'\u001b[39m))\n\u001b[0;32m      2\u001b[0m y\u001b[38;5;241m=\u001b[39m\u001b[38;5;28mint\u001b[39m(\u001b[38;5;28minput\u001b[39m(\u001b[38;5;124m'\u001b[39m\u001b[38;5;124manother number: \u001b[39m\u001b[38;5;124m'\u001b[39m))\n\u001b[1;32m----> 3\u001b[0m \u001b[38;5;28mprint\u001b[39m(\u001b[38;5;124m'\u001b[39m\u001b[38;5;124mresult= \u001b[39m\u001b[38;5;124m'\u001b[39m,x\u001b[38;5;241m/\u001b[39my)\n",
      "\u001b[1;31mZeroDivisionError\u001b[0m: division by zero"
     ]
    }
   ],
   "source": [
    "x=int(input('number: '))\n",
    "y=int(input('another number: '))\n",
    "print('result= ',x/y)"
   ]
  },
  {
   "cell_type": "code",
   "execution_count": 5,
   "id": "2d8f0be6",
   "metadata": {},
   "outputs": [
    {
     "ename": "FileNotFoundError",
     "evalue": "[Errno 2] No such file or directory: 'xyz.txt'",
     "output_type": "error",
     "traceback": [
      "\u001b[1;31m---------------------------------------------------------------------------\u001b[0m",
      "\u001b[1;31mFileNotFoundError\u001b[0m                         Traceback (most recent call last)",
      "Cell \u001b[1;32mIn[5], line 1\u001b[0m\n\u001b[1;32m----> 1\u001b[0m f\u001b[38;5;241m=\u001b[39m\u001b[38;5;28mopen\u001b[39m(\u001b[38;5;124m'\u001b[39m\u001b[38;5;124mxyz.txt\u001b[39m\u001b[38;5;124m'\u001b[39m)\n\u001b[0;32m      2\u001b[0m f\u001b[38;5;241m.\u001b[39mread\n",
      "File \u001b[1;32m~\\anaconda3\\Lib\\site-packages\\IPython\\core\\interactiveshell.py:284\u001b[0m, in \u001b[0;36m_modified_open\u001b[1;34m(file, *args, **kwargs)\u001b[0m\n\u001b[0;32m    277\u001b[0m \u001b[38;5;28;01mif\u001b[39;00m file \u001b[38;5;129;01min\u001b[39;00m {\u001b[38;5;241m0\u001b[39m, \u001b[38;5;241m1\u001b[39m, \u001b[38;5;241m2\u001b[39m}:\n\u001b[0;32m    278\u001b[0m     \u001b[38;5;28;01mraise\u001b[39;00m \u001b[38;5;167;01mValueError\u001b[39;00m(\n\u001b[0;32m    279\u001b[0m         \u001b[38;5;124mf\u001b[39m\u001b[38;5;124m\"\u001b[39m\u001b[38;5;124mIPython won\u001b[39m\u001b[38;5;124m'\u001b[39m\u001b[38;5;124mt let you open fd=\u001b[39m\u001b[38;5;132;01m{\u001b[39;00mfile\u001b[38;5;132;01m}\u001b[39;00m\u001b[38;5;124m by default \u001b[39m\u001b[38;5;124m\"\u001b[39m\n\u001b[0;32m    280\u001b[0m         \u001b[38;5;124m\"\u001b[39m\u001b[38;5;124mas it is likely to crash IPython. If you know what you are doing, \u001b[39m\u001b[38;5;124m\"\u001b[39m\n\u001b[0;32m    281\u001b[0m         \u001b[38;5;124m\"\u001b[39m\u001b[38;5;124myou can use builtins\u001b[39m\u001b[38;5;124m'\u001b[39m\u001b[38;5;124m open.\u001b[39m\u001b[38;5;124m\"\u001b[39m\n\u001b[0;32m    282\u001b[0m     )\n\u001b[1;32m--> 284\u001b[0m \u001b[38;5;28;01mreturn\u001b[39;00m io_open(file, \u001b[38;5;241m*\u001b[39margs, \u001b[38;5;241m*\u001b[39m\u001b[38;5;241m*\u001b[39mkwargs)\n",
      "\u001b[1;31mFileNotFoundError\u001b[0m: [Errno 2] No such file or directory: 'xyz.txt'"
     ]
    }
   ],
   "source": [
    "f=open('xyz.txt')\n",
    "f.read"
   ]
  },
  {
   "cell_type": "code",
   "execution_count": 6,
   "id": "2255f8f7",
   "metadata": {},
   "outputs": [
    {
     "ename": "NameError",
     "evalue": "name 'abc' is not defined",
     "output_type": "error",
     "traceback": [
      "\u001b[1;31m---------------------------------------------------------------------------\u001b[0m",
      "\u001b[1;31mNameError\u001b[0m                                 Traceback (most recent call last)",
      "Cell \u001b[1;32mIn[6], line 1\u001b[0m\n\u001b[1;32m----> 1\u001b[0m \u001b[38;5;28mprint\u001b[39m(abc)\n",
      "\u001b[1;31mNameError\u001b[0m: name 'abc' is not defined"
     ]
    }
   ],
   "source": [
    "print(abc)"
   ]
  },
  {
   "cell_type": "markdown",
   "id": "d86f796d",
   "metadata": {},
   "source": [
    "### Default Exception Handling in Python"
   ]
  },
  {
   "cell_type": "code",
   "execution_count": 7,
   "id": "defe582a",
   "metadata": {},
   "outputs": [
    {
     "name": "stdout",
     "output_type": "stream",
     "text": [
      "hello\n"
     ]
    },
    {
     "ename": "ZeroDivisionError",
     "evalue": "division by zero",
     "output_type": "error",
     "traceback": [
      "\u001b[1;31m---------------------------------------------------------------------------\u001b[0m",
      "\u001b[1;31mZeroDivisionError\u001b[0m                         Traceback (most recent call last)",
      "Cell \u001b[1;32mIn[7], line 2\u001b[0m\n\u001b[0;32m      1\u001b[0m \u001b[38;5;28mprint\u001b[39m(\u001b[38;5;124m'\u001b[39m\u001b[38;5;124mhello\u001b[39m\u001b[38;5;124m'\u001b[39m)\n\u001b[1;32m----> 2\u001b[0m \u001b[38;5;28mprint\u001b[39m(\u001b[38;5;241m10\u001b[39m\u001b[38;5;241m/\u001b[39m\u001b[38;5;241m0\u001b[39m)\n\u001b[0;32m      3\u001b[0m \u001b[38;5;28mprint\u001b[39m(\u001b[38;5;124m'\u001b[39m\u001b[38;5;124mhi\u001b[39m\u001b[38;5;124m'\u001b[39m)\n",
      "\u001b[1;31mZeroDivisionError\u001b[0m: division by zero"
     ]
    }
   ],
   "source": [
    "print('hello')\n",
    "print(10/0)\n",
    "print('hi')"
   ]
  },
  {
   "cell_type": "markdown",
   "id": "e1068b65",
   "metadata": {},
   "source": [
    "it is never recommended"
   ]
  },
  {
   "cell_type": "markdown",
   "id": "ef777045",
   "metadata": {},
   "source": [
    "### Python Exception Hierarchy"
   ]
  },
  {
   "cell_type": "raw",
   "id": "4d6a594c",
   "metadata": {},
   "source": [
    "                             BaseException\n",
    "            ________________________|_________________\n",
    "            |          |            |                |\n",
    "      Exception  Systemexit  GenerationExit   KeyboardInterrupt\n",
    "  __________|______________________________________________________________________________________________\n",
    "  |                |                  |           |           |               |          |                |\n",
    "  AttributeError  ArithmeticError  EOF Error   NameError  Lookup Error    TypeError   OS Error         ValueError\n",
    "                   |-----ZeroDivisionError                    |-----IndexError           |---FileNotFoundError\n",
    "                   |-----FloatingPointError                   |-----KeyError             |---InterruptedError\n",
    "                   |-----OverFlowError                                                   |---PermissionError\n",
    "                                                                                         |---TimeOutError"
   ]
  },
  {
   "cell_type": "markdown",
   "id": "75d7755b",
   "metadata": {},
   "source": [
    "### Customized Exception handling by using try-Except"
   ]
  },
  {
   "cell_type": "raw",
   "id": "a7f0c259",
   "metadata": {},
   "source": [
    "try:\n",
    "   Risk Code\n",
    "except:\n",
    "   Handling code / Alternative code"
   ]
  },
  {
   "cell_type": "code",
   "execution_count": 5,
   "id": "3cf8d389",
   "metadata": {},
   "outputs": [
    {
     "name": "stdout",
     "output_type": "stream",
     "text": [
      "statement 1\n",
      "divide the number greater than zero\n",
      "statement 2\n"
     ]
    }
   ],
   "source": [
    "print('statement 1')\n",
    "try:\n",
    "    print(10/0)\n",
    "except ZeroDivisionError:\n",
    "    print('divide the number greater than zero')\n",
    "print('statement 2')"
   ]
  },
  {
   "cell_type": "markdown",
   "id": "3ab42bfa",
   "metadata": {},
   "source": [
    "### Control flow in try-except"
   ]
  },
  {
   "cell_type": "raw",
   "id": "24889213",
   "metadata": {},
   "source": [
    "try:\n",
    "   stat-1\n",
    "   stat-2\n",
    "   stat-3\n",
    "except xyz:\n",
    "   stat-4\n",
    "stat-5\n",
    "\n",
    "*if there is no exception:\n",
    " flow:stat-1,stat-2,stat-3,stat-5\n",
    " \n",
    "*if an exception raised at stat-2 and corresponding except block matched\n",
    " flow:stat-1,stat-4,stat-5\n",
    " \n",
    "therefore only risky code has to write inside the try block\n",
    "\n",
    "*if an exception raised at stat-2 but corresponding except block not matched:\n",
    " flow:stat-1,Abnormal Termination\n",
    " \n",
    "*if an exception is raised at stat-4 or stat-5 is always abnormal termination"
   ]
  },
  {
   "cell_type": "markdown",
   "id": "d3b5e66c",
   "metadata": {},
   "source": [
    "### How to print Exception information"
   ]
  },
  {
   "cell_type": "code",
   "execution_count": 6,
   "id": "06cc93ee",
   "metadata": {},
   "outputs": [
    {
     "name": "stdout",
     "output_type": "stream",
     "text": [
      "Exception type:  <class 'ZeroDivisionError'>\n"
     ]
    }
   ],
   "source": [
    "try:\n",
    "    print(10/0)\n",
    "except ZeroDivisionError as msg:\n",
    "    print('Exception type: ',type(msg))"
   ]
  },
  {
   "cell_type": "code",
   "execution_count": 7,
   "id": "05977500",
   "metadata": {},
   "outputs": [
    {
     "name": "stdout",
     "output_type": "stream",
     "text": [
      "Exception type:  <class 'ZeroDivisionError'>\n"
     ]
    }
   ],
   "source": [
    "try:\n",
    "    print(10/0)\n",
    "except ZeroDivisionError as msg:\n",
    "    print('Exception type: ',msg.__class__)"
   ]
  },
  {
   "cell_type": "code",
   "execution_count": 9,
   "id": "f875d15f",
   "metadata": {},
   "outputs": [
    {
     "name": "stdout",
     "output_type": "stream",
     "text": [
      "Exception Class Name:  ZeroDivisionError\n"
     ]
    }
   ],
   "source": [
    "try:\n",
    "    print(10/0)\n",
    "except ZeroDivisionError as msg:\n",
    "    print('Exception Class Name: ',msg.__class__.__name__)"
   ]
  },
  {
   "cell_type": "code",
   "execution_count": 10,
   "id": "2ca94d38",
   "metadata": {},
   "outputs": [
    {
     "name": "stdout",
     "output_type": "stream",
     "text": [
      "The Description of Exception:  division by zero\n"
     ]
    }
   ],
   "source": [
    "try:\n",
    "    print(10/0)\n",
    "except ZeroDivisionError as msg:\n",
    "    print('The Description of Exception: ',msg)"
   ]
  },
  {
   "cell_type": "code",
   "execution_count": 11,
   "id": "6b02c897",
   "metadata": {},
   "outputs": [
    {
     "name": "stdout",
     "output_type": "stream",
     "text": [
      "Enter First Number : 10\n",
      "Enter Second Number : 0\n",
      "Exception type:  <class 'ZeroDivisionError'>\n",
      "Exception type:  <class 'ZeroDivisionError'>\n",
      "Exception Class Name:  ZeroDivisionError\n",
      "The Description of Exception:  division by zero\n"
     ]
    }
   ],
   "source": [
    "try:\n",
    "    x=int(input('Enter First Number : '))\n",
    "    y=int(input('Enter Second Number : '))\n",
    "    print('The result:',x/y)\n",
    "except BaseException as msg:\n",
    "    print('Exception type: ',type(msg))\n",
    "    print('Exception type: ',msg.__class__)\n",
    "    print('Exception Class Name: ',msg.__class__.__name__)\n",
    "    print('The Description of Exception: ',msg)"
   ]
  },
  {
   "cell_type": "code",
   "execution_count": 12,
   "id": "9019940d",
   "metadata": {},
   "outputs": [
    {
     "name": "stdout",
     "output_type": "stream",
     "text": [
      "Enter First Number : 5\n",
      "Enter Second Number : y\n",
      "Exception type:  <class 'ValueError'>\n",
      "Exception type:  <class 'ValueError'>\n",
      "Exception Class Name:  ValueError\n",
      "The Description of Exception:  invalid literal for int() with base 10: 'y'\n"
     ]
    }
   ],
   "source": [
    "try:\n",
    "    x=int(input('Enter First Number : '))\n",
    "    y=int(input('Enter Second Number : '))\n",
    "    print('The result:',x/y)\n",
    "except BaseException as msg:\n",
    "    print('Exception type: ',type(msg))\n",
    "    print('Exception type: ',msg.__class__)\n",
    "    print('Exception Class Name: ',msg.__class__.__name__)\n",
    "    print('The Description of Exception: ',msg)"
   ]
  },
  {
   "cell_type": "markdown",
   "id": "b89bcdee",
   "metadata": {},
   "source": [
    "### Try with Multiple except blocks"
   ]
  },
  {
   "cell_type": "raw",
   "id": "56c7ec0f",
   "metadata": {},
   "source": [
    "try:\n",
    "    stat-1\n",
    "    stat-2\n",
    "    stat-3\n",
    "except ZeroDivisionError:\n",
    "    alternate code\n",
    "except FileNotFoundError:\n",
    "    alternate code"
   ]
  },
  {
   "cell_type": "code",
   "execution_count": 13,
   "id": "062c067c",
   "metadata": {},
   "outputs": [
    {
     "name": "stdout",
     "output_type": "stream",
     "text": [
      "Enter First Number: 10\n",
      "Enter Second Number: two\n",
      "Please Provide only int values\n",
      "Enter First Number: 10\n",
      "Enter Second Number: 0\n",
      "Cannot divide with zero\n"
     ]
    }
   ],
   "source": [
    "try:\n",
    "    x=int(input('Enter First Number: '))\n",
    "    y=int(input('Enter Second Number: '))\n",
    "    print('The Result: ',x/y)\n",
    "except ZeroDivisionError:\n",
    "    print('Cannot divide with zero')\n",
    "except ValueError:\n",
    "    print('Please Provide only int values')\n",
    "    \n",
    "try:\n",
    "    x=int(input('Enter First Number: '))\n",
    "    y=int(input('Enter Second Number: '))\n",
    "    print('The Result: ',x/y)\n",
    "except ZeroDivisionError:\n",
    "    print('Cannot divide with zero')\n",
    "except ValueError:\n",
    "    print('Please Provide only int values')"
   ]
  },
  {
   "cell_type": "code",
   "execution_count": 1,
   "id": "126236bd",
   "metadata": {},
   "outputs": [
    {
     "name": "stdout",
     "output_type": "stream",
     "text": [
      "Arthematic error\n"
     ]
    }
   ],
   "source": [
    "try:\n",
    "    print(10/0)\n",
    "except ArithmeticError:\n",
    "    print('Arthematic error')\n",
    "except ZeroDivisionError:\n",
    "    print('Zero Division Error')"
   ]
  },
  {
   "cell_type": "markdown",
   "id": "baeca226",
   "metadata": {},
   "source": [
    "### Single except block that can handle multiple different exceptions"
   ]
  },
  {
   "cell_type": "code",
   "execution_count": 4,
   "id": "cda8a647",
   "metadata": {},
   "outputs": [
    {
     "name": "stdout",
     "output_type": "stream",
     "text": [
      "Enter First Number: 10\n",
      "Enter Second Number: 0\n",
      "ZeroDivisionError\n"
     ]
    }
   ],
   "source": [
    "try:\n",
    "    x=int(input('Enter First Number: '))\n",
    "    y=int(input('Enter Second Number: '))\n",
    "    print('The Result: ',x/y)\n",
    "except (ZeroDivisionError,ValueError) as msg:\n",
    "    print(msg.__class__.__name__)"
   ]
  },
  {
   "cell_type": "code",
   "execution_count": 5,
   "id": "e0274301",
   "metadata": {},
   "outputs": [
    {
     "name": "stdout",
     "output_type": "stream",
     "text": [
      "Enter First Number: 10\n",
      "Enter Second Number: two\n",
      "ValueError\n"
     ]
    }
   ],
   "source": [
    "try:\n",
    "    x=int(input('Enter First Number: '))\n",
    "    y=int(input('Enter Second Number: '))\n",
    "    print('The Result: ',x/y)\n",
    "except (ZeroDivisionError,ValueError) as msg:\n",
    "    print(msg.__class__.__name__)"
   ]
  },
  {
   "cell_type": "markdown",
   "id": "a50d9021",
   "metadata": {},
   "source": [
    "### Default except Block"
   ]
  },
  {
   "cell_type": "markdown",
   "id": "5a279d8c",
   "metadata": {},
   "source": [
    "if no except block matched then only default block will be executed"
   ]
  },
  {
   "cell_type": "markdown",
   "id": "a6fde38a",
   "metadata": {},
   "source": [
    "in default except block,generally we can print exception information to the console"
   ]
  },
  {
   "cell_type": "markdown",
   "id": "7a40938a",
   "metadata": {},
   "source": [
    "Default except block must be defined in the last"
   ]
  },
  {
   "cell_type": "raw",
   "id": "54f3fc27",
   "metadata": {},
   "source": [
    "syntax\n",
    "except:\n",
    "    statements"
   ]
  },
  {
   "cell_type": "code",
   "execution_count": 11,
   "id": "8f5f5937",
   "metadata": {},
   "outputs": [
    {
     "name": "stdout",
     "output_type": "stream",
     "text": [
      "Enter First Number: 10\n",
      "Enter Second Number: two\n",
      "Default except block: please provide value input only\n"
     ]
    }
   ],
   "source": [
    "try:\n",
    "    x=int(input('Enter First Number: '))\n",
    "    y=int(input('Enter Second Number: '))\n",
    "    print('The Result: ',x/y)\n",
    "except ZeroDivisionError:\n",
    "    print('cannot divide with zero')\n",
    "except:\n",
    "    print('Default except block: please provide value input only')"
   ]
  },
  {
   "cell_type": "markdown",
   "id": "4960ab7a",
   "metadata": {},
   "source": [
    "### Various possible combinations of except blocks"
   ]
  },
  {
   "cell_type": "raw",
   "id": "be787e93",
   "metadata": {},
   "source": [
    "except ZeroDivisionError:\n",
    "except (ZeroDivisionError):\n",
    "except ZeroDivisionError as msg:\n",
    "except (ZeroDivisionError) as msg:\n",
    "except(ZeroDivisionError,ValueError):\n",
    "except(ZeroDivisionError,ValueError) as msg:\n",
    "except:"
   ]
  },
  {
   "cell_type": "markdown",
   "id": "b0d22214",
   "metadata": {},
   "source": [
    "### finally Block"
   ]
  },
  {
   "cell_type": "raw",
   "id": "23ec56c1",
   "metadata": {},
   "source": [
    "try:\n",
    "    Risky code\n",
    "except:\n",
    "    Handling/Alternate code\n",
    "finally:\n",
    "    Cleanup code"
   ]
  },
  {
   "cell_type": "markdown",
   "id": "479ef8ef",
   "metadata": {},
   "source": [
    "The speciality of finally block is, it will be excecute irrespective of whether the exception raised or not raised and whether exception handled or not"
   ]
  },
  {
   "cell_type": "markdown",
   "id": "8ea7a26e",
   "metadata": {},
   "source": [
    "case 1: if no exception"
   ]
  },
  {
   "cell_type": "code",
   "execution_count": 12,
   "id": "47f98cca",
   "metadata": {},
   "outputs": [
    {
     "name": "stdout",
     "output_type": "stream",
     "text": [
      "try\n",
      "finally\n"
     ]
    }
   ],
   "source": [
    "try:\n",
    "    print('try')\n",
    "except:\n",
    "    print('except')\n",
    "finally:\n",
    "    print('finally')"
   ]
  },
  {
   "cell_type": "markdown",
   "id": "aa787d36",
   "metadata": {},
   "source": [
    "case 2: exception raised and handled"
   ]
  },
  {
   "cell_type": "code",
   "execution_count": 15,
   "id": "7f9ce329",
   "metadata": {},
   "outputs": [
    {
     "name": "stdout",
     "output_type": "stream",
     "text": [
      "try\n",
      "except \n",
      "finally\n"
     ]
    }
   ],
   "source": [
    "try:\n",
    "    print('try')\n",
    "    print(10/0)\n",
    "except ZeroDivisionError:\n",
    "    print('except ')\n",
    "finally:\n",
    "    print('finally')"
   ]
  },
  {
   "cell_type": "markdown",
   "id": "232d2525",
   "metadata": {},
   "source": [
    "case 3:exception raised but not handled"
   ]
  },
  {
   "cell_type": "code",
   "execution_count": 16,
   "id": "baad0b35",
   "metadata": {},
   "outputs": [
    {
     "name": "stdout",
     "output_type": "stream",
     "text": [
      "try\n",
      "finally\n"
     ]
    },
    {
     "ename": "ZeroDivisionError",
     "evalue": "division by zero",
     "output_type": "error",
     "traceback": [
      "\u001b[1;31m---------------------------------------------------------------------------\u001b[0m",
      "\u001b[1;31mZeroDivisionError\u001b[0m                         Traceback (most recent call last)",
      "Cell \u001b[1;32mIn[16], line 3\u001b[0m\n\u001b[0;32m      1\u001b[0m \u001b[38;5;28;01mtry\u001b[39;00m:\n\u001b[0;32m      2\u001b[0m     \u001b[38;5;28mprint\u001b[39m(\u001b[38;5;124m'\u001b[39m\u001b[38;5;124mtry\u001b[39m\u001b[38;5;124m'\u001b[39m)\n\u001b[1;32m----> 3\u001b[0m     \u001b[38;5;28mprint\u001b[39m(\u001b[38;5;241m10\u001b[39m\u001b[38;5;241m/\u001b[39m\u001b[38;5;241m0\u001b[39m)\n\u001b[0;32m      4\u001b[0m \u001b[38;5;28;01mexcept\u001b[39;00m \u001b[38;5;167;01mValueError\u001b[39;00m:\n\u001b[0;32m      5\u001b[0m     \u001b[38;5;28mprint\u001b[39m(\u001b[38;5;124m'\u001b[39m\u001b[38;5;124mexcept \u001b[39m\u001b[38;5;124m'\u001b[39m)\n",
      "\u001b[1;31mZeroDivisionError\u001b[0m: division by zero"
     ]
    }
   ],
   "source": [
    "try:\n",
    "    print('try')\n",
    "    print(10/0)\n",
    "except ValueError:\n",
    "    print('except ')\n",
    "finally:\n",
    "    print('finally')"
   ]
  },
  {
   "cell_type": "markdown",
   "id": "6980f22a",
   "metadata": {},
   "source": [
    "### os.exit() vs finally"
   ]
  },
  {
   "cell_type": "markdown",
   "id": "6a27b557",
   "metadata": {},
   "source": [
    "there is only one situation where finally block wont be executed i.e whenever we are using os._exit(0)"
   ]
  },
  {
   "cell_type": "markdown",
   "id": "cff3f011",
   "metadata": {},
   "source": [
    "whenever we are using os.exit(0) then python virtual machine itself will be shutdown.in this particular case finally block wont be executed."
   ]
  },
  {
   "cell_type": "code",
   "execution_count": 1,
   "id": "e9d69a54",
   "metadata": {},
   "outputs": [
    {
     "name": "stdout",
     "output_type": "stream",
     "text": [
      "try\n",
      "finally\n"
     ]
    }
   ],
   "source": [
    "try:\n",
    "    print('try')\n",
    "except:\n",
    "    print('except')\n",
    "finally:\n",
    "    print('finally')"
   ]
  },
  {
   "cell_type": "code",
   "execution_count": null,
   "id": "d7f0ea90",
   "metadata": {},
   "outputs": [],
   "source": [
    "import os\n",
    "try:\n",
    "    print('try')\n",
    "    os._exit(0)#zero means normal termination non zero means abnormal termination\n",
    "except:\n",
    "    print('except')\n",
    "finally:\n",
    "    print('finally')"
   ]
  },
  {
   "cell_type": "markdown",
   "id": "135cf190",
   "metadata": {},
   "source": [
    "try"
   ]
  },
  {
   "cell_type": "markdown",
   "id": "09d1391b",
   "metadata": {},
   "source": [
    "### finally block vs destructor"
   ]
  },
  {
   "cell_type": "markdown",
   "id": "43e22b93",
   "metadata": {},
   "source": [
    "finaly block meant for maintaining cleanup code\n",
    "\n",
    "destructor meant for maintaining cleanup code"
   ]
  },
  {
   "cell_type": "markdown",
   "id": "c31c423b",
   "metadata": {},
   "source": [
    "seems to be both are same but the difference is \n",
    "\n",
    "finally block meant for cleanup activities realted to try block. i.e whateever resources we opened as a part of try block will be closed inside finally block.\n",
    "\n",
    "Destructor meant for cleanup activites realated to object. what ever resources associted with the object should be deallocated inside the destructor,which will be executed before destroying the object."
   ]
  },
  {
   "cell_type": "markdown",
   "id": "302c2068",
   "metadata": {},
   "source": [
    "### Nested try-except-finally blocks"
   ]
  },
  {
   "cell_type": "raw",
   "id": "b4945ae7",
   "metadata": {},
   "source": [
    "try:\n",
    "    risky code\n",
    "    try:\n",
    "        too much risky code\n",
    "    except:\n",
    "        xyz\n",
    "    finally:\n",
    "        xyz\n",
    "        \n",
    "except:\n",
    "    try:\n",
    "        xyz\n",
    "    except:\n",
    "        xyz\n",
    "    finally:\n",
    "        xyz\n",
    "        \n",
    "finally:\n",
    "    try:\n",
    "        xyz\n",
    "    except:\n",
    "        xyz\n",
    "    finally:\n",
    "        xyz"
   ]
  },
  {
   "cell_type": "markdown",
   "id": "a4c44656",
   "metadata": {},
   "source": [
    "we can take try-except-finally blocks inside try or except or finally. hence nesting of try-except finally blocks is posible.\n",
    "\n",
    "Generally Risky code we have to take inside or outer try block and too much risky code we have to take inside inner try block.\n",
    "\n",
    "Inside inner try block if an exception raised then inner except block is responsible to handle then outer except block is responsible to handle."
   ]
  },
  {
   "cell_type": "code",
   "execution_count": 1,
   "id": "a2d322bc",
   "metadata": {},
   "outputs": [
    {
     "name": "stdout",
     "output_type": "stream",
     "text": [
      "Outer try block\n",
      "inner try block\n",
      "Inner finally block\n",
      "Outer finally block\n"
     ]
    }
   ],
   "source": [
    "try:\n",
    "    print('Outer try block')\n",
    "    try:\n",
    "        print('inner try block')\n",
    "    except ZeroDivisionError:\n",
    "        print('Inner except block')\n",
    "    finally:\n",
    "        print('Inner finally block')\n",
    "except:\n",
    "    print('Outer except block')\n",
    "finally:\n",
    "    print('Outer finally block')"
   ]
  },
  {
   "cell_type": "code",
   "execution_count": 2,
   "id": "2ad6d0ff",
   "metadata": {},
   "outputs": [
    {
     "name": "stdout",
     "output_type": "stream",
     "text": [
      "Outer try block\n",
      "inner try block\n",
      "Inner except block\n",
      "Inner finally block\n",
      "Outer finally block\n"
     ]
    }
   ],
   "source": [
    "try:\n",
    "    print('Outer try block')\n",
    "    try:\n",
    "        print('inner try block')\n",
    "        print(10/0)\n",
    "    except ZeroDivisionError:\n",
    "        print('Inner except block')\n",
    "    finally:\n",
    "        print('Inner finally block')\n",
    "except:\n",
    "    print('Outer except block')\n",
    "finally:\n",
    "    print('Outer finally block')"
   ]
  },
  {
   "cell_type": "code",
   "execution_count": 3,
   "id": "4e1e25ae",
   "metadata": {},
   "outputs": [
    {
     "name": "stdout",
     "output_type": "stream",
     "text": [
      "Outer try block\n",
      "inner try block\n",
      "Inner finally block\n",
      "Outer except block\n",
      "Outer finally block\n"
     ]
    }
   ],
   "source": [
    "try:\n",
    "    print('Outer try block')\n",
    "    try:\n",
    "        print('inner try block')\n",
    "        print(10/0)\n",
    "    except ValueError:\n",
    "        print('Inner except block')\n",
    "    finally:\n",
    "        print('Inner finally block')\n",
    "except:\n",
    "    print('Outer except block')\n",
    "finally:\n",
    "    print('Outer finally block')"
   ]
  },
  {
   "cell_type": "code",
   "execution_count": 4,
   "id": "ea543fd1",
   "metadata": {},
   "outputs": [
    {
     "name": "stdout",
     "output_type": "stream",
     "text": [
      "Outer try block\n",
      "Outer except block\n",
      "Outer finally block\n"
     ]
    }
   ],
   "source": [
    "try:\n",
    "    print('Outer try block')\n",
    "    print(10/0)\n",
    "    try:\n",
    "        print('inner try block')\n",
    "    except ZeroDivisionError:\n",
    "        print('Inner except block')\n",
    "    finally:\n",
    "        print('Inner finally block')\n",
    "except:\n",
    "    print('Outer except block')\n",
    "finally:\n",
    "    print('Outer finally block')"
   ]
  },
  {
   "cell_type": "markdown",
   "id": "419d1d83",
   "metadata": {},
   "source": [
    "If the control not entered in the finally block, then corresponding finally block wont be executed.\n",
    "\n",
    "Once control entered in the try block, compulsory the corresponding finally block will be executed."
   ]
  },
  {
   "cell_type": "code",
   "execution_count": 5,
   "id": "6ddd646c",
   "metadata": {},
   "outputs": [
    {
     "name": "stdout",
     "output_type": "stream",
     "text": [
      "Outer try block\n",
      "inner try block\n",
      "Inner finally block\n",
      "Outer except block\n",
      "Outer finally block\n"
     ]
    }
   ],
   "source": [
    "try:\n",
    "    print('Outer try block')\n",
    "    try:\n",
    "        print('inner try block')\n",
    "        print(10/0)\n",
    "    except ValueError:\n",
    "        print('Inner except block')\n",
    "    finally:\n",
    "        print('Inner finally block')\n",
    "except ZeroDivisionError:\n",
    "    print('Outer except block')\n",
    "finally:\n",
    "    print('Outer finally block')"
   ]
  },
  {
   "cell_type": "code",
   "execution_count": null,
   "id": "ff9ca02d",
   "metadata": {},
   "outputs": [],
   "source": []
  }
 ],
 "metadata": {
  "kernelspec": {
   "display_name": "Python 3 (ipykernel)",
   "language": "python",
   "name": "python3"
  },
  "language_info": {
   "codemirror_mode": {
    "name": "ipython",
    "version": 3
   },
   "file_extension": ".py",
   "mimetype": "text/x-python",
   "name": "python",
   "nbconvert_exporter": "python",
   "pygments_lexer": "ipython3",
   "version": "3.11.4"
  }
 },
 "nbformat": 4,
 "nbformat_minor": 5
}
