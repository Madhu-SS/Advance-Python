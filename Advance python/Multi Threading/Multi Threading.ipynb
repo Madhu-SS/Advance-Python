{
 "cells": [
  {
   "cell_type": "markdown",
   "id": "bc3dcc14",
   "metadata": {},
   "source": [
    "#### Types\n",
    "* Process based multi tasking.\n",
    "* Thread based multi tasking.\n",
    "\n",
    "#### 1 Process based multi tasking\n",
    "Each task is a separate independent process\n",
    "* Typing a Python program in the editor\n",
    "* Listening audio songs from the same system\n",
    "* Downloading new songs form the internet\n",
    "\n",
    "eg:-os level\n",
    "\n",
    "#### 2 Thread based multi tasking.\n",
    "Each task is an independent part of same program\n",
    "\n",
    "eg:-gmail"
   ]
  },
  {
   "cell_type": "markdown",
   "id": "815aa7b5",
   "metadata": {},
   "source": [
    "Python as a inbulilt library called threading.\n",
    "\n",
    "In python by default only one thread will be there,that thread is called main thread"
   ]
  },
  {
   "cell_type": "code",
   "execution_count": 1,
   "id": "4c586836",
   "metadata": {},
   "outputs": [],
   "source": [
    "import threading"
   ]
  },
  {
   "cell_type": "code",
   "execution_count": 2,
   "id": "253c3d54",
   "metadata": {},
   "outputs": [
    {
     "name": "stdout",
     "output_type": "stream",
     "text": [
      "current executing thread: MainThread\n"
     ]
    },
    {
     "name": "stderr",
     "output_type": "stream",
     "text": [
      "C:\\Users\\Hp\\AppData\\Local\\Temp\\ipykernel_2520\\2825365325.py:1: DeprecationWarning: getName() is deprecated, get the name attribute instead\n",
      "  print('current executing thread:',threading.current_thread().getName())\n"
     ]
    }
   ],
   "source": [
    "print('current executing thread:',threading.current_thread().getName())"
   ]
  },
  {
   "cell_type": "markdown",
   "id": "684addd0",
   "metadata": {},
   "source": [
    "#### 3 ways can create multi threading\n",
    "* Creating a thread without using any class.\n",
    "* Creating a thread by extending Thread class.\n",
    "* Creating a thread without extending Thread class."
   ]
  },
  {
   "cell_type": "code",
   "execution_count": 3,
   "id": "2d316021",
   "metadata": {},
   "outputs": [
    {
     "name": "stdout",
     "output_type": "stream",
     "text": [
      "Child Thread\n",
      "Child Thread\n",
      "Child Thread\n",
      "Child Thread\n",
      "Child Thread\n",
      "Child Thread\n",
      "Child Thread\n",
      "Child Thread\n",
      "Child Thread\n",
      "Child Thread\n",
      "Main thread\n",
      "Main thread\n",
      "Main thread\n",
      "Main thread\n",
      "Main thread\n",
      "Main thread\n",
      "Main thread\n",
      "Main thread\n",
      "Main thread\n",
      "Main thread\n"
     ]
    }
   ],
   "source": [
    "from threading import *\n",
    "def display():\n",
    "    for i in range(10):\n",
    "        print('Child Thread')\n",
    "        \n",
    "t=Thread(target=display) # creating of thread object to execute display function\n",
    "t.start()\n",
    "\n",
    "for i in range(10):\n",
    "    print('Main thread')\n",
    "# both will be execute simultaneously\n",
    "# you cant able to predict the output\n",
    "# if jobs are independent then only we go for multi threading"
   ]
  },
  {
   "cell_type": "code",
   "execution_count": 4,
   "id": "8d3ebf87",
   "metadata": {},
   "outputs": [
    {
     "name": "stdout",
     "output_type": "stream",
     "text": [
      "Child Thread name: Thread-6 (display)\n",
      "Main thread name: MainThread\n"
     ]
    },
    {
     "name": "stderr",
     "output_type": "stream",
     "text": [
      "C:\\Users\\Hp\\AppData\\Local\\Temp\\ipykernel_2520\\3965964865.py:3: DeprecationWarning: getName() is deprecated, get the name attribute instead\n",
      "  print('Child Thread name:',current_thread().getName())\n",
      "C:\\Users\\Hp\\AppData\\Local\\Temp\\ipykernel_2520\\3965964865.py:7: DeprecationWarning: getName() is deprecated, get the name attribute instead\n",
      "  print('Main thread name:',current_thread().getName())\n"
     ]
    }
   ],
   "source": [
    "from threading import *\n",
    "def display():\n",
    "    print('Child Thread name:',current_thread().getName())\n",
    "        \n",
    "t=Thread(target=display)\n",
    "t.start()\n",
    "print('Main thread name:',current_thread().getName())"
   ]
  },
  {
   "cell_type": "code",
   "execution_count": 5,
   "id": "fbf98860",
   "metadata": {},
   "outputs": [
    {
     "name": "stdout",
     "output_type": "stream",
     "text": [
      "Child ThreadMain Thread\n",
      "Child Thread\n",
      "Child Thread\n",
      "Child Thread\n",
      "Child Thread\n",
      "Child Thread\n",
      "Child Thread\n",
      "Child Thread\n",
      "Child Thread\n",
      "Child Thread\n",
      "\n",
      "Main Thread\n",
      "Main Thread\n",
      "Main Thread\n",
      "Main Thread\n",
      "Main Thread\n",
      "Main Thread\n",
      "Main Thread\n",
      "Main Thread\n",
      "Main Thread\n"
     ]
    }
   ],
   "source": [
    "from threading import *\n",
    "class MyThread(Thread):\n",
    "    def run(slef):\n",
    "        for i in range(10):\n",
    "            print('Child Thread')\n",
    "            \n",
    "t=MyThread()\n",
    "t.start()\n",
    "for i in range(10):\n",
    "    print('Main Thread')"
   ]
  },
  {
   "cell_type": "code",
   "execution_count": 6,
   "id": "d5faa603",
   "metadata": {},
   "outputs": [
    {
     "name": "stdout",
     "output_type": "stream",
     "text": [
      "Child ThreadMain Thread\n",
      "Main Thread\n",
      "Main Thread\n",
      "Main Thread\n",
      "Main Thread\n",
      "Main Thread\n",
      "Main Thread\n",
      "Main Thread\n",
      "Main Thread\n",
      "Main Thread\n",
      "\n",
      "Child Thread\n",
      "Child Thread\n",
      "Child Thread\n",
      "Child Thread\n",
      "Child Thread\n",
      "Child Thread\n",
      "Child Thread\n",
      "Child Thread\n",
      "Child Thread\n"
     ]
    }
   ],
   "source": [
    "from threading import *\n",
    "class Test:\n",
    "    def m1(self):\n",
    "        for i in range(10):\n",
    "            print('Child Thread')\n",
    "            \n",
    "obj=Test()\n",
    "t=Thread(target=obj.m1)\n",
    "t.start()\n",
    "for i in range(10):\n",
    "    print('Main Thread')"
   ]
  },
  {
   "cell_type": "code",
   "execution_count": 7,
   "id": "83c3c1ad",
   "metadata": {},
   "outputs": [
    {
     "name": "stdout",
     "output_type": "stream",
     "text": [
      "Double Value: 2\n",
      "Double Value: 4\n",
      "Double Value: 6\n",
      "Double Value: 8\n",
      "Double Value: 10\n",
      "Double Value: 12\n",
      "Square Value: 1\n",
      "Square Value: 4\n",
      "Square Value: 9\n",
      "Square Value: 16\n",
      "Square Value: 25\n",
      "Square Value: 36\n",
      "The total Time Taken: 12.010813474655151\n"
     ]
    }
   ],
   "source": [
    "import time\n",
    "def doubles(numbers):\n",
    "    for n in numbers:\n",
    "        time.sleep(1)\n",
    "        print('Double Value:',2*n)\n",
    "        \n",
    "def squares(numbers):\n",
    "    for n in numbers:\n",
    "        time.sleep(1)\n",
    "        print('Square Value:',n*n)\n",
    "        \n",
    "numbers=[1,2,3,4,5,6]\n",
    "begintime=time.time()\n",
    "doubles(numbers)\n",
    "squares(numbers)\n",
    "endtime=time.time()\n",
    "print('The total Time Taken:',endtime-begintime)"
   ]
  },
  {
   "cell_type": "code",
   "execution_count": 8,
   "id": "e86b0991",
   "metadata": {},
   "outputs": [
    {
     "name": "stdout",
     "output_type": "stream",
     "text": [
      "Double Value: 2\n",
      "Square Value: 1\n",
      "Square Value: 4\n",
      "Double Value: 4\n",
      "Square Value: 9\n",
      "Double Value: 6\n",
      "Square Value: 16\n",
      "Double Value: 8\n",
      "Square Value: 25\n",
      "Double Value: 10\n",
      "Square Value: 36\n",
      "Double Value: 12\n",
      "The total Time Taken: 6.017570495605469\n"
     ]
    }
   ],
   "source": [
    "from threading import *\n",
    "import time\n",
    "def doubles(numbers):\n",
    "    for n in numbers:\n",
    "        time.sleep(1)\n",
    "        print('Double Value:',2*n)\n",
    "        \n",
    "\n",
    "        \n",
    "def squares(numbers):\n",
    "    for n in numbers:\n",
    "        time.sleep(1)\n",
    "        print('Square Value:',n*n)\n",
    "        \n",
    "numbers=[1,2,3,4,5,6]\n",
    "begintime=time.time()\n",
    "t1=Thread(target=doubles,args=(numbers,))\n",
    "t2=Thread(target=squares,args=(numbers,))\n",
    "t1.start()\n",
    "t2.start()\n",
    "t1.join()\n",
    "t2.join()\n",
    "endtime=time.time()\n",
    "print('The total Time Taken:',endtime-begintime)"
   ]
  },
  {
   "cell_type": "markdown",
   "id": "ddb9d252",
   "metadata": {},
   "source": [
    "#### setting and getting Thread Name:"
   ]
  },
  {
   "cell_type": "code",
   "execution_count": 9,
   "id": "46be51e6",
   "metadata": {},
   "outputs": [
    {
     "name": "stderr",
     "output_type": "stream",
     "text": [
      "C:\\Users\\Hp\\AppData\\Local\\Temp\\ipykernel_2520\\380418116.py:1: DeprecationWarning: getName() is deprecated, get the name attribute instead\n",
      "  t1.getName()\n"
     ]
    },
    {
     "data": {
      "text/plain": [
       "'Thread-9 (doubles)'"
      ]
     },
     "execution_count": 9,
     "metadata": {},
     "output_type": "execute_result"
    }
   ],
   "source": [
    "t1.getName()"
   ]
  },
  {
   "cell_type": "code",
   "execution_count": 10,
   "id": "9cf7c5e1",
   "metadata": {},
   "outputs": [
    {
     "name": "stderr",
     "output_type": "stream",
     "text": [
      "C:\\Users\\Hp\\AppData\\Local\\Temp\\ipykernel_2520\\1952874269.py:1: DeprecationWarning: getName() is deprecated, get the name attribute instead\n",
      "  t2.getName()\n"
     ]
    },
    {
     "data": {
      "text/plain": [
       "'Thread-10 (squares)'"
      ]
     },
     "execution_count": 10,
     "metadata": {},
     "output_type": "execute_result"
    }
   ],
   "source": [
    "t2.getName()"
   ]
  },
  {
   "cell_type": "code",
   "execution_count": 11,
   "id": "d7550662",
   "metadata": {},
   "outputs": [
    {
     "name": "stderr",
     "output_type": "stream",
     "text": [
      "C:\\Users\\Hp\\AppData\\Local\\Temp\\ipykernel_2520\\2246295808.py:1: DeprecationWarning: setName() is deprecated, set the name attribute instead\n",
      "  t1.setName('firstthread')\n"
     ]
    }
   ],
   "source": [
    "t1.setName('firstthread')"
   ]
  },
  {
   "cell_type": "code",
   "execution_count": 12,
   "id": "5c0e0d41",
   "metadata": {},
   "outputs": [
    {
     "name": "stderr",
     "output_type": "stream",
     "text": [
      "C:\\Users\\Hp\\AppData\\Local\\Temp\\ipykernel_2520\\380418116.py:1: DeprecationWarning: getName() is deprecated, get the name attribute instead\n",
      "  t1.getName()\n"
     ]
    },
    {
     "data": {
      "text/plain": [
       "'firstthread'"
      ]
     },
     "execution_count": 12,
     "metadata": {},
     "output_type": "execute_result"
    }
   ],
   "source": [
    "t1.getName()"
   ]
  },
  {
   "cell_type": "markdown",
   "id": "bd68e8e6",
   "metadata": {},
   "source": [
    "#### Thread Identification Number:\n",
    "by using implict variable: 'ident'"
   ]
  },
  {
   "cell_type": "code",
   "execution_count": 13,
   "id": "ddf9a50d",
   "metadata": {},
   "outputs": [
    {
     "name": "stdout",
     "output_type": "stream",
     "text": [
      "child Thread\n"
     ]
    }
   ],
   "source": [
    "from threading import *\n",
    "def test():\n",
    "    print('child Thread')\n",
    "\n",
    "t=Thread(target=test)\n",
    "t.start()"
   ]
  },
  {
   "cell_type": "code",
   "execution_count": 14,
   "id": "4896e846",
   "metadata": {},
   "outputs": [
    {
     "data": {
      "text/plain": [
       "14928"
      ]
     },
     "execution_count": 14,
     "metadata": {},
     "output_type": "execute_result"
    }
   ],
   "source": [
    "t.ident"
   ]
  },
  {
   "cell_type": "code",
   "execution_count": 15,
   "id": "61da512a",
   "metadata": {},
   "outputs": [
    {
     "name": "stdout",
     "output_type": "stream",
     "text": [
      "Main Thread Identification Number: 280\n"
     ]
    }
   ],
   "source": [
    "print('Main Thread Identification Number:',current_thread().ident)"
   ]
  },
  {
   "cell_type": "markdown",
   "id": "580219b3",
   "metadata": {},
   "source": [
    "#### active_count():"
   ]
  },
  {
   "cell_type": "code",
   "execution_count": 16,
   "id": "fc8b3ed5",
   "metadata": {},
   "outputs": [
    {
     "name": "stdout",
     "output_type": "stream",
     "text": [
      "The number of active threads: 6\n",
      "ChildThread-1 .....started\n",
      "ChildThread-2 .....started\n",
      "ChildThread-3 .....started\n",
      "The number of active Threads: 9\n",
      "ChildThread-1ChildThread-2 ......ended\n",
      "ChildThread-3 ......ended\n",
      " ......ended\n",
      "The number of active Threads: 6\n"
     ]
    }
   ],
   "source": [
    "from threading import *\n",
    "import time\n",
    "def display():\n",
    "    print(current_thread().name,'.....started')\n",
    "    time.sleep(3)\n",
    "    print(current_thread().name,'......ended')\n",
    "print(\"The number of active threads:\",active_count())\n",
    "t1=Thread(target=display,name='ChildThread-1')\n",
    "t2=Thread(target=display,name='ChildThread-2')\n",
    "t3=Thread(target=display,name='ChildThread-3')\n",
    "t1.start()\n",
    "t2.start()\n",
    "t3.start()\n",
    "print('The number of active Threads:',active_count())\n",
    "time.sleep(10)\n",
    "print('The number of active Threads:',active_count())"
   ]
  },
  {
   "cell_type": "code",
   "execution_count": 17,
   "id": "fd07b28c",
   "metadata": {},
   "outputs": [
    {
     "name": "stdout",
     "output_type": "stream",
     "text": [
      "Thread Name: MainThread\n",
      "Thread Identification Number: 280\n",
      "Thread Name: IOPub\n",
      "Thread Identification Number: 9120\n",
      "Thread Name: Heartbeat\n",
      "Thread Identification Number: 9240\n",
      "Thread Name: Control\n",
      "Thread Identification Number: 6812\n",
      "Thread Name: IPythonHistorySavingThread\n",
      "Thread Identification Number: 2784\n",
      "Thread Name: Thread-4\n",
      "Thread Identification Number: 13672\n"
     ]
    }
   ],
   "source": [
    "l=enumerate()\n",
    "for t in l:\n",
    "    print('Thread Name:',t.name)\n",
    "    print('Thread Identification Number:',t.ident)"
   ]
  },
  {
   "cell_type": "markdown",
   "id": "d9e6926d",
   "metadata": {},
   "source": [
    "#### Is Alive"
   ]
  },
  {
   "cell_type": "code",
   "execution_count": 18,
   "id": "a32128dd",
   "metadata": {},
   "outputs": [
    {
     "data": {
      "text/plain": [
       "False"
      ]
     },
     "execution_count": 18,
     "metadata": {},
     "output_type": "execute_result"
    }
   ],
   "source": [
    "t1.is_alive()"
   ]
  },
  {
   "cell_type": "code",
   "execution_count": 19,
   "id": "082750c9",
   "metadata": {},
   "outputs": [
    {
     "data": {
      "text/plain": [
       "False"
      ]
     },
     "execution_count": 19,
     "metadata": {},
     "output_type": "execute_result"
    }
   ],
   "source": [
    "t2.is_alive()"
   ]
  },
  {
   "cell_type": "code",
   "execution_count": 20,
   "id": "8479d53f",
   "metadata": {},
   "outputs": [
    {
     "name": "stdout",
     "output_type": "stream",
     "text": [
      "ChildThread-1 .....started\n",
      "ChildThread-2 .....started\n",
      "ChildThread-3 .....started\n",
      "ChildThread-1 is Alive True\n",
      "ChildThread-2 is Alive True\n",
      "ChildThread-3 is Alive True\n"
     ]
    }
   ],
   "source": [
    "from threading import *\n",
    "import time\n",
    "def display():\n",
    "    print(current_thread().name,'.....started')\n",
    "    time.sleep(3)\n",
    "    print(current_thread().name,'......ended')\n",
    "\n",
    "t1=Thread(target=display,name='ChildThread-1')\n",
    "t2=Thread(target=display,name='ChildThread-2')\n",
    "t3=Thread(target=display,name='ChildThread-3')\n",
    "t1.start()\n",
    "t2.start()\n",
    "t3.start()\n",
    "print(t1.name,'is Alive',t1.is_alive())\n",
    "print(t2.name,'is Alive',t2.is_alive())\n",
    "print(t3.name,'is Alive',t3.is_alive())"
   ]
  },
  {
   "cell_type": "markdown",
   "id": "7bf541fe",
   "metadata": {},
   "source": [
    "#### join() method:\n",
    "if a thread wants to wait for another thread to complete then we go for join method.\n",
    "\n",
    "eg:\n",
    "\n",
    "Venue fixing(t1)\n",
    "\n",
    "wedding cards printing(t2)\n",
    "\n",
    "wedding cards distribution(t3)\n",
    "\n",
    "here t2 has to wait for t1 to complete\n",
    "\n",
    "therfore we use t1.join()\n",
    "\n",
    "next t3 has to wait for t2 to complete\n",
    "\n",
    "therfore we use t2.join()"
   ]
  },
  {
   "cell_type": "code",
   "execution_count": 21,
   "id": "81373340",
   "metadata": {},
   "outputs": [
    {
     "name": "stdout",
     "output_type": "stream",
     "text": [
      "Seetha ThreadRama Thread\n",
      "Rama Thread\n",
      "Rama Thread\n",
      "Rama Thread\n",
      "Rama Thread\n",
      "Rama Thread\n",
      "Rama Thread\n",
      "Rama Thread\n",
      "Rama Thread\n",
      "Rama Thread\n",
      "\n"
     ]
    }
   ],
   "source": [
    "from threading import *\n",
    "import time\n",
    "def display():\n",
    "    for i in range(10):\n",
    "        print('Seetha Thread')\n",
    "        time.sleep(3)\n",
    "        \n",
    "t=Thread(target=display)\n",
    "t.start()\n",
    "\n",
    "for i in range(10):\n",
    "    print('Rama Thread')"
   ]
  },
  {
   "cell_type": "code",
   "execution_count": 22,
   "id": "124549da",
   "metadata": {},
   "outputs": [
    {
     "name": "stdout",
     "output_type": "stream",
     "text": [
      "Seetha Thread\n",
      "ChildThread-2ChildThread-1 ......ended\n",
      " ......ended\n",
      "ChildThread-3 ......ended\n",
      "Seetha Thread\n",
      "Seetha Thread\n",
      "Seetha Thread\n",
      "Seetha Thread\n",
      "Seetha Thread\n",
      "Seetha Thread\n",
      "Seetha Thread\n",
      "Seetha Thread\n",
      "Seetha Thread\n",
      "Seetha Thread\n",
      "Seetha Thread\n",
      "Seetha Thread\n",
      "Seetha Thread\n",
      "Seetha Thread\n",
      "Seetha Thread\n",
      "Seetha Thread\n",
      "Seetha Thread\n",
      "Seetha Thread\n",
      "Rama Thread\n",
      "Rama Thread\n",
      "Rama Thread\n",
      "Rama Thread\n",
      "Rama Thread\n",
      "Rama Thread\n",
      "Rama Thread\n",
      "Rama Thread\n",
      "Rama Thread\n",
      "Rama Thread\n"
     ]
    }
   ],
   "source": [
    "from threading import *\n",
    "import time\n",
    "def display():\n",
    "    for i in range(10):\n",
    "        print('Seetha Thread')\n",
    "        time.sleep(3)\n",
    "        \n",
    "t=Thread(target=display)\n",
    "t.start()\n",
    "t.join()\n",
    "\n",
    "for i in range(10):\n",
    "    print('Rama Thread')"
   ]
  },
  {
   "cell_type": "code",
   "execution_count": 23,
   "id": "eb8f7f7c",
   "metadata": {},
   "outputs": [
    {
     "name": "stdout",
     "output_type": "stream",
     "text": [
      "Seetha Thread\n",
      "Seetha Thread\n",
      "Seetha Thread\n",
      "Seetha Thread\n",
      "Rama Thread\n",
      "Rama Thread\n",
      "Rama Thread\n",
      "Rama Thread\n",
      "Rama Thread\n",
      "Rama Thread\n",
      "Rama Thread\n",
      "Rama Thread\n",
      "Rama Thread\n",
      "Rama Thread\n"
     ]
    }
   ],
   "source": [
    "from threading import *\n",
    "import time\n",
    "def display():\n",
    "    for i in range(10):\n",
    "        print('Seetha Thread')\n",
    "        time.sleep(3)\n",
    "        \n",
    "t=Thread(target=display)\n",
    "t.start()\n",
    "t.join(10)# wait only 10seconds\n",
    "\n",
    "for i in range(10):\n",
    "    print('Rama Thread')"
   ]
  },
  {
   "cell_type": "markdown",
   "id": "28bb6f6a",
   "metadata": {},
   "source": [
    "#### Daemon Threads\n",
    "background excicuting threads are called Daemon Threads\n",
    "\n",
    "* The main purpose is to provide support for non-daemon threads(main thread).\n",
    "* eg:- Garbage Collector.\n",
    "* suddenly main thread is facing memory problem, immideately python vartual machine excecute garbage collector.\n",
    "* Once thread started we cannot change its Daemon nature.\n",
    "* If the parent thread is daemon then child thraed also daemon.\n",
    "* to check the given thread is demon or not.\n",
    "  * t.is Daemon\n",
    "  * t.daemon"
   ]
  },
  {
   "cell_type": "code",
   "execution_count": 24,
   "id": "228d3e6f",
   "metadata": {},
   "outputs": [
    {
     "name": "stdout",
     "output_type": "stream",
     "text": [
      "False\n",
      "False\n"
     ]
    },
    {
     "name": "stderr",
     "output_type": "stream",
     "text": [
      "C:\\Users\\Hp\\AppData\\Local\\Temp\\ipykernel_2520\\469187512.py:3: DeprecationWarning: isDaemon() is deprecated, get the daemon attribute instead\n",
      "  print(mt.isDaemon())\n"
     ]
    }
   ],
   "source": [
    "from threading import *\n",
    "mt=current_thread()\n",
    "print(mt.isDaemon())\n",
    "print(mt.daemon)\n"
   ]
  },
  {
   "cell_type": "code",
   "execution_count": 25,
   "id": "77587b4c",
   "metadata": {},
   "outputs": [
    {
     "name": "stderr",
     "output_type": "stream",
     "text": [
      "C:\\Users\\Hp\\AppData\\Local\\Temp\\ipykernel_2520\\1386011026.py:2: DeprecationWarning: setDaemon() is deprecated, set the daemon attribute instead\n",
      "  mt.setDaemon(True)\n"
     ]
    },
    {
     "ename": "RuntimeError",
     "evalue": "cannot set daemon status of active thread",
     "output_type": "error",
     "traceback": [
      "\u001b[1;31m---------------------------------------------------------------------------\u001b[0m",
      "\u001b[1;31mRuntimeError\u001b[0m                              Traceback (most recent call last)",
      "Cell \u001b[1;32mIn[25], line 2\u001b[0m\n\u001b[0;32m      1\u001b[0m \u001b[38;5;66;03m#Once thread started we cannot change its Daemon nature.\u001b[39;00m\n\u001b[1;32m----> 2\u001b[0m mt\u001b[38;5;241m.\u001b[39msetDaemon(\u001b[38;5;28;01mTrue\u001b[39;00m)\n",
      "File \u001b[1;32m~\\anaconda3\\Lib\\threading.py:1242\u001b[0m, in \u001b[0;36mThread.setDaemon\u001b[1;34m(self, daemonic)\u001b[0m\n\u001b[0;32m   1239\u001b[0m \u001b[38;5;28;01mimport\u001b[39;00m \u001b[38;5;21;01mwarnings\u001b[39;00m\n\u001b[0;32m   1240\u001b[0m warnings\u001b[38;5;241m.\u001b[39mwarn(\u001b[38;5;124m'\u001b[39m\u001b[38;5;124msetDaemon() is deprecated, set the daemon attribute instead\u001b[39m\u001b[38;5;124m'\u001b[39m,\n\u001b[0;32m   1241\u001b[0m               \u001b[38;5;167;01mDeprecationWarning\u001b[39;00m, stacklevel\u001b[38;5;241m=\u001b[39m\u001b[38;5;241m2\u001b[39m)\n\u001b[1;32m-> 1242\u001b[0m \u001b[38;5;28mself\u001b[39m\u001b[38;5;241m.\u001b[39mdaemon \u001b[38;5;241m=\u001b[39m daemonic\n",
      "File \u001b[1;32m~\\anaconda3\\Lib\\threading.py:1219\u001b[0m, in \u001b[0;36mThread.daemon\u001b[1;34m(self, daemonic)\u001b[0m\n\u001b[0;32m   1217\u001b[0m     \u001b[38;5;28;01mraise\u001b[39;00m \u001b[38;5;167;01mRuntimeError\u001b[39;00m(\u001b[38;5;124m\"\u001b[39m\u001b[38;5;124mThread.__init__() not called\u001b[39m\u001b[38;5;124m\"\u001b[39m)\n\u001b[0;32m   1218\u001b[0m \u001b[38;5;28;01mif\u001b[39;00m \u001b[38;5;28mself\u001b[39m\u001b[38;5;241m.\u001b[39m_started\u001b[38;5;241m.\u001b[39mis_set():\n\u001b[1;32m-> 1219\u001b[0m     \u001b[38;5;28;01mraise\u001b[39;00m \u001b[38;5;167;01mRuntimeError\u001b[39;00m(\u001b[38;5;124m\"\u001b[39m\u001b[38;5;124mcannot set daemon status of active thread\u001b[39m\u001b[38;5;124m\"\u001b[39m)\n\u001b[0;32m   1220\u001b[0m \u001b[38;5;28mself\u001b[39m\u001b[38;5;241m.\u001b[39m_daemonic \u001b[38;5;241m=\u001b[39m daemonic\n",
      "\u001b[1;31mRuntimeError\u001b[0m: cannot set daemon status of active thread"
     ]
    }
   ],
   "source": [
    "#Once thread started we cannot change its Daemon nature.\n",
    "mt.setDaemon(True)"
   ]
  },
  {
   "cell_type": "code",
   "execution_count": 26,
   "id": "5ec3ce36",
   "metadata": {},
   "outputs": [
    {
     "name": "stdout",
     "output_type": "stream",
     "text": [
      "False\n",
      "True\n"
     ]
    },
    {
     "name": "stderr",
     "output_type": "stream",
     "text": [
      "C:\\Users\\Hp\\AppData\\Local\\Temp\\ipykernel_2520\\1338748967.py:6: DeprecationWarning: isDaemon() is deprecated, get the daemon attribute instead\n",
      "  print(t.isDaemon())\n",
      "C:\\Users\\Hp\\AppData\\Local\\Temp\\ipykernel_2520\\1338748967.py:7: DeprecationWarning: setDaemon() is deprecated, set the daemon attribute instead\n",
      "  t.setDaemon(True)\n",
      "C:\\Users\\Hp\\AppData\\Local\\Temp\\ipykernel_2520\\1338748967.py:8: DeprecationWarning: isDaemon() is deprecated, get the daemon attribute instead\n",
      "  print(t.isDaemon())\n"
     ]
    }
   ],
   "source": [
    "from threading import *\n",
    "def job():\n",
    "    print('Executed by child thread')\n",
    "    \n",
    "t=Thread(target=job)\n",
    "print(t.isDaemon())\n",
    "t.setDaemon(True)\n",
    "print(t.isDaemon())"
   ]
  },
  {
   "cell_type": "code",
   "execution_count": 27,
   "id": "b32cd577",
   "metadata": {},
   "outputs": [
    {
     "name": "stdout",
     "output_type": "stream",
     "text": [
      "t1 is Daemon False\n",
      "Executed by t1\n",
      "t2 is Daemon False\n",
      "Executed by t2\n"
     ]
    },
    {
     "name": "stderr",
     "output_type": "stream",
     "text": [
      "C:\\Users\\Hp\\AppData\\Local\\Temp\\ipykernel_2520\\3905607476.py:12: DeprecationWarning: isDaemon() is deprecated, get the daemon attribute instead\n",
      "  print('t1 is Daemon',t1.isDaemon())\n",
      "C:\\Users\\Hp\\AppData\\Local\\Temp\\ipykernel_2520\\3905607476.py:5: DeprecationWarning: isDaemon() is deprecated, get the daemon attribute instead\n",
      "  print('t2 is Daemon',t2.isDaemon())\n"
     ]
    }
   ],
   "source": [
    "from threading import *\n",
    "def job1():\n",
    "    print('Executed by t1')\n",
    "    t2=Thread(target=job2)\n",
    "    print('t2 is Daemon',t2.isDaemon())\n",
    "    t2.start()\n",
    "    \n",
    "def job2():\n",
    "    print('Executed by t2')\n",
    "    \n",
    "t1=Thread(target=job1)\n",
    "print('t1 is Daemon',t1.isDaemon())\n",
    "t1.start()"
   ]
  },
  {
   "cell_type": "code",
   "execution_count": 28,
   "id": "c064ab79",
   "metadata": {},
   "outputs": [
    {
     "name": "stderr",
     "output_type": "stream",
     "text": [
      "C:\\Users\\Hp\\AppData\\Local\\Temp\\ipykernel_2520\\866150274.py:12: DeprecationWarning: setDaemon() is deprecated, set the daemon attribute instead\n",
      "  t1.setDaemon(True)\n",
      "C:\\Users\\Hp\\AppData\\Local\\Temp\\ipykernel_2520\\866150274.py:13: DeprecationWarning: isDaemon() is deprecated, get the daemon attribute instead\n",
      "  print('t1 is Daemon',t1.isDaemon())\n"
     ]
    },
    {
     "name": "stdout",
     "output_type": "stream",
     "text": [
      "t1 is Daemon True\n",
      "Executed by t1\n",
      "t2 is Daemon True\n",
      "Executed by t2\n"
     ]
    },
    {
     "name": "stderr",
     "output_type": "stream",
     "text": [
      "C:\\Users\\Hp\\AppData\\Local\\Temp\\ipykernel_2520\\866150274.py:5: DeprecationWarning: isDaemon() is deprecated, get the daemon attribute instead\n",
      "  print('t2 is Daemon',t2.isDaemon())\n"
     ]
    }
   ],
   "source": [
    "from threading import *\n",
    "def job1():\n",
    "    print('Executed by t1')\n",
    "    t2=Thread(target=job2)\n",
    "    print('t2 is Daemon',t2.isDaemon())\n",
    "    t2.start()\n",
    "    \n",
    "def job2():\n",
    "    print('Executed by t2')\n",
    "    \n",
    "t1=Thread(target=job1)\n",
    "t1.setDaemon(True)\n",
    "print('t1 is Daemon',t1.isDaemon())\n",
    "t1.start()"
   ]
  },
  {
   "cell_type": "markdown",
   "id": "e6dca43d",
   "metadata": {},
   "source": [
    "#### Advantages\n",
    "* Whenever last non-daemon thread terminates automatically all daemon threads will be terminated we are not required to terminate explicitly.\n",
    "* eg:-\n",
    "  * car game:\n",
    "  * Cars------->non daemon\n",
    "  * background sceneries------>daemon\n",
    "* -----------------------------------------\n",
    "  * cinema shooting:\n",
    "  * hero,heroins-------->non daemon\n",
    "  * make up------------>daemon"
   ]
  },
  {
   "cell_type": "code",
   "execution_count": 32,
   "id": "08b2410e",
   "metadata": {},
   "outputs": [
    {
     "name": "stdout",
     "output_type": "stream",
     "text": [
      "Lazy Thread\n",
      "Lazy Thread\n",
      "Lazy Thread\n",
      "Lazy Thread\n",
      "Lazy Thread\n",
      "End of main thread\n",
      "Lazy Thread\n",
      "Lazy Thread\n",
      "Lazy Thread\n",
      "Lazy Thread\n",
      "Lazy Thread\n"
     ]
    }
   ],
   "source": [
    "from threading import *\n",
    "import time\n",
    "def job():\n",
    "    for i in range(10):\n",
    "        print('Lazy Thread')\n",
    "        time.sleep(2)\n",
    "        \n",
    "t=Thread(target=job)\n",
    "t.start()\n",
    "time.sleep(10)\n",
    "print('End of main thread')"
   ]
  },
  {
   "cell_type": "code",
   "execution_count": null,
   "id": "c22b6585",
   "metadata": {},
   "outputs": [],
   "source": [
    "from threading import *\n",
    "import time\n",
    "def job1():\n",
    "    for i in range(10):\n",
    "        print('Lazy Thread')\n",
    "        time.sleep(2)\n",
    "        \n",
    "t2=Thread(target=job1)\n",
    "t2.setDaemon(True)\n",
    "t2.start()\n",
    "time.sleep(10)\n",
    "print('End of main thread')"
   ]
  },
  {
   "cell_type": "markdown",
   "id": "88a2aaeb",
   "metadata": {},
   "source": [
    "<string>:9: DeprecationWarning: setDaemon() is deprecated, set the daemon attribute instead\n",
    "    \n",
    "Lazy Thread\n",
    "    \n",
    "Lazy Thread\n",
    "    \n",
    "Lazy Thread\n",
    "    \n",
    "Lazy Thread\n",
    "    \n",
    "Lazy Thread\n",
    "    \n",
    "End of main thread\n",
    "    \n",
    "> "
   ]
  },
  {
   "cell_type": "code",
   "execution_count": null,
   "id": "0dfbfbfc",
   "metadata": {},
   "outputs": [],
   "source": []
  }
 ],
 "metadata": {
  "kernelspec": {
   "display_name": "Python 3 (ipykernel)",
   "language": "python",
   "name": "python3"
  },
  "language_info": {
   "codemirror_mode": {
    "name": "ipython",
    "version": 3
   },
   "file_extension": ".py",
   "mimetype": "text/x-python",
   "name": "python",
   "nbconvert_exporter": "python",
   "pygments_lexer": "ipython3",
   "version": "3.11.4"
  }
 },
 "nbformat": 4,
 "nbformat_minor": 5
}
